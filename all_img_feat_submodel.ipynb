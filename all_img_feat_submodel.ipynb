{
 "cells": [
  {
   "cell_type": "code",
   "execution_count": 1,
   "metadata": {},
   "outputs": [
    {
     "name": "stderr",
     "output_type": "stream",
     "text": [
      "2022-01-28 16:08:31.206393: I tensorflow/stream_executor/platform/default/dso_loader.cc:49] Successfully opened dynamic library libcudart.so.11.0\n"
     ]
    }
   ],
   "source": [
    "# conda install -c rapidsai -c nvidia -c conda-forge dask-cuda cudatoolkit=11.6\n",
    "# nvidia-smi\n",
    "from sklearn.model_selection import train_test_split, KFold\n",
    "import dask.dataframe as dd\n",
    "import dask.multiprocessing\n",
    "import dask\n",
    "import numpy as np\n",
    "from dask import delayed\n",
    "import dask_image.imread\n",
    "import dask_image.ndfilters\n",
    "import dask_image.ndmeasure\n",
    "import cv2\n",
    "from glob import glob\n",
    "import json\n",
    "import dask.array as da\n",
    "import time\n",
    "import xgboost as xgb\n",
    "import pandas as pd\n",
    "import os\n",
    "from dask import compute\n",
    "from sklearn.metrics import f1_score\n",
    "# f1_score(y_true, y_pred, average=[‘micro’, ‘macro’, ‘samples’,’weighted’ 중 하나 선택])\n",
    "import tensorflow as tf\n",
    "\n",
    "@delayed\n",
    "def padding(data, array_len, col_len):\n",
    "    pad = np.zeros((array_len, col_len))\n",
    "    length = min(array_len, len(data))\n",
    "    \n",
    "    pad[:length] = data[:length]\n",
    "    return pad\n",
    "\n",
    "@delayed\n",
    "def img_resize(img):\n",
    "    img = cv2.resize(img, dsize=(224, 224), interpolation=cv2.INTER_AREA)\n",
    "    img = img.astype(np.float32)/255\n",
    "    return img\n",
    "\n",
    "path = os.getcwd()\n",
    "csv_features = ['내부 온도 1 평균', '내부 온도 1 최고', '내부 온도 1 최저', '내부 습도 1 평균', '내부 습도 1 최고', \n",
    "                '내부 습도 1 최저', '내부 이슬점 평균', '내부 이슬점 최고', '내부 이슬점 최저']\n",
    "\n",
    "# from dask.distributed import Client, LocalCluster\n",
    "# # client.close()\n",
    "# cluster = LocalCluster()\n",
    "# client = Client(cluster)\n",
    "# print(cluster,client)\n",
    "# client.close()\n",
    "# http://localhost:8787/status\n",
    "\n",
    "# from dask_cuda import LocalCUDACluster\n",
    "# from dask.distributed import Client\n",
    "# client.close()\n",
    "# # http://127.0.0.1:34497/status\n",
    "# cluster = LocalCUDACluster()\n",
    "# client = Client(cluster)\n",
    "# print(cluster,client)"
   ]
  },
  {
   "cell_type": "code",
   "execution_count": 2,
   "metadata": {},
   "outputs": [
    {
     "name": "stderr",
     "output_type": "stream",
     "text": [
      "2022-01-28 16:08:32.861327: I tensorflow/compiler/jit/xla_gpu_device.cc:99] Not creating XLA devices, tf_xla_enable_xla_devices not set\n",
      "2022-01-28 16:08:32.871195: I tensorflow/stream_executor/platform/default/dso_loader.cc:49] Successfully opened dynamic library libcuda.so.1\n",
      "2022-01-28 16:08:33.145059: E tensorflow/stream_executor/cuda/cuda_gpu_executor.cc:927] could not open file to read NUMA node: /sys/bus/pci/devices/0000:01:00.0/numa_node\n",
      "Your kernel may have been built without NUMA support.\n",
      "2022-01-28 16:08:33.145109: I tensorflow/core/common_runtime/gpu/gpu_device.cc:1720] Found device 0 with properties: \n",
      "pciBusID: 0000:01:00.0 name: NVIDIA GeForce RTX 3060 Laptop GPU computeCapability: 8.6\n",
      "coreClock: 1.282GHz coreCount: 30 deviceMemorySize: 6.00GiB deviceMemoryBandwidth: 268.26GiB/s\n",
      "2022-01-28 16:08:33.145156: I tensorflow/stream_executor/platform/default/dso_loader.cc:49] Successfully opened dynamic library libcudart.so.11.0\n",
      "2022-01-28 16:08:33.154568: I tensorflow/stream_executor/platform/default/dso_loader.cc:49] Successfully opened dynamic library libcublas.so.11\n",
      "2022-01-28 16:08:33.154712: I tensorflow/stream_executor/platform/default/dso_loader.cc:49] Successfully opened dynamic library libcublasLt.so.11\n",
      "2022-01-28 16:08:33.168891: I tensorflow/stream_executor/platform/default/dso_loader.cc:49] Successfully opened dynamic library libcufft.so.10\n",
      "2022-01-28 16:08:33.172167: I tensorflow/stream_executor/platform/default/dso_loader.cc:49] Successfully opened dynamic library libcurand.so.10\n",
      "2022-01-28 16:08:33.196404: I tensorflow/stream_executor/platform/default/dso_loader.cc:49] Successfully opened dynamic library libcusolver.so.10\n",
      "2022-01-28 16:08:33.199366: I tensorflow/stream_executor/platform/default/dso_loader.cc:49] Successfully opened dynamic library libcusparse.so.11\n",
      "2022-01-28 16:08:33.200307: I tensorflow/stream_executor/platform/default/dso_loader.cc:49] Successfully opened dynamic library libcudnn.so.8\n",
      "2022-01-28 16:08:33.200791: E tensorflow/stream_executor/cuda/cuda_gpu_executor.cc:927] could not open file to read NUMA node: /sys/bus/pci/devices/0000:01:00.0/numa_node\n",
      "Your kernel may have been built without NUMA support.\n",
      "2022-01-28 16:08:33.201110: E tensorflow/stream_executor/cuda/cuda_gpu_executor.cc:927] could not open file to read NUMA node: /sys/bus/pci/devices/0000:01:00.0/numa_node\n",
      "Your kernel may have been built without NUMA support.\n",
      "2022-01-28 16:08:33.201439: I tensorflow/core/common_runtime/gpu/gpu_device.cc:1862] Adding visible gpu devices: 0\n",
      "2022-01-28 16:08:33.201784: I tensorflow/stream_executor/platform/default/dso_loader.cc:49] Successfully opened dynamic library libcudart.so.11.0\n",
      "2022-01-28 16:08:34.004602: I tensorflow/core/common_runtime/gpu/gpu_device.cc:1261] Device interconnect StreamExecutor with strength 1 edge matrix:\n",
      "2022-01-28 16:08:34.004635: I tensorflow/core/common_runtime/gpu/gpu_device.cc:1267]      0 \n",
      "2022-01-28 16:08:34.004640: I tensorflow/core/common_runtime/gpu/gpu_device.cc:1280] 0:   N \n",
      "2022-01-28 16:08:34.006068: E tensorflow/stream_executor/cuda/cuda_gpu_executor.cc:927] could not open file to read NUMA node: /sys/bus/pci/devices/0000:01:00.0/numa_node\n",
      "Your kernel may have been built without NUMA support.\n",
      "2022-01-28 16:08:34.006092: I tensorflow/core/common_runtime/gpu/gpu_device.cc:1489] Could not identify NUMA node of platform GPU id 0, defaulting to 0.  Your kernel may not have been built with NUMA support.\n",
      "2022-01-28 16:08:34.006517: E tensorflow/stream_executor/cuda/cuda_gpu_executor.cc:927] could not open file to read NUMA node: /sys/bus/pci/devices/0000:01:00.0/numa_node\n",
      "Your kernel may have been built without NUMA support.\n",
      "2022-01-28 16:08:34.006840: E tensorflow/stream_executor/cuda/cuda_gpu_executor.cc:927] could not open file to read NUMA node: /sys/bus/pci/devices/0000:01:00.0/numa_node\n",
      "Your kernel may have been built without NUMA support.\n",
      "2022-01-28 16:08:34.006875: I tensorflow/core/common_runtime/gpu/gpu_device.cc:1406] Created TensorFlow device (/device:GPU:0 with 4705 MB memory) -> physical GPU (device: 0, name: NVIDIA GeForce RTX 3060 Laptop GPU, pci bus id: 0000:01:00.0, compute capability: 8.6)\n"
     ]
    },
    {
     "data": {
      "text/plain": [
       "[name: \"/device:CPU:0\"\n",
       " device_type: \"CPU\"\n",
       " memory_limit: 268435456\n",
       " locality {\n",
       " }\n",
       " incarnation: 1664328743793847039,\n",
       " name: \"/device:GPU:0\"\n",
       " device_type: \"GPU\"\n",
       " memory_limit: 4933605152\n",
       " locality {\n",
       "   bus_id: 1\n",
       "   links {\n",
       "   }\n",
       " }\n",
       " incarnation: 6912303323531783733\n",
       " physical_device_desc: \"device: 0, name: NVIDIA GeForce RTX 3060 Laptop GPU, pci bus id: 0000:01:00.0, compute capability: 8.6\"]"
      ]
     },
     "execution_count": 2,
     "metadata": {},
     "output_type": "execute_result"
    }
   ],
   "source": [
    "from tensorflow.python.client import device_lib\n",
    "device_lib.list_local_devices()"
   ]
  },
  {
   "cell_type": "code",
   "execution_count": 3,
   "metadata": {},
   "outputs": [],
   "source": [
    "#making_label_set\n",
    "\n",
    "crop = {'1':'딸기','2':'토마토','3':'파프리카','4':'오이','5':'고추','6':'시설포도'}\n",
    "disease = {'1':{'a1':'딸기잿빛곰팡이병','a2':'딸기흰가루병','b1':'냉해피해','b6':'다량원소결핍 (N)','b7':'다량원소결핍 (P)','b8':'다량원소결핍 (K)'},\n",
    "           '2':{'a5':'토마토흰가루병','a6':'토마토잿빛곰팡이병','b2':'열과','b3':'칼슘결핍','b6':'다량원소결핍 (N)','b7':'다량원소결핍 (P)','b8':'다량원소결핍 (K)'},\n",
    "           '3':{'a9':'파프리카흰가루병','a10':'파프리카잘록병','b3':'칼슘결핍','b6':'다량원소결핍 (N)','b7':'다량원소결핍 (P)','b8':'다량원소결핍 (K)'},\n",
    "           '4':{'a3':'오이노균병','a4':'오이흰가루병','b1':'냉해피해','b6':'다량원소결핍 (N)','b7':'다량원소결핍 (P)','b8':'다량원소결핍 (K)'},\n",
    "           '5':{'a7':'고추탄저병','a8':'고추흰가루병','b3':'칼슘결핍','b6':'다량원소결핍 (N)','b7':'다량원소결핍 (P)','b8':'다량원소결핍 (K)'},\n",
    "           '6':{'a11':'시설포도탄저병','a12':'시설포도노균병','b4':'일소피해','b5':'축과병'}}\n",
    "risk = {'0':'정상','1':'초기','2':'중기','3':'말기'}\n",
    "\n",
    "\n",
    "#ensemble_labler\n",
    "label_description = {}\n",
    "for key, value in disease.items():\n",
    "    label_description[f'{key}_00_0'] = f'{crop[key]}_정상'\n",
    "    for disease_code in value:\n",
    "        for risk_code in risk:\n",
    "            label = f'{key}_{disease_code}_{risk_code}'\n",
    "            label_description[label] = f'{crop[key]}_{disease[key][disease_code]}_{risk[risk_code]}'\n",
    "\n",
    "global ensemble_label_encoder\n",
    "ensemble_label_encoder = {key:idx for idx, key in enumerate(label_description)}\n",
    "ensemble_label_decoder = {val:key for key, val in ensemble_label_encoder.items()}\n",
    "\n",
    "#crop_labler\n",
    "crop_label_description = {}\n",
    "for key, value in disease.items():\n",
    "    crop_label_description[f'{key}'] = f'{crop[key]}'\n",
    "    \n",
    "global crop_label_encoder\n",
    "crop_label_encoder = {key:idx for idx, key in enumerate(crop_label_description)}\n",
    "crop_label_decoder = {val:key for key, val in crop_label_encoder.items()}\n",
    "\n",
    "\n",
    "#disease_labler\n",
    "disease_label_description = {}\n",
    "for key, value in disease.items():\n",
    "    disease_label_description[f'00'] = \"정상\"\n",
    "    for disease_code,value in value.items():\n",
    "        label = f'{disease_code}'\n",
    "        disease_label_description[label] = f'{value}'\n",
    "\n",
    "global disease_label_encoder\n",
    "disease_label_encoder = {key:idx for idx, key in enumerate(disease_label_description)}\n",
    "disease_label_decoder = {val:key for key, val in disease_label_encoder.items()}\n",
    "\n",
    "\n",
    "#risk_labler\n",
    "risk_label_description = {}\n",
    "for key, value in risk.items():\n",
    "    label = f'{key}'\n",
    "    risk_label_description[label] = f'{value}'\n",
    "\n",
    "global risk_label_encoder\n",
    "risk_label_encoder = {key:idx for idx, key in enumerate(risk_label_description)}\n",
    "risk_label_decoder = {val:key for key, val in risk_label_encoder.items()}\n",
    "\n",
    "\n",
    "\n"
   ]
  },
  {
   "cell_type": "code",
   "execution_count": 4,
   "metadata": {},
   "outputs": [
    {
     "data": {
      "text/plain": [
       "{'1': '딸기', '2': '토마토', '3': '파프리카', '4': '오이', '5': '고추', '6': '시설포도'}"
      ]
     },
     "execution_count": 4,
     "metadata": {},
     "output_type": "execute_result"
    }
   ],
   "source": [
    "crop_label_description"
   ]
  },
  {
   "cell_type": "code",
   "execution_count": 5,
   "metadata": {},
   "outputs": [
    {
     "data": {
      "text/plain": [
       "{'0': '정상', '1': '초기', '2': '중기', '3': '말기'}"
      ]
     },
     "execution_count": 5,
     "metadata": {},
     "output_type": "execute_result"
    }
   ],
   "source": [
    "risk_label_description"
   ]
  },
  {
   "cell_type": "code",
   "execution_count": 6,
   "metadata": {},
   "outputs": [
    {
     "data": {
      "text/plain": [
       "{'00': '정상',\n",
       " 'a1': '딸기잿빛곰팡이병',\n",
       " 'a2': '딸기흰가루병',\n",
       " 'b1': '냉해피해',\n",
       " 'b6': '다량원소결핍 (N)',\n",
       " 'b7': '다량원소결핍 (P)',\n",
       " 'b8': '다량원소결핍 (K)',\n",
       " 'a5': '토마토흰가루병',\n",
       " 'a6': '토마토잿빛곰팡이병',\n",
       " 'b2': '열과',\n",
       " 'b3': '칼슘결핍',\n",
       " 'a9': '파프리카흰가루병',\n",
       " 'a10': '파프리카잘록병',\n",
       " 'a3': '오이노균병',\n",
       " 'a4': '오이흰가루병',\n",
       " 'a7': '고추탄저병',\n",
       " 'a8': '고추흰가루병',\n",
       " 'a11': '시설포도탄저병',\n",
       " 'a12': '시설포도노균병',\n",
       " 'b4': '일소피해',\n",
       " 'b5': '축과병'}"
      ]
     },
     "execution_count": 6,
     "metadata": {},
     "output_type": "execute_result"
    }
   ],
   "source": [
    "disease_label_description"
   ]
  },
  {
   "cell_type": "code",
   "execution_count": 7,
   "metadata": {},
   "outputs": [
    {
     "data": {
      "text/plain": [
       "{'1_00_0': '딸기_정상',\n",
       " '1_a1_0': '딸기_딸기잿빛곰팡이병_정상',\n",
       " '1_a1_1': '딸기_딸기잿빛곰팡이병_초기',\n",
       " '1_a1_2': '딸기_딸기잿빛곰팡이병_중기',\n",
       " '1_a1_3': '딸기_딸기잿빛곰팡이병_말기',\n",
       " '1_a2_0': '딸기_딸기흰가루병_정상',\n",
       " '1_a2_1': '딸기_딸기흰가루병_초기',\n",
       " '1_a2_2': '딸기_딸기흰가루병_중기',\n",
       " '1_a2_3': '딸기_딸기흰가루병_말기',\n",
       " '1_b1_0': '딸기_냉해피해_정상',\n",
       " '1_b1_1': '딸기_냉해피해_초기',\n",
       " '1_b1_2': '딸기_냉해피해_중기',\n",
       " '1_b1_3': '딸기_냉해피해_말기',\n",
       " '1_b6_0': '딸기_다량원소결핍 (N)_정상',\n",
       " '1_b6_1': '딸기_다량원소결핍 (N)_초기',\n",
       " '1_b6_2': '딸기_다량원소결핍 (N)_중기',\n",
       " '1_b6_3': '딸기_다량원소결핍 (N)_말기',\n",
       " '1_b7_0': '딸기_다량원소결핍 (P)_정상',\n",
       " '1_b7_1': '딸기_다량원소결핍 (P)_초기',\n",
       " '1_b7_2': '딸기_다량원소결핍 (P)_중기',\n",
       " '1_b7_3': '딸기_다량원소결핍 (P)_말기',\n",
       " '1_b8_0': '딸기_다량원소결핍 (K)_정상',\n",
       " '1_b8_1': '딸기_다량원소결핍 (K)_초기',\n",
       " '1_b8_2': '딸기_다량원소결핍 (K)_중기',\n",
       " '1_b8_3': '딸기_다량원소결핍 (K)_말기',\n",
       " '2_00_0': '토마토_정상',\n",
       " '2_a5_0': '토마토_토마토흰가루병_정상',\n",
       " '2_a5_1': '토마토_토마토흰가루병_초기',\n",
       " '2_a5_2': '토마토_토마토흰가루병_중기',\n",
       " '2_a5_3': '토마토_토마토흰가루병_말기',\n",
       " '2_a6_0': '토마토_토마토잿빛곰팡이병_정상',\n",
       " '2_a6_1': '토마토_토마토잿빛곰팡이병_초기',\n",
       " '2_a6_2': '토마토_토마토잿빛곰팡이병_중기',\n",
       " '2_a6_3': '토마토_토마토잿빛곰팡이병_말기',\n",
       " '2_b2_0': '토마토_열과_정상',\n",
       " '2_b2_1': '토마토_열과_초기',\n",
       " '2_b2_2': '토마토_열과_중기',\n",
       " '2_b2_3': '토마토_열과_말기',\n",
       " '2_b3_0': '토마토_칼슘결핍_정상',\n",
       " '2_b3_1': '토마토_칼슘결핍_초기',\n",
       " '2_b3_2': '토마토_칼슘결핍_중기',\n",
       " '2_b3_3': '토마토_칼슘결핍_말기',\n",
       " '2_b6_0': '토마토_다량원소결핍 (N)_정상',\n",
       " '2_b6_1': '토마토_다량원소결핍 (N)_초기',\n",
       " '2_b6_2': '토마토_다량원소결핍 (N)_중기',\n",
       " '2_b6_3': '토마토_다량원소결핍 (N)_말기',\n",
       " '2_b7_0': '토마토_다량원소결핍 (P)_정상',\n",
       " '2_b7_1': '토마토_다량원소결핍 (P)_초기',\n",
       " '2_b7_2': '토마토_다량원소결핍 (P)_중기',\n",
       " '2_b7_3': '토마토_다량원소결핍 (P)_말기',\n",
       " '2_b8_0': '토마토_다량원소결핍 (K)_정상',\n",
       " '2_b8_1': '토마토_다량원소결핍 (K)_초기',\n",
       " '2_b8_2': '토마토_다량원소결핍 (K)_중기',\n",
       " '2_b8_3': '토마토_다량원소결핍 (K)_말기',\n",
       " '3_00_0': '파프리카_정상',\n",
       " '3_a9_0': '파프리카_파프리카흰가루병_정상',\n",
       " '3_a9_1': '파프리카_파프리카흰가루병_초기',\n",
       " '3_a9_2': '파프리카_파프리카흰가루병_중기',\n",
       " '3_a9_3': '파프리카_파프리카흰가루병_말기',\n",
       " '3_a10_0': '파프리카_파프리카잘록병_정상',\n",
       " '3_a10_1': '파프리카_파프리카잘록병_초기',\n",
       " '3_a10_2': '파프리카_파프리카잘록병_중기',\n",
       " '3_a10_3': '파프리카_파프리카잘록병_말기',\n",
       " '3_b3_0': '파프리카_칼슘결핍_정상',\n",
       " '3_b3_1': '파프리카_칼슘결핍_초기',\n",
       " '3_b3_2': '파프리카_칼슘결핍_중기',\n",
       " '3_b3_3': '파프리카_칼슘결핍_말기',\n",
       " '3_b6_0': '파프리카_다량원소결핍 (N)_정상',\n",
       " '3_b6_1': '파프리카_다량원소결핍 (N)_초기',\n",
       " '3_b6_2': '파프리카_다량원소결핍 (N)_중기',\n",
       " '3_b6_3': '파프리카_다량원소결핍 (N)_말기',\n",
       " '3_b7_0': '파프리카_다량원소결핍 (P)_정상',\n",
       " '3_b7_1': '파프리카_다량원소결핍 (P)_초기',\n",
       " '3_b7_2': '파프리카_다량원소결핍 (P)_중기',\n",
       " '3_b7_3': '파프리카_다량원소결핍 (P)_말기',\n",
       " '3_b8_0': '파프리카_다량원소결핍 (K)_정상',\n",
       " '3_b8_1': '파프리카_다량원소결핍 (K)_초기',\n",
       " '3_b8_2': '파프리카_다량원소결핍 (K)_중기',\n",
       " '3_b8_3': '파프리카_다량원소결핍 (K)_말기',\n",
       " '4_00_0': '오이_정상',\n",
       " '4_a3_0': '오이_오이노균병_정상',\n",
       " '4_a3_1': '오이_오이노균병_초기',\n",
       " '4_a3_2': '오이_오이노균병_중기',\n",
       " '4_a3_3': '오이_오이노균병_말기',\n",
       " '4_a4_0': '오이_오이흰가루병_정상',\n",
       " '4_a4_1': '오이_오이흰가루병_초기',\n",
       " '4_a4_2': '오이_오이흰가루병_중기',\n",
       " '4_a4_3': '오이_오이흰가루병_말기',\n",
       " '4_b1_0': '오이_냉해피해_정상',\n",
       " '4_b1_1': '오이_냉해피해_초기',\n",
       " '4_b1_2': '오이_냉해피해_중기',\n",
       " '4_b1_3': '오이_냉해피해_말기',\n",
       " '4_b6_0': '오이_다량원소결핍 (N)_정상',\n",
       " '4_b6_1': '오이_다량원소결핍 (N)_초기',\n",
       " '4_b6_2': '오이_다량원소결핍 (N)_중기',\n",
       " '4_b6_3': '오이_다량원소결핍 (N)_말기',\n",
       " '4_b7_0': '오이_다량원소결핍 (P)_정상',\n",
       " '4_b7_1': '오이_다량원소결핍 (P)_초기',\n",
       " '4_b7_2': '오이_다량원소결핍 (P)_중기',\n",
       " '4_b7_3': '오이_다량원소결핍 (P)_말기',\n",
       " '4_b8_0': '오이_다량원소결핍 (K)_정상',\n",
       " '4_b8_1': '오이_다량원소결핍 (K)_초기',\n",
       " '4_b8_2': '오이_다량원소결핍 (K)_중기',\n",
       " '4_b8_3': '오이_다량원소결핍 (K)_말기',\n",
       " '5_00_0': '고추_정상',\n",
       " '5_a7_0': '고추_고추탄저병_정상',\n",
       " '5_a7_1': '고추_고추탄저병_초기',\n",
       " '5_a7_2': '고추_고추탄저병_중기',\n",
       " '5_a7_3': '고추_고추탄저병_말기',\n",
       " '5_a8_0': '고추_고추흰가루병_정상',\n",
       " '5_a8_1': '고추_고추흰가루병_초기',\n",
       " '5_a8_2': '고추_고추흰가루병_중기',\n",
       " '5_a8_3': '고추_고추흰가루병_말기',\n",
       " '5_b3_0': '고추_칼슘결핍_정상',\n",
       " '5_b3_1': '고추_칼슘결핍_초기',\n",
       " '5_b3_2': '고추_칼슘결핍_중기',\n",
       " '5_b3_3': '고추_칼슘결핍_말기',\n",
       " '5_b6_0': '고추_다량원소결핍 (N)_정상',\n",
       " '5_b6_1': '고추_다량원소결핍 (N)_초기',\n",
       " '5_b6_2': '고추_다량원소결핍 (N)_중기',\n",
       " '5_b6_3': '고추_다량원소결핍 (N)_말기',\n",
       " '5_b7_0': '고추_다량원소결핍 (P)_정상',\n",
       " '5_b7_1': '고추_다량원소결핍 (P)_초기',\n",
       " '5_b7_2': '고추_다량원소결핍 (P)_중기',\n",
       " '5_b7_3': '고추_다량원소결핍 (P)_말기',\n",
       " '5_b8_0': '고추_다량원소결핍 (K)_정상',\n",
       " '5_b8_1': '고추_다량원소결핍 (K)_초기',\n",
       " '5_b8_2': '고추_다량원소결핍 (K)_중기',\n",
       " '5_b8_3': '고추_다량원소결핍 (K)_말기',\n",
       " '6_00_0': '시설포도_정상',\n",
       " '6_a11_0': '시설포도_시설포도탄저병_정상',\n",
       " '6_a11_1': '시설포도_시설포도탄저병_초기',\n",
       " '6_a11_2': '시설포도_시설포도탄저병_중기',\n",
       " '6_a11_3': '시설포도_시설포도탄저병_말기',\n",
       " '6_a12_0': '시설포도_시설포도노균병_정상',\n",
       " '6_a12_1': '시설포도_시설포도노균병_초기',\n",
       " '6_a12_2': '시설포도_시설포도노균병_중기',\n",
       " '6_a12_3': '시설포도_시설포도노균병_말기',\n",
       " '6_b4_0': '시설포도_일소피해_정상',\n",
       " '6_b4_1': '시설포도_일소피해_초기',\n",
       " '6_b4_2': '시설포도_일소피해_중기',\n",
       " '6_b4_3': '시설포도_일소피해_말기',\n",
       " '6_b5_0': '시설포도_축과병_정상',\n",
       " '6_b5_1': '시설포도_축과병_초기',\n",
       " '6_b5_2': '시설포도_축과병_중기',\n",
       " '6_b5_3': '시설포도_축과병_말기'}"
      ]
     },
     "execution_count": 7,
     "metadata": {},
     "output_type": "execute_result"
    }
   ],
   "source": [
    "label_description"
   ]
  },
  {
   "cell_type": "code",
   "execution_count": 8,
   "metadata": {},
   "outputs": [],
   "source": [
    "@delayed\n",
    "def label_encoding(label):\n",
    "    global ensemble_label_encoder\n",
    "    encoded_label = ensemble_label_encoder[label]\n",
    "    return encoded_label\n",
    "\n",
    "@delayed\n",
    "def label_encoding_crop(label):\n",
    "    global crop_label_encoder\n",
    "    encoded_label = crop_label_encoder[label]\n",
    "    return encoded_label\n",
    "\n",
    "@delayed\n",
    "def label_encoding_disease(label):\n",
    "    global disease_label_encoder\n",
    "    encoded_label = disease_label_encoder[label]\n",
    "    return encoded_label\n",
    "\n",
    "@delayed\n",
    "def label_encoding_risk(label):\n",
    "    global risk_label_encoder\n",
    "    encoded_label = risk_label_encoder[label]\n",
    "    return encoded_label\n",
    "\n",
    "def getlable(jsonpath,type):\n",
    "    if type == \"ensemble\":\n",
    "        with open(jsonpath, 'r') as f:\n",
    "            json_file = json.load(f)\n",
    "\n",
    "        crop = json_file['annotations']['crop']\n",
    "        disease = json_file['annotations']['disease']\n",
    "        risk = json_file['annotations']['risk']\n",
    "        label = f'{crop}_{disease}_{risk}'\n",
    "        return label\n",
    "\n",
    "    elif type == \"crop\":\n",
    "        with open(jsonpath, 'r') as f:\n",
    "            json_file = json.load(f)\n",
    "        crop = json_file['annotations']['crop']\n",
    "        label = f'{crop}'\n",
    "        return label\n",
    "\n",
    "    elif type == \"dc\":\n",
    "        with open(jsonpath, 'r') as f:\n",
    "            json_file = json.load(f)\n",
    "        disease = json_file['annotations']['disease']\n",
    "        label = f'{disease}'\n",
    "        return label\n",
    "\n",
    "    elif type == \"risk\":  \n",
    "        with open(jsonpath, 'r') as f:\n",
    "            json_file = json.load(f)\n",
    "        risk = json_file['annotations']['risk']\n",
    "        label = f'{risk}'\n",
    "        return label\n",
    "\n",
    "    \n",
    "def get_label_list(labelpath_list):\n",
    "    labelarr = np.array([])\n",
    "    labelarr_crop = np.array([])\n",
    "    labelarr_dc = np.array([])\n",
    "    labelarr_risk = np.array([])\n",
    "\n",
    "\n",
    "    # labelarr = da.array([])\n",
    "    for ind,json_path in enumerate(labelpath_list):\n",
    "        # label = label_encoding(getlable(json_path))\n",
    "        # label = da.array(np.array(label_encoding(getlable(json_path))))\n",
    "        label = np.array(label_encoding(getlable(json_path,\"ensemble\")))\n",
    "        labelarr = np.append(labelarr,label)\n",
    "\n",
    "        label_crop = np.array(label_encoding_crop(getlable(json_path,\"crop\")))\n",
    "        labelarr_crop = np.append(labelarr_crop,label_crop)\n",
    "\n",
    "        label_dc = np.array(label_encoding_disease(getlable(json_path,\"dc\")))\n",
    "        labelarr_dc = np.append(labelarr_dc,label_dc)\n",
    "\n",
    "        label_risk = np.array(label_encoding_risk(getlable(json_path,\"risk\")))\n",
    "        labelarr_risk = np.append(labelarr_risk,label_risk)\n",
    "\n",
    "\n",
    "    return labelarr, labelarr_crop, labelarr_dc, labelarr_risk"
   ]
  },
  {
   "cell_type": "code",
   "execution_count": 9,
   "metadata": {},
   "outputs": [],
   "source": [
    "@delayed\n",
    "def get_all_image(imgpath_list,image_size):\n",
    "    imgarr = np.empty((0,image_size,image_size,3), float)\n",
    "    for ind,img_path in enumerate(imgpath_list):\n",
    "        imgarr = delayed(np.append)(imgarr,img, axis = 0)\n",
    "    return imgarr"
   ]
  },
  {
   "cell_type": "code",
   "execution_count": 10,
   "metadata": {},
   "outputs": [
    {
     "name": "stdout",
     "output_type": "stream",
     "text": [
      "CPU times: user 4.1 s, sys: 312 ms, total: 4.41 s\n",
      "Wall time: 5.18 s\n"
     ]
    },
    {
     "data": {
      "text/plain": [
       "((5767,), (5767,), (5767,), (5767,))"
      ]
     },
     "execution_count": 10,
     "metadata": {},
     "output_type": "execute_result"
    }
   ],
   "source": [
    "%%time\n",
    "label_list = sorted(glob(os.path.join(path,\"data\",\"train\",\"*\",\"*.json\")))\n",
    "y_train,y_train_crop,y_train_dc,y_train_risk, = get_label_list(label_list)\n",
    "# y_train = y_train.rechunk(5767)\n",
    "results = dask.compute(*y_train)\n",
    "label = np.array(results)\n",
    "# print(label.shape)\n",
    "results_crop = dask.compute(*y_train_crop)\n",
    "label_crop = np.array(results_crop)\n",
    "#\n",
    "results_dc = dask.compute(*y_train_dc)\n",
    "label_disease = np.array(results_dc)\n",
    "#\n",
    "results_risk = dask.compute(*y_train_risk)\n",
    "label_risk = np.array(results_risk)\n",
    "label.shape,label_crop.shape,label_disease.shape,label_risk.shape"
   ]
  },
  {
   "cell_type": "code",
   "execution_count": 11,
   "metadata": {},
   "outputs": [
    {
     "name": "stdout",
     "output_type": "stream",
     "text": [
      "CPU times: user 44.4 s, sys: 3.91 s, total: 48.3 s\n",
      "Wall time: 16.1 s\n"
     ]
    }
   ],
   "source": [
    "%%time\n",
    "@delayed\n",
    "def imageresize(img):\n",
    "    # img = dask.delayed(cv2.resize)(img, dsize=(224, 224), interpolation=cv2.INTER_AREA)\n",
    "    # img = dask.delayed(img.astype(np.float32)/255)  ##픽셀값을 0~1사이로 정규화\n",
    "    # # img = np.transpose(img, (2,0,1))\n",
    "    # return dask.delayed(img.reshape)(-1,224,224,3)\n",
    "    img = cv2.resize(img, dsize=(100, 100), interpolation=cv2.INTER_AREA)\n",
    "    img = img.astype(np.float32)/255  ##픽셀값을 0~1사이로 정규화\n",
    "    # img = np.transpose(img, (2,0,1))\n",
    "    return da.array(img)\n",
    "#making_img_set\n",
    "row_img = dask_image.imread.imread(os.path.join(path,\"data\",\"train\",\"*\",\"*.jpg\"))\n",
    "train = [imageresize(img) for img in row_img]\n",
    "train_x = da.array(dask.compute(*train))"
   ]
  },
  {
   "cell_type": "code",
   "execution_count": 12,
   "metadata": {},
   "outputs": [],
   "source": [
    "train_x = train_x.reshape(5767,-1)\n",
    "label = da.array(label)"
   ]
  },
  {
   "cell_type": "markdown",
   "metadata": {},
   "source": [
    "## 100열"
   ]
  },
  {
   "cell_type": "code",
   "execution_count": 27,
   "metadata": {},
   "outputs": [],
   "source": [
    "X, X_test, y, y_test = train_test_split(train_x, label, test_size=0.2, shuffle= True,stratify=label)\n",
    "X, X_test, y, y_test = X.rechunk((1000,-1))[:,:100], X_test.rechunk((1000,-1))[:,:100], y.rechunk((1000,-1)), y_test.rechunk((1000,-1))"
   ]
  },
  {
   "cell_type": "code",
   "execution_count": 28,
   "metadata": {},
   "outputs": [
    {
     "data": {
      "text/html": [
       "<table>\n",
       "    <tr>\n",
       "        <td>\n",
       "            <table>\n",
       "                <thead>\n",
       "                    <tr>\n",
       "                        <td> </td>\n",
       "                        <th> Array </th>\n",
       "                        <th> Chunk </th>\n",
       "                    </tr>\n",
       "                </thead>\n",
       "                <tbody>\n",
       "                    \n",
       "                    <tr>\n",
       "                        <th> Bytes </th>\n",
       "                        <td> 1.76 MiB </td>\n",
       "                        <td> 390.62 kiB </td>\n",
       "                    </tr>\n",
       "                    \n",
       "                    <tr>\n",
       "                        <th> Shape </th>\n",
       "                        <td> (4613, 100) </td>\n",
       "                        <td> (1000, 100) </td>\n",
       "                    </tr>\n",
       "                    <tr>\n",
       "                        <th> Count </th>\n",
       "                        <td> 21924 Tasks </td>\n",
       "                        <td> 5 Chunks </td>\n",
       "                    </tr>\n",
       "                    <tr>\n",
       "                    <th> Type </th>\n",
       "                    <td> float32 </td>\n",
       "                    <td> numpy.ndarray </td>\n",
       "                    </tr>\n",
       "                </tbody>\n",
       "            </table>\n",
       "        </td>\n",
       "        <td>\n",
       "        <svg width=\"79\" height=\"170\" style=\"stroke:rgb(0,0,0);stroke-width:1\" >\n",
       "\n",
       "  <!-- Horizontal lines -->\n",
       "  <line x1=\"0\" y1=\"0\" x2=\"29\" y2=\"0\" style=\"stroke-width:2\" />\n",
       "  <line x1=\"0\" y1=\"26\" x2=\"29\" y2=\"26\" />\n",
       "  <line x1=\"0\" y1=\"52\" x2=\"29\" y2=\"52\" />\n",
       "  <line x1=\"0\" y1=\"78\" x2=\"29\" y2=\"78\" />\n",
       "  <line x1=\"0\" y1=\"104\" x2=\"29\" y2=\"104\" />\n",
       "  <line x1=\"0\" y1=\"120\" x2=\"29\" y2=\"120\" style=\"stroke-width:2\" />\n",
       "\n",
       "  <!-- Vertical lines -->\n",
       "  <line x1=\"0\" y1=\"0\" x2=\"0\" y2=\"120\" style=\"stroke-width:2\" />\n",
       "  <line x1=\"29\" y1=\"0\" x2=\"29\" y2=\"120\" style=\"stroke-width:2\" />\n",
       "\n",
       "  <!-- Colored Rectangle -->\n",
       "  <polygon points=\"0.0,0.0 29.487366241767994,0.0 29.487366241767994,120.0 0.0,120.0\" style=\"fill:#ECB172A0;stroke-width:0\"/>\n",
       "\n",
       "  <!-- Text -->\n",
       "  <text x=\"14.743683\" y=\"140.000000\" font-size=\"1.0rem\" font-weight=\"100\" text-anchor=\"middle\" >100</text>\n",
       "  <text x=\"49.487366\" y=\"60.000000\" font-size=\"1.0rem\" font-weight=\"100\" text-anchor=\"middle\" transform=\"rotate(-90,49.487366,60.000000)\">4613</text>\n",
       "</svg>\n",
       "        </td>\n",
       "    </tr>\n",
       "</table>"
      ],
      "text/plain": [
       "dask.array<getitem, shape=(4613, 100), dtype=float32, chunksize=(1000, 100), chunktype=numpy.ndarray>"
      ]
     },
     "execution_count": 28,
     "metadata": {},
     "output_type": "execute_result"
    }
   ],
   "source": [
    "X"
   ]
  },
  {
   "cell_type": "code",
   "execution_count": 37,
   "metadata": {},
   "outputs": [
    {
     "name": "stderr",
     "output_type": "stream",
     "text": [
      "/home/go/miniconda3/envs/venv_01/lib/python3.7/site-packages/xgboost/core.py:502: FutureWarning: Pass `objective` as keyword args.  Passing these as positional arguments will be considered as error in future releases.\n",
      "  format(\", \".join(args_msg)), FutureWarning\n",
      "/home/go/miniconda3/envs/venv_01/lib/python3.7/site-packages/xgboost/sklearn.py:1224: UserWarning: The use of label encoder in XGBClassifier is deprecated and will be removed in a future release. To remove this warning, do the following: 1) Pass option use_label_encoder=False when constructing XGBClassifier object; and 2) Encode your labels (y) as integers starting with 0, i.e. 0, 1, 2, ..., [num_class - 1].\n",
      "  warnings.warn(label_encoder_deprecation_msg, UserWarning)\n"
     ]
    },
    {
     "name": "stdout",
     "output_type": "stream",
     "text": [
      "CPU times: user 1min 48s, sys: 460 ms, total: 1min 49s\n",
      "Wall time: 10.5 s\n"
     ]
    }
   ],
   "source": [
    "%%time\n",
    "params = {\"tree_method\": \"gpu_hist\", \n",
    "          \"objective\": 'multi:softmax',\n",
    "          \"subsample\": 0.8,\n",
    "          \"colsample_bytree\": 0.8,\n",
    "        #   \"single_precision_histogram\" : True,\n",
    "          }\n",
    "\n",
    "start = time.time()\n",
    "XGB_mod1 = xgb.XGBClassifier(params,eval_metric='mlogloss',).fit(X,y)\n",
    "# print(time.time()-start)\n",
    "y_pred1 = XGB_mod1.predict(X_test)"
   ]
  },
  {
   "cell_type": "code",
   "execution_count": 38,
   "metadata": {},
   "outputs": [
    {
     "name": "stdout",
     "output_type": "stream",
     "text": [
      "CPU times: user 1min 49s, sys: 350 ms, total: 1min 49s\n",
      "Wall time: 8.67 s\n"
     ]
    }
   ],
   "source": [
    "%%time\n",
    "params = {\"tree_method\": \"hist\", \n",
    "          \"objective\": 'multi:softmax',\n",
    "          \"subsample\": 0.8,\n",
    "          \"colsample_bytree\": 0.8,\n",
    "        #   \"single_precision_histogram\" : True,\n",
    "          }\n",
    "\n",
    "start = time.time()\n",
    "XGB_mod1 = xgb.XGBClassifier(params,eval_metric='mlogloss',).fit(X,y)\n",
    "# print(time.time()-start)\n",
    "y_pred1 = XGB_mod1.predict(X_test)"
   ]
  },
  {
   "cell_type": "code",
   "execution_count": 39,
   "metadata": {},
   "outputs": [
    {
     "name": "stdout",
     "output_type": "stream",
     "text": [
      "CPU times: user 2min 17s, sys: 450 ms, total: 2min 17s\n",
      "Wall time: 10.6 s\n"
     ]
    }
   ],
   "source": [
    "%%time\n",
    "params = {\"tree_method\": \"gpu_hist\", \n",
    "          \"objective\": 'multi:softmax',\n",
    "          \"subsample\": 0.8,\n",
    "          \"colsample_bytree\": 0.8,\n",
    "          \"single_precision_histogram\" : True,\n",
    "          }\n",
    "\n",
    "start = time.time()\n",
    "XGB_mod1 = xgb.XGBClassifier(params,eval_metric='mlogloss',).fit(X,y)\n",
    "# print(time.time()-start)\n",
    "y_pred1 = XGB_mod1.predict(X_test)"
   ]
  },
  {
   "cell_type": "code",
   "execution_count": 40,
   "metadata": {},
   "outputs": [
    {
     "name": "stdout",
     "output_type": "stream",
     "text": [
      "CPU times: user 2min 2s, sys: 410 ms, total: 2min 2s\n",
      "Wall time: 11.3 s\n"
     ]
    }
   ],
   "source": [
    "%%time\n",
    "params = {\"tree_method\": \"hist\", \n",
    "          \"objective\": 'multi:softmax',\n",
    "          \"subsample\": 0.8,\n",
    "          \"colsample_bytree\": 0.8,\n",
    "          \"single_precision_histogram\" : True,\n",
    "          }\n",
    "\n",
    "start = time.time()\n",
    "XGB_mod1 = xgb.XGBClassifier(params,eval_metric='mlogloss',).fit(X,y)\n",
    "# print(time.time()-start)\n",
    "y_pred1 = XGB_mod1.predict(X_test)"
   ]
  },
  {
   "cell_type": "markdown",
   "metadata": {},
   "source": [
    "## 1000열"
   ]
  },
  {
   "cell_type": "code",
   "execution_count": 41,
   "metadata": {},
   "outputs": [],
   "source": [
    "X, X_test, y, y_test = train_test_split(train_x, label, test_size=0.2, shuffle= True,stratify=label)\n",
    "X, X_test, y, y_test = X.rechunk((1000,-1))[:,:1000], X_test.rechunk((1000,-1))[:,:1000], y.rechunk((1000,-1)), y_test.rechunk((1000,-1))"
   ]
  },
  {
   "cell_type": "code",
   "execution_count": 42,
   "metadata": {},
   "outputs": [
    {
     "data": {
      "text/html": [
       "<table>\n",
       "    <tr>\n",
       "        <td>\n",
       "            <table>\n",
       "                <thead>\n",
       "                    <tr>\n",
       "                        <td> </td>\n",
       "                        <th> Array </th>\n",
       "                        <th> Chunk </th>\n",
       "                    </tr>\n",
       "                </thead>\n",
       "                <tbody>\n",
       "                    \n",
       "                    <tr>\n",
       "                        <th> Bytes </th>\n",
       "                        <td> 17.60 MiB </td>\n",
       "                        <td> 3.81 MiB </td>\n",
       "                    </tr>\n",
       "                    \n",
       "                    <tr>\n",
       "                        <th> Shape </th>\n",
       "                        <td> (4613, 1000) </td>\n",
       "                        <td> (1000, 1000) </td>\n",
       "                    </tr>\n",
       "                    <tr>\n",
       "                        <th> Count </th>\n",
       "                        <td> 21924 Tasks </td>\n",
       "                        <td> 5 Chunks </td>\n",
       "                    </tr>\n",
       "                    <tr>\n",
       "                    <th> Type </th>\n",
       "                    <td> float32 </td>\n",
       "                    <td> numpy.ndarray </td>\n",
       "                    </tr>\n",
       "                </tbody>\n",
       "            </table>\n",
       "        </td>\n",
       "        <td>\n",
       "        <svg width=\"92\" height=\"170\" style=\"stroke:rgb(0,0,0);stroke-width:1\" >\n",
       "\n",
       "  <!-- Horizontal lines -->\n",
       "  <line x1=\"0\" y1=\"0\" x2=\"42\" y2=\"0\" style=\"stroke-width:2\" />\n",
       "  <line x1=\"0\" y1=\"26\" x2=\"42\" y2=\"26\" />\n",
       "  <line x1=\"0\" y1=\"52\" x2=\"42\" y2=\"52\" />\n",
       "  <line x1=\"0\" y1=\"78\" x2=\"42\" y2=\"78\" />\n",
       "  <line x1=\"0\" y1=\"104\" x2=\"42\" y2=\"104\" />\n",
       "  <line x1=\"0\" y1=\"120\" x2=\"42\" y2=\"120\" style=\"stroke-width:2\" />\n",
       "\n",
       "  <!-- Vertical lines -->\n",
       "  <line x1=\"0\" y1=\"0\" x2=\"0\" y2=\"120\" style=\"stroke-width:2\" />\n",
       "  <line x1=\"42\" y1=\"0\" x2=\"42\" y2=\"120\" style=\"stroke-width:2\" />\n",
       "\n",
       "  <!-- Colored Rectangle -->\n",
       "  <polygon points=\"0.0,0.0 42.34331044905221,0.0 42.34331044905221,120.0 0.0,120.0\" style=\"fill:#ECB172A0;stroke-width:0\"/>\n",
       "\n",
       "  <!-- Text -->\n",
       "  <text x=\"21.171655\" y=\"140.000000\" font-size=\"1.0rem\" font-weight=\"100\" text-anchor=\"middle\" >1000</text>\n",
       "  <text x=\"62.343310\" y=\"60.000000\" font-size=\"1.0rem\" font-weight=\"100\" text-anchor=\"middle\" transform=\"rotate(-90,62.343310,60.000000)\">4613</text>\n",
       "</svg>\n",
       "        </td>\n",
       "    </tr>\n",
       "</table>"
      ],
      "text/plain": [
       "dask.array<getitem, shape=(4613, 1000), dtype=float32, chunksize=(1000, 1000), chunktype=numpy.ndarray>"
      ]
     },
     "execution_count": 42,
     "metadata": {},
     "output_type": "execute_result"
    }
   ],
   "source": [
    "X"
   ]
  },
  {
   "cell_type": "code",
   "execution_count": 43,
   "metadata": {},
   "outputs": [
    {
     "name": "stderr",
     "output_type": "stream",
     "text": [
      "/home/go/miniconda3/envs/venv_01/lib/python3.7/site-packages/xgboost/core.py:502: FutureWarning: Pass `objective` as keyword args.  Passing these as positional arguments will be considered as error in future releases.\n",
      "  format(\", \".join(args_msg)), FutureWarning\n",
      "/home/go/miniconda3/envs/venv_01/lib/python3.7/site-packages/xgboost/sklearn.py:1224: UserWarning: The use of label encoder in XGBClassifier is deprecated and will be removed in a future release. To remove this warning, do the following: 1) Pass option use_label_encoder=False when constructing XGBClassifier object; and 2) Encode your labels (y) as integers starting with 0, i.e. 0, 1, 2, ..., [num_class - 1].\n",
      "  warnings.warn(label_encoder_deprecation_msg, UserWarning)\n"
     ]
    },
    {
     "name": "stdout",
     "output_type": "stream",
     "text": [
      "CPU times: user 10min 45s, sys: 639 ms, total: 10min 46s\n",
      "Wall time: 42.3 s\n"
     ]
    }
   ],
   "source": [
    "%%time\n",
    "params = {\"tree_method\": \"gpu_hist\", \n",
    "          \"objective\": 'multi:softmax',\n",
    "          \"subsample\": 0.8,\n",
    "          \"colsample_bytree\": 0.8,\n",
    "        #   \"single_precision_histogram\" : True,\n",
    "          }\n",
    "\n",
    "start = time.time()\n",
    "XGB_mod1 = xgb.XGBClassifier(params,eval_metric='mlogloss',).fit(X,y)\n",
    "# print(time.time()-start)\n",
    "y_pred1 = XGB_mod1.predict(X_test)"
   ]
  },
  {
   "cell_type": "code",
   "execution_count": 44,
   "metadata": {},
   "outputs": [
    {
     "name": "stdout",
     "output_type": "stream",
     "text": [
      "CPU times: user 10min 43s, sys: 439 ms, total: 10min 43s\n",
      "Wall time: 42 s\n"
     ]
    }
   ],
   "source": [
    "%%time\n",
    "params = {\"tree_method\": \"hist\", \n",
    "          \"objective\": 'multi:softmax',\n",
    "          \"subsample\": 0.8,\n",
    "          \"colsample_bytree\": 0.8,\n",
    "        #   \"single_precision_histogram\" : True,\n",
    "          }\n",
    "\n",
    "start = time.time()\n",
    "XGB_mod1 = xgb.XGBClassifier(params,eval_metric='mlogloss',).fit(X,y)\n",
    "# print(time.time()-start)\n",
    "y_pred1 = XGB_mod1.predict(X_test)"
   ]
  },
  {
   "cell_type": "code",
   "execution_count": 45,
   "metadata": {},
   "outputs": [
    {
     "name": "stdout",
     "output_type": "stream",
     "text": [
      "CPU times: user 11min 1s, sys: 379 ms, total: 11min 1s\n",
      "Wall time: 43.1 s\n"
     ]
    }
   ],
   "source": [
    "%%time\n",
    "params = {\"tree_method\": \"gpu_hist\", \n",
    "          \"objective\": 'multi:softmax',\n",
    "          \"subsample\": 0.8,\n",
    "          \"colsample_bytree\": 0.8,\n",
    "          \"single_precision_histogram\" : True,\n",
    "          }\n",
    "\n",
    "start = time.time()\n",
    "XGB_mod1 = xgb.XGBClassifier(params,eval_metric='mlogloss',).fit(X,y)\n",
    "# print(time.time()-start)\n",
    "y_pred1 = XGB_mod1.predict(X_test)"
   ]
  },
  {
   "cell_type": "code",
   "execution_count": 46,
   "metadata": {},
   "outputs": [
    {
     "name": "stdout",
     "output_type": "stream",
     "text": [
      "CPU times: user 10min 22s, sys: 429 ms, total: 10min 22s\n",
      "Wall time: 42.6 s\n"
     ]
    }
   ],
   "source": [
    "%%time\n",
    "params = {\"tree_method\": \"hist\", \n",
    "          \"objective\": 'multi:softmax',\n",
    "          \"subsample\": 0.8,\n",
    "          \"colsample_bytree\": 0.8,\n",
    "          \"single_precision_histogram\" : True,\n",
    "          }\n",
    "\n",
    "start = time.time()\n",
    "XGB_mod1 = xgb.XGBClassifier(params,eval_metric='mlogloss',).fit(X,y)\n",
    "# print(time.time()-start)\n",
    "y_pred1 = XGB_mod1.predict(X_test)"
   ]
  },
  {
   "cell_type": "markdown",
   "metadata": {},
   "source": [
    "## 1000열 3000청크사이즈"
   ]
  },
  {
   "cell_type": "code",
   "execution_count": 63,
   "metadata": {},
   "outputs": [],
   "source": [
    "X, X_test, y, y_test = train_test_split(train_x, label, test_size=0.2, shuffle= True,stratify=label)\n",
    "X, X_test, y, y_test = X.rechunk((3000,-1))[:,:1000], X_test.rechunk((3000,-1))[:,:1000], y.rechunk((3000,-1)), y_test.rechunk((3000,-1))"
   ]
  },
  {
   "cell_type": "code",
   "execution_count": 64,
   "metadata": {},
   "outputs": [
    {
     "data": {
      "text/html": [
       "<table>\n",
       "    <tr>\n",
       "        <td>\n",
       "            <table>\n",
       "                <thead>\n",
       "                    <tr>\n",
       "                        <td> </td>\n",
       "                        <th> Array </th>\n",
       "                        <th> Chunk </th>\n",
       "                    </tr>\n",
       "                </thead>\n",
       "                <tbody>\n",
       "                    \n",
       "                    <tr>\n",
       "                        <th> Bytes </th>\n",
       "                        <td> 17.60 MiB </td>\n",
       "                        <td> 11.44 MiB </td>\n",
       "                    </tr>\n",
       "                    \n",
       "                    <tr>\n",
       "                        <th> Shape </th>\n",
       "                        <td> (4613, 1000) </td>\n",
       "                        <td> (3000, 1000) </td>\n",
       "                    </tr>\n",
       "                    <tr>\n",
       "                        <th> Count </th>\n",
       "                        <td> 21918 Tasks </td>\n",
       "                        <td> 2 Chunks </td>\n",
       "                    </tr>\n",
       "                    <tr>\n",
       "                    <th> Type </th>\n",
       "                    <td> float32 </td>\n",
       "                    <td> numpy.ndarray </td>\n",
       "                    </tr>\n",
       "                </tbody>\n",
       "            </table>\n",
       "        </td>\n",
       "        <td>\n",
       "        <svg width=\"92\" height=\"170\" style=\"stroke:rgb(0,0,0);stroke-width:1\" >\n",
       "\n",
       "  <!-- Horizontal lines -->\n",
       "  <line x1=\"0\" y1=\"0\" x2=\"42\" y2=\"0\" style=\"stroke-width:2\" />\n",
       "  <line x1=\"0\" y1=\"78\" x2=\"42\" y2=\"78\" />\n",
       "  <line x1=\"0\" y1=\"120\" x2=\"42\" y2=\"120\" style=\"stroke-width:2\" />\n",
       "\n",
       "  <!-- Vertical lines -->\n",
       "  <line x1=\"0\" y1=\"0\" x2=\"0\" y2=\"120\" style=\"stroke-width:2\" />\n",
       "  <line x1=\"42\" y1=\"0\" x2=\"42\" y2=\"120\" style=\"stroke-width:2\" />\n",
       "\n",
       "  <!-- Colored Rectangle -->\n",
       "  <polygon points=\"0.0,0.0 42.34331044905221,0.0 42.34331044905221,120.0 0.0,120.0\" style=\"fill:#ECB172A0;stroke-width:0\"/>\n",
       "\n",
       "  <!-- Text -->\n",
       "  <text x=\"21.171655\" y=\"140.000000\" font-size=\"1.0rem\" font-weight=\"100\" text-anchor=\"middle\" >1000</text>\n",
       "  <text x=\"62.343310\" y=\"60.000000\" font-size=\"1.0rem\" font-weight=\"100\" text-anchor=\"middle\" transform=\"rotate(-90,62.343310,60.000000)\">4613</text>\n",
       "</svg>\n",
       "        </td>\n",
       "    </tr>\n",
       "</table>"
      ],
      "text/plain": [
       "dask.array<getitem, shape=(4613, 1000), dtype=float32, chunksize=(3000, 1000), chunktype=numpy.ndarray>"
      ]
     },
     "execution_count": 64,
     "metadata": {},
     "output_type": "execute_result"
    }
   ],
   "source": [
    "X"
   ]
  },
  {
   "cell_type": "code",
   "execution_count": 65,
   "metadata": {},
   "outputs": [
    {
     "name": "stderr",
     "output_type": "stream",
     "text": [
      "/home/go/miniconda3/envs/venv_01/lib/python3.7/site-packages/xgboost/core.py:502: FutureWarning: Pass `objective` as keyword args.  Passing these as positional arguments will be considered as error in future releases.\n",
      "  format(\", \".join(args_msg)), FutureWarning\n",
      "/home/go/miniconda3/envs/venv_01/lib/python3.7/site-packages/xgboost/sklearn.py:1224: UserWarning: The use of label encoder in XGBClassifier is deprecated and will be removed in a future release. To remove this warning, do the following: 1) Pass option use_label_encoder=False when constructing XGBClassifier object; and 2) Encode your labels (y) as integers starting with 0, i.e. 0, 1, 2, ..., [num_class - 1].\n",
      "  warnings.warn(label_encoder_deprecation_msg, UserWarning)\n"
     ]
    },
    {
     "name": "stdout",
     "output_type": "stream",
     "text": [
      "CPU times: user 12min 53s, sys: 810 ms, total: 12min 54s\n",
      "Wall time: 51.1 s\n"
     ]
    }
   ],
   "source": [
    "%%time\n",
    "params = {\"tree_method\": \"gpu_hist\", \n",
    "          \"objective\": 'multi:softmax',\n",
    "          \"subsample\": 0.8,\n",
    "          \"colsample_bytree\": 0.8,\n",
    "        #   \"single_precision_histogram\" : True,\n",
    "          }\n",
    "\n",
    "start = time.time()\n",
    "XGB_mod1 = xgb.XGBClassifier(params,eval_metric='mlogloss',).fit(X,y)\n",
    "# print(time.time()-start)\n",
    "y_pred = XGB_mod1.predict(X_test)"
   ]
  },
  {
   "cell_type": "code",
   "execution_count": 66,
   "metadata": {},
   "outputs": [
    {
     "data": {
      "text/plain": [
       "0.254768059852604"
      ]
     },
     "execution_count": 66,
     "metadata": {},
     "output_type": "execute_result"
    }
   ],
   "source": [
    "from sklearn.metrics import f1_score\n",
    "f1_score(y_test, y_pred,average='macro')"
   ]
  },
  {
   "cell_type": "code",
   "execution_count": 67,
   "metadata": {},
   "outputs": [
    {
     "name": "stderr",
     "output_type": "stream",
     "text": [
      "/home/go/miniconda3/envs/venv_01/lib/python3.7/site-packages/xgboost/core.py:502: FutureWarning: Pass `objective` as keyword args.  Passing these as positional arguments will be considered as error in future releases.\n",
      "  format(\", \".join(args_msg)), FutureWarning\n",
      "/home/go/miniconda3/envs/venv_01/lib/python3.7/site-packages/xgboost/sklearn.py:1224: UserWarning: The use of label encoder in XGBClassifier is deprecated and will be removed in a future release. To remove this warning, do the following: 1) Pass option use_label_encoder=False when constructing XGBClassifier object; and 2) Encode your labels (y) as integers starting with 0, i.e. 0, 1, 2, ..., [num_class - 1].\n",
      "  warnings.warn(label_encoder_deprecation_msg, UserWarning)\n"
     ]
    },
    {
     "name": "stdout",
     "output_type": "stream",
     "text": [
      "CPU times: user 10min 54s, sys: 570 ms, total: 10min 55s\n",
      "Wall time: 43.1 s\n"
     ]
    }
   ],
   "source": [
    "%%time\n",
    "params = {\"tree_method\": \"hist\", \n",
    "          \"objective\": 'multi:softmax',\n",
    "          \"subsample\": 0.8,\n",
    "          \"colsample_bytree\": 0.8,\n",
    "        #   \"single_precision_histogram\" : True,\n",
    "          }\n",
    "\n",
    "start = time.time()\n",
    "XGB_mod1 = xgb.XGBClassifier(params,eval_metric='mlogloss',).fit(X,y)\n",
    "# print(time.time()-start)\n",
    "y_pred = XGB_mod1.predict(X_test)"
   ]
  },
  {
   "cell_type": "code",
   "execution_count": 68,
   "metadata": {},
   "outputs": [
    {
     "data": {
      "text/plain": [
       "0.254768059852604"
      ]
     },
     "execution_count": 68,
     "metadata": {},
     "output_type": "execute_result"
    }
   ],
   "source": [
    "from sklearn.metrics import f1_score\n",
    "f1_score(y_test, y_pred,average='macro')"
   ]
  },
  {
   "cell_type": "code",
   "execution_count": 69,
   "metadata": {},
   "outputs": [
    {
     "name": "stderr",
     "output_type": "stream",
     "text": [
      "/home/go/miniconda3/envs/venv_01/lib/python3.7/site-packages/xgboost/core.py:502: FutureWarning: Pass `objective` as keyword args.  Passing these as positional arguments will be considered as error in future releases.\n",
      "  format(\", \".join(args_msg)), FutureWarning\n",
      "/home/go/miniconda3/envs/venv_01/lib/python3.7/site-packages/xgboost/sklearn.py:1224: UserWarning: The use of label encoder in XGBClassifier is deprecated and will be removed in a future release. To remove this warning, do the following: 1) Pass option use_label_encoder=False when constructing XGBClassifier object; and 2) Encode your labels (y) as integers starting with 0, i.e. 0, 1, 2, ..., [num_class - 1].\n",
      "  warnings.warn(label_encoder_deprecation_msg, UserWarning)\n"
     ]
    },
    {
     "name": "stdout",
     "output_type": "stream",
     "text": [
      "CPU times: user 11min 24s, sys: 580 ms, total: 11min 25s\n",
      "Wall time: 46.6 s\n"
     ]
    }
   ],
   "source": [
    "%%time\n",
    "params = {\"tree_method\": \"gpu_hist\", \n",
    "          \"objective\": 'multi:softmax',\n",
    "          \"subsample\": 0.8,\n",
    "          \"colsample_bytree\": 0.8,\n",
    "          \"single_precision_histogram\" : True,\n",
    "          }\n",
    "\n",
    "start = time.time()\n",
    "XGB_mod1 = xgb.XGBClassifier(params,eval_metric='mlogloss',).fit(X,y)\n",
    "# print(time.time()-start)\n",
    "y_pred = XGB_mod1.predict(X_test)"
   ]
  },
  {
   "cell_type": "code",
   "execution_count": 70,
   "metadata": {},
   "outputs": [
    {
     "data": {
      "text/plain": [
       "0.254768059852604"
      ]
     },
     "execution_count": 70,
     "metadata": {},
     "output_type": "execute_result"
    }
   ],
   "source": [
    "from sklearn.metrics import f1_score\n",
    "f1_score(y_test, y_pred,average='macro')"
   ]
  },
  {
   "cell_type": "code",
   "execution_count": null,
   "metadata": {},
   "outputs": [],
   "source": [
    "%%time\n",
    "params = {\"tree_method\": \"hist\", \n",
    "          \"objective\": 'multi:softmax',\n",
    "          \"subsample\": 0.8,\n",
    "          \"colsample_bytree\": 0.8,\n",
    "          \"single_precision_histogram\" : True,\n",
    "          }\n",
    "\n",
    "start = time.time()\n",
    "XGB_mod1 = xgb.XGBClassifier(params,eval_metric='mlogloss',).fit(X,y)\n",
    "# print(time.time()-start)\n",
    "y_pred = XGB_mod1.predict(X_test)"
   ]
  },
  {
   "cell_type": "code",
   "execution_count": null,
   "metadata": {},
   "outputs": [],
   "source": [
    "from sklearn.metrics import f1_score\n",
    "f1_score(y_test, y_pred,average='macro')"
   ]
  },
  {
   "cell_type": "markdown",
   "metadata": {},
   "source": [
    "## 1000열 넘파이"
   ]
  },
  {
   "cell_type": "code",
   "execution_count": 55,
   "metadata": {},
   "outputs": [],
   "source": [
    "X, X_test, y, y_test = train_test_split(train_x, label, test_size=0.2, shuffle= True,stratify=label)\n",
    "X, X_test, y, y_test = np.array(X)[:,:1000],np.array(X_test)[:,:1000],np.array(y),np.array(y_test),"
   ]
  },
  {
   "cell_type": "code",
   "execution_count": 56,
   "metadata": {},
   "outputs": [
    {
     "name": "stderr",
     "output_type": "stream",
     "text": [
      "/home/go/miniconda3/envs/venv_01/lib/python3.7/site-packages/xgboost/core.py:502: FutureWarning: Pass `objective` as keyword args.  Passing these as positional arguments will be considered as error in future releases.\n",
      "  format(\", \".join(args_msg)), FutureWarning\n",
      "/home/go/miniconda3/envs/venv_01/lib/python3.7/site-packages/xgboost/sklearn.py:1224: UserWarning: The use of label encoder in XGBClassifier is deprecated and will be removed in a future release. To remove this warning, do the following: 1) Pass option use_label_encoder=False when constructing XGBClassifier object; and 2) Encode your labels (y) as integers starting with 0, i.e. 0, 1, 2, ..., [num_class - 1].\n",
      "  warnings.warn(label_encoder_deprecation_msg, UserWarning)\n"
     ]
    },
    {
     "name": "stdout",
     "output_type": "stream",
     "text": [
      "CPU times: user 10min 47s, sys: 220 ms, total: 10min 47s\n",
      "Wall time: 40.8 s\n"
     ]
    }
   ],
   "source": [
    "%%time\n",
    "params = {\"tree_method\": \"gpu_hist\", \n",
    "          \"objective\": 'multi:softmax',\n",
    "          \"subsample\": 0.8,\n",
    "          \"colsample_bytree\": 0.8,\n",
    "        #   \"single_precision_histogram\" : True,\n",
    "          }\n",
    "\n",
    "start = time.time()\n",
    "XGB_mod1 = xgb.XGBClassifier(params,eval_metric='mlogloss',).fit(X,y)\n",
    "# print(time.time()-start)\n",
    "y_pred1 = XGB_mod1.predict(X_test)"
   ]
  },
  {
   "cell_type": "code",
   "execution_count": 57,
   "metadata": {},
   "outputs": [
    {
     "name": "stdout",
     "output_type": "stream",
     "text": [
      "CPU times: user 10min 34s, sys: 69.5 ms, total: 10min 34s\n",
      "Wall time: 39.9 s\n"
     ]
    }
   ],
   "source": [
    "%%time\n",
    "params = {\"tree_method\": \"hist\", \n",
    "          \"objective\": 'multi:softmax',\n",
    "          \"subsample\": 0.8,\n",
    "          \"colsample_bytree\": 0.8,\n",
    "        #   \"single_precision_histogram\" : True,\n",
    "          }\n",
    "\n",
    "start = time.time()\n",
    "XGB_mod1 = xgb.XGBClassifier(params,eval_metric='mlogloss',).fit(X,y)\n",
    "# print(time.time()-start)\n",
    "y_pred1 = XGB_mod1.predict(X_test)"
   ]
  },
  {
   "cell_type": "code",
   "execution_count": 58,
   "metadata": {},
   "outputs": [
    {
     "name": "stdout",
     "output_type": "stream",
     "text": [
      "CPU times: user 10min 56s, sys: 189 ms, total: 10min 56s\n",
      "Wall time: 41.3 s\n"
     ]
    }
   ],
   "source": [
    "%%time\n",
    "params = {\"tree_method\": \"gpu_hist\", \n",
    "          \"objective\": 'multi:softmax',\n",
    "          \"subsample\": 0.8,\n",
    "          \"colsample_bytree\": 0.8,\n",
    "          \"single_precision_histogram\" : True,\n",
    "          }\n",
    "\n",
    "start = time.time()\n",
    "XGB_mod1 = xgb.XGBClassifier(params,eval_metric='mlogloss',).fit(X,y)\n",
    "# print(time.time()-start)\n",
    "y_pred1 = XGB_mod1.predict(X_test)"
   ]
  },
  {
   "cell_type": "code",
   "execution_count": 59,
   "metadata": {},
   "outputs": [
    {
     "name": "stdout",
     "output_type": "stream",
     "text": [
      "CPU times: user 10min 47s, sys: 190 ms, total: 10min 47s\n",
      "Wall time: 40.7 s\n"
     ]
    }
   ],
   "source": [
    "%%time\n",
    "params = {\"tree_method\": \"hist\", \n",
    "          \"objective\": 'multi:softmax',\n",
    "          \"subsample\": 0.8,\n",
    "          \"colsample_bytree\": 0.8,\n",
    "          \"single_precision_histogram\" : True,\n",
    "          }\n",
    "\n",
    "start = time.time()\n",
    "XGB_mod1 = xgb.XGBClassifier(params,eval_metric='mlogloss',).fit(X,y)\n",
    "# print(time.time()-start)\n",
    "y_pred1 = XGB_mod1.predict(X_test)"
   ]
  },
  {
   "cell_type": "markdown",
   "metadata": {},
   "source": [
    "## cluster 테스트"
   ]
  },
  {
   "cell_type": "code",
   "execution_count": 60,
   "metadata": {},
   "outputs": [],
   "source": [
    "X, X_test, y, y_test = train_test_split(train_x, label, test_size=0.2, shuffle= True,stratify=label)\n",
    "X, X_test, y, y_test = X.rechunk((3000,-1))[:,:1000], X_test.rechunk((3000,-1))[:,:1000], y.rechunk((3000,-1)), y_test.rechunk((3000,-1))"
   ]
  },
  {
   "cell_type": "code",
   "execution_count": null,
   "metadata": {},
   "outputs": [
    {
     "name": "stdout",
     "output_type": "stream",
     "text": [
      "<Client: 'tcp://127.0.0.1:42121' processes=4 threads=16, memory=24.59 GiB>\n"
     ]
    },
    {
     "name": "stderr",
     "output_type": "stream",
     "text": [
      "[17:20:18] task [xgboost.dask]:tcp://127.0.0.1:46113 got new rank 0\n",
      "[17:20:18] task [xgboost.dask]:tcp://127.0.0.1:39685 got new rank 1\n"
     ]
    },
    {
     "name": "stdout",
     "output_type": "stream",
     "text": [
      "[0]\ttrain-mlogloss:2.93766\n",
      "[1]\ttrain-mlogloss:1.99399\n",
      "[2]\ttrain-mlogloss:1.58934\n",
      "[3]\ttrain-mlogloss:1.29963\n",
      "34.996373653411865\n",
      "CPU times: user 11.4 s, sys: 1.52 s, total: 12.9 s\n",
      "Wall time: 38.4 s\n"
     ]
    }
   ],
   "source": [
    "%%time\n",
    "from dask.distributed import Client, LocalCluster\n",
    "#http://localhost:3258/status\n",
    "if __name__ == \"__main__\":\n",
    "    with LocalCluster(dashboard_address=':3258') as cluster:\n",
    "        with Client(cluster) as client:\n",
    "            print(client)\n",
    "            # X and y must be Dask dataframes or arrays\n",
    "            params = {\"verbosity\": 0, \n",
    "            \"tree_method\": \"hist\", \n",
    "            \"objective\": 'multi:softmax',\n",
    "            \"num_class\":len(label_description),\n",
    "            }\n",
    "\n",
    "           \n",
    "            start = time.time()\n",
    "            dtrain = xgb.dask.DaskDMatrix(client, X,y)\n",
    "            out = xgb.dask.train(\n",
    "                client,\n",
    "                params,\n",
    "                dtrain,\n",
    "                num_boost_round=4,\n",
    "                evals=[(dtrain, \"train\")],\n",
    "            )\n",
    "            print(time.time()-start)\n",
    "            y_pred = xgb.dask.predict(client,out,X_test).compute()\n",
    "            "
   ]
  },
  {
   "cell_type": "code",
   "execution_count": null,
   "metadata": {},
   "outputs": [],
   "source": [
    "from sklearn.metrics import f1_score\n",
    "f1_score(y_test, y_pred,average='macro')"
   ]
  },
  {
   "cell_type": "code",
   "execution_count": 34,
   "metadata": {},
   "outputs": [
    {
     "name": "stdout",
     "output_type": "stream",
     "text": [
      "<Client: 'tcp://127.0.0.1:46851' processes=4 threads=16, memory=24.59 GiB>\n"
     ]
    },
    {
     "name": "stderr",
     "output_type": "stream",
     "text": [
      "[16:35:21] task [xgboost.dask]:tcp://127.0.0.1:45085 got new rank 0\n",
      "[16:35:21] task [xgboost.dask]:tcp://127.0.0.1:45317 got new rank 1\n",
      "[16:35:21] task [xgboost.dask]:tcp://127.0.0.1:41293 got new rank 2\n",
      "[16:35:21] task [xgboost.dask]:tcp://127.0.0.1:35087 got new rank 3\n",
      "distributed.worker - WARNING - Compute Failed\n",
      "Function:  dispatched_train\n",
      "args:      ('tcp://127.0.0.1:45317', [b'DMLC_NUM_WORKER=4', b'DMLC_TRACKER_URI=172.24.219.36', b'DMLC_TRACKER_PORT=9097', b'DMLC_TASK_ID=[xgboost.dask]:tcp://127.0.0.1:45317'], {'feature_names': None, 'feature_types': None, 'feature_weights': None, 'meta_names': ['labels'], 'missing': None, 'enable_categorical': False, 'parts': [(array([[0.14509805, 0.34117648, 0.09411765, ..., 0.1764706 , 0.08627451,\n",
      "        0.19607843],\n",
      "       [0.3529412 , 0.41568628, 0.20784314, ..., 0.35686275, 0.13333334,\n",
      "        0.19215687],\n",
      "       [0.34117648, 0.28627452, 0.25490198, ..., 0.48235294, 0.11764706,\n",
      "        0.36078432],\n",
      "       ...,\n",
      "       [0.04313726, 0.04705882, 0.03921569, ..., 0.4862745 , 0.21960784,\n",
      "        0.5372549 ],\n",
      "       [0.5647059 , 0.54901963, 0.5137255 , ..., 0.44705883, 0.2       ,\n",
      "        0.34509805],\n",
      "       [0.59607846, 0.78431374, 0.6313726 , ..., 0.47843137, 0.2784314 ,\n",
      "        0.2784314 ]], dtype=float32), array([129,  54,   0, 107,  64,  25, 118,  76,  54, 129,  54,  54, 129,\n",
      "        54,  5\n",
      "kwargs:    {}\n",
      "Exception: \"XGBoostError('[16:36:17] ../src/tree/updater_gpu_hist.cu:770: Exception in gpu_hist: [16:36:17] ../src/common/device_helpers.cu:61: Check failed: n_uniques == world (1 vs. 4) : Multiple processes within communication group running on same CUDA device is not supported. 73bc4708914a6a63232a2564cb70ed45\\\\n\\\\nStack trace:\\\\n  [bt] (0) /home/go/miniconda3/envs/venv_01/lib/python3.7/site-packages/xgboost/lib/libxgboost.so(+0x31ddcd) [0x7ff3acb89dcd]\\\\n  [bt] (1) /home/go/miniconda3/envs/venv_01/lib/python3.7/site-packages/xgboost/lib/libxgboost.so(+0x31ebf5) [0x7ff3acb8abf5]\\\\n  [bt] (2) /home/go/miniconda3/envs/venv_01/lib/python3.7/site-packages/xgboost/lib/libxgboost.so(+0x4d7f42) [0x7ff3acd43f42]\\\\n  [bt] (3) /home/go/miniconda3/envs/venv_01/lib/python3.7/site-packages/xgboost/lib/libxgboost.so(+0x4e1d26) [0x7ff3acd4dd26]\\\\n  [bt] (4) /home/go/miniconda3/envs/venv_01/lib/python3.7/site-packages/xgboost/lib/libxgboost.so(+0x17d683) [0x7ff3ac9e9683]\\\\n  [bt] (5) /home/go/miniconda3/envs/venv_01/lib/python3.7/site-packages/xgboost/lib/libxgboost.so(+0x17e4ac) [0x7ff3ac9ea4ac]\\\\n  [bt] (6) /home/go/miniconda3/envs/venv_01/lib/python3.7/site-packages/xgboost/lib/libxgboost.so(+0x1b49fa) [0x7ff3aca209fa]\\\\n  [bt] (7) /home/go/miniconda3/envs/venv_01/lib/python3.7/site-packages/xgboost/lib/libxgboost.so(XGBoosterUpdateOneIter+0x68) [0x7ff3ac9054f8]\\\\n  [bt] (8) /home/go/miniconda3/envs/venv_01/lib/python3.7/lib-dynload/../../libffi.so.7(+0x69dd) [0x7ff49d5409dd]\\\\n\\\\n\\\\n\\\\nStack trace:\\\\n  [bt] (0) /home/go/miniconda3/envs/venv_01/lib/python3.7/site-packages/xgboost/lib/libxgboost.so(+0x4c2fe9) [0x7ff3acd2efe9]\\\\n  [bt] (1) /home/go/miniconda3/envs/venv_01/lib/python3.7/site-packages/xgboost/lib/libxgboost.so(+0x4e207f) [0x7ff3acd4e07f]\\\\n  [bt] (2) /home/go/miniconda3/envs/venv_01/lib/python3.7/site-packages/xgboost/lib/libxgboost.so(+0x17d683) [0x7ff3ac9e9683]\\\\n  [bt] (3) /home/go/miniconda3/envs/venv_01/lib/python3.7/site-packages/xgboost/lib/libxgboost.so(+0x17e4ac) [0x7ff3ac9ea4ac]\\\\n  [bt] (4) /home/go/miniconda3/envs/venv_01/lib/python3.7/site-packages/xgboost/lib/libxgboost.so(+0x1b49fa) [0x7ff3aca209fa]\\\\n  [bt] (5) /home/go/miniconda3/envs/venv_01/lib/python3.7/site-packages/xgboost/lib/libxgboost.so(XGBoosterUpdateOneIter+0x68) [0x7ff3ac9054f8]\\\\n  [bt] (6) /home/go/miniconda3/envs/venv_01/lib/python3.7/lib-dynload/../../libffi.so.7(+0x69dd) [0x7ff49d5409dd]\\\\n  [bt] (7) /home/go/miniconda3/envs/venv_01/lib/python3.7/lib-dynload/../../libffi.so.7(+0x6067) [0x7ff49d540067]\\\\n  [bt] (8) /home/go/miniconda3/envs/venv_01/lib/python3.7/lib-dynload/_ctypes.cpython-37m-x86_64-linux-gnu.so(_ctypes_callproc+0x2e7) [0x7ff49d5583a7]\\\\n\\\\n')\"\n",
      "\n",
      "distributed.worker - WARNING - Compute Failed\n",
      "Function:  dispatched_train\n",
      "args:      ('tcp://127.0.0.1:41293', [b'DMLC_NUM_WORKER=4', b'DMLC_TRACKER_URI=172.24.219.36', b'DMLC_TRACKER_PORT=9097', b'DMLC_TASK_ID=[xgboost.dask]:tcp://127.0.0.1:41293'], {'feature_names': None, 'feature_types': None, 'feature_weights': None, 'meta_names': ['labels'], 'missing': None, 'enable_categorical': False, 'parts': [(array([[0.18431373, 0.15686275, 0.14509805, ..., 0.07843138, 0.05098039,\n",
      "        0.10980392],\n",
      "       [0.1254902 , 0.25490198, 0.16078432, ..., 0.77254903, 0.6431373 ,\n",
      "        0.5803922 ],\n",
      "       [0.5294118 , 0.7647059 , 0.4117647 , ..., 0.44705883, 0.11764706,\n",
      "        0.22745098],\n",
      "       ...,\n",
      "       [0.30588236, 0.47843137, 0.28235295, ..., 0.72156864, 0.24313726,\n",
      "        0.4509804 ],\n",
      "       [0.4392157 , 0.3019608 , 0.20392157, ..., 0.42352942, 0.1764706 ,\n",
      "        0.39215687],\n",
      "       [0.15686275, 0.22352941, 0.10980392, ..., 0.45882353, 0.36078432,\n",
      "        0.61960787]], dtype=float32), array([ 79, 129,  25,   0,  79,  54, 129, 104,  68,  54,  54,  56,  76,\n",
      "         0, 12\n",
      "kwargs:    {}\n",
      "Exception: \"XGBoostError('[16:36:17] ../src/tree/updater_gpu_hist.cu:770: Exception in gpu_hist: [16:36:17] ../src/common/device_helpers.cu:61: Check failed: n_uniques == world (1 vs. 4) : Multiple processes within communication group running on same CUDA device is not supported. 73bc4708914a6a63232a2564cb70ed45\\\\n\\\\nStack trace:\\\\n  [bt] (0) /home/go/miniconda3/envs/venv_01/lib/python3.7/site-packages/xgboost/lib/libxgboost.so(+0x31ddcd) [0x7f66cddafdcd]\\\\n  [bt] (1) /home/go/miniconda3/envs/venv_01/lib/python3.7/site-packages/xgboost/lib/libxgboost.so(+0x31ebf5) [0x7f66cddb0bf5]\\\\n  [bt] (2) /home/go/miniconda3/envs/venv_01/lib/python3.7/site-packages/xgboost/lib/libxgboost.so(+0x4d7f42) [0x7f66cdf69f42]\\\\n  [bt] (3) /home/go/miniconda3/envs/venv_01/lib/python3.7/site-packages/xgboost/lib/libxgboost.so(+0x4e1d26) [0x7f66cdf73d26]\\\\n  [bt] (4) /home/go/miniconda3/envs/venv_01/lib/python3.7/site-packages/xgboost/lib/libxgboost.so(+0x17d683) [0x7f66cdc0f683]\\\\n  [bt] (5) /home/go/miniconda3/envs/venv_01/lib/python3.7/site-packages/xgboost/lib/libxgboost.so(+0x17e4ac) [0x7f66cdc104ac]\\\\n  [bt] (6) /home/go/miniconda3/envs/venv_01/lib/python3.7/site-packages/xgboost/lib/libxgboost.so(+0x1b49fa) [0x7f66cdc469fa]\\\\n  [bt] (7) /home/go/miniconda3/envs/venv_01/lib/python3.7/site-packages/xgboost/lib/libxgboost.so(XGBoosterUpdateOneIter+0x68) [0x7f66cdb2b4f8]\\\\n  [bt] (8) /home/go/miniconda3/envs/venv_01/lib/python3.7/lib-dynload/../../libffi.so.7(+0x69dd) [0x7f67be72e9dd]\\\\n\\\\n\\\\n\\\\nStack trace:\\\\n  [bt] (0) /home/go/miniconda3/envs/venv_01/lib/python3.7/site-packages/xgboost/lib/libxgboost.so(+0x4c2fe9) [0x7f66cdf54fe9]\\\\n  [bt] (1) /home/go/miniconda3/envs/venv_01/lib/python3.7/site-packages/xgboost/lib/libxgboost.so(+0x4e207f) [0x7f66cdf7407f]\\\\n  [bt] (2) /home/go/miniconda3/envs/venv_01/lib/python3.7/site-packages/xgboost/lib/libxgboost.so(+0x17d683) [0x7f66cdc0f683]\\\\n  [bt] (3) /home/go/miniconda3/envs/venv_01/lib/python3.7/site-packages/xgboost/lib/libxgboost.so(+0x17e4ac) [0x7f66cdc104ac]\\\\n  [bt] (4) /home/go/miniconda3/envs/venv_01/lib/python3.7/site-packages/xgboost/lib/libxgboost.so(+0x1b49fa) [0x7f66cdc469fa]\\\\n  [bt] (5) /home/go/miniconda3/envs/venv_01/lib/python3.7/site-packages/xgboost/lib/libxgboost.so(XGBoosterUpdateOneIter+0x68) [0x7f66cdb2b4f8]\\\\n  [bt] (6) /home/go/miniconda3/envs/venv_01/lib/python3.7/lib-dynload/../../libffi.so.7(+0x69dd) [0x7f67be72e9dd]\\\\n  [bt] (7) /home/go/miniconda3/envs/venv_01/lib/python3.7/lib-dynload/../../libffi.so.7(+0x6067) [0x7f67be72e067]\\\\n  [bt] (8) /home/go/miniconda3/envs/venv_01/lib/python3.7/lib-dynload/_ctypes.cpython-37m-x86_64-linux-gnu.so(_ctypes_callproc+0x2e7) [0x7f67be7463a7]\\\\n\\\\n')\"\n",
      "\n",
      "distributed.worker - WARNING - Compute Failed\n",
      "Function:  dispatched_train\n",
      "args:      ('tcp://127.0.0.1:45085', [b'DMLC_NUM_WORKER=4', b'DMLC_TRACKER_URI=172.24.219.36', b'DMLC_TRACKER_PORT=9097', b'DMLC_TASK_ID=[xgboost.dask]:tcp://127.0.0.1:45085'], {'feature_names': None, 'feature_types': None, 'feature_weights': None, 'meta_names': ['labels'], 'missing': None, 'enable_categorical': False, 'parts': [(array([[0.26666668, 0.30588236, 0.09411765, ..., 0.3137255 , 0.09411765,\n",
      "        0.27058825],\n",
      "       [0.8039216 , 0.827451  , 0.81960785, ..., 0.39607844, 0.13725491,\n",
      "        0.20392157],\n",
      "       [0.3019608 , 0.4862745 , 0.20784314, ..., 0.70980394, 0.75686276,\n",
      "        0.62352943],\n",
      "       ...,\n",
      "       [0.827451  , 0.88235295, 0.9529412 , ..., 0.26666668, 0.00392157,\n",
      "        0.14509805],\n",
      "       [0.23529412, 0.40392157, 0.16078432, ..., 0.4       , 0.20784314,\n",
      "        0.21568628],\n",
      "       [0.6509804 , 0.654902  , 0.5686275 , ..., 0.64705884, 0.5019608 ,\n",
      "        0.87058824]], dtype=float32), array([ 54,  72,   0,  54,  54,  57, 129,  54,  54, 129,  76,  79,  54,\n",
      "       129,  5\n",
      "kwargs:    {}\n",
      "Exception: \"XGBoostError('[16:36:17] ../src/tree/updater_gpu_hist.cu:770: Exception in gpu_hist: [16:36:17] ../src/common/device_helpers.cu:61: Check failed: n_uniques == world (1 vs. 4) : Multiple processes within communication group running on same CUDA device is not supported. 73bc4708914a6a63232a2564cb70ed45\\\\n\\\\nStack trace:\\\\n  [bt] (0) /home/go/miniconda3/envs/venv_01/lib/python3.7/site-packages/xgboost/lib/libxgboost.so(+0x31ddcd) [0x7f34023cedcd]\\\\n  [bt] (1) /home/go/miniconda3/envs/venv_01/lib/python3.7/site-packages/xgboost/lib/libxgboost.so(+0x31ebf5) [0x7f34023cfbf5]\\\\n  [bt] (2) /home/go/miniconda3/envs/venv_01/lib/python3.7/site-packages/xgboost/lib/libxgboost.so(+0x4d7f42) [0x7f3402588f42]\\\\n  [bt] (3) /home/go/miniconda3/envs/venv_01/lib/python3.7/site-packages/xgboost/lib/libxgboost.so(+0x4e1d26) [0x7f3402592d26]\\\\n  [bt] (4) /home/go/miniconda3/envs/venv_01/lib/python3.7/site-packages/xgboost/lib/libxgboost.so(+0x17d683) [0x7f340222e683]\\\\n  [bt] (5) /home/go/miniconda3/envs/venv_01/lib/python3.7/site-packages/xgboost/lib/libxgboost.so(+0x17e4ac) [0x7f340222f4ac]\\\\n  [bt] (6) /home/go/miniconda3/envs/venv_01/lib/python3.7/site-packages/xgboost/lib/libxgboost.so(+0x1b49fa) [0x7f34022659fa]\\\\n  [bt] (7) /home/go/miniconda3/envs/venv_01/lib/python3.7/site-packages/xgboost/lib/libxgboost.so(XGBoosterUpdateOneIter+0x68) [0x7f340214a4f8]\\\\n  [bt] (8) /home/go/miniconda3/envs/venv_01/lib/python3.7/lib-dynload/../../libffi.so.7(+0x69dd) [0x7f34f24ac9dd]\\\\n\\\\n\\\\n\\\\nStack trace:\\\\n  [bt] (0) /home/go/miniconda3/envs/venv_01/lib/python3.7/site-packages/xgboost/lib/libxgboost.so(+0x4c2fe9) [0x7f3402573fe9]\\\\n  [bt] (1) /home/go/miniconda3/envs/venv_01/lib/python3.7/site-packages/xgboost/lib/libxgboost.so(+0x4e207f) [0x7f340259307f]\\\\n  [bt] (2) /home/go/miniconda3/envs/venv_01/lib/python3.7/site-packages/xgboost/lib/libxgboost.so(+0x17d683) [0x7f340222e683]\\\\n  [bt] (3) /home/go/miniconda3/envs/venv_01/lib/python3.7/site-packages/xgboost/lib/libxgboost.so(+0x17e4ac) [0x7f340222f4ac]\\\\n  [bt] (4) /home/go/miniconda3/envs/venv_01/lib/python3.7/site-packages/xgboost/lib/libxgboost.so(+0x1b49fa) [0x7f34022659fa]\\\\n  [bt] (5) /home/go/miniconda3/envs/venv_01/lib/python3.7/site-packages/xgboost/lib/libxgboost.so(XGBoosterUpdateOneIter+0x68) [0x7f340214a4f8]\\\\n  [bt] (6) /home/go/miniconda3/envs/venv_01/lib/python3.7/lib-dynload/../../libffi.so.7(+0x69dd) [0x7f34f24ac9dd]\\\\n  [bt] (7) /home/go/miniconda3/envs/venv_01/lib/python3.7/lib-dynload/../../libffi.so.7(+0x6067) [0x7f34f24ac067]\\\\n  [bt] (8) /home/go/miniconda3/envs/venv_01/lib/python3.7/lib-dynload/_ctypes.cpython-37m-x86_64-linux-gnu.so(_ctypes_callproc+0x2e7) [0x7f34f24c43a7]\\\\n\\\\n')\"\n",
      "\n",
      "distributed.worker - WARNING - Compute Failed\n",
      "Function:  dispatched_train\n",
      "args:      ('tcp://127.0.0.1:35087', [b'DMLC_NUM_WORKER=4', b'DMLC_TRACKER_URI=172.24.219.36', b'DMLC_TRACKER_PORT=9097', b'DMLC_TASK_ID=[xgboost.dask]:tcp://127.0.0.1:35087'], {'feature_names': None, 'feature_types': None, 'feature_weights': None, 'meta_names': ['labels'], 'missing': None, 'enable_categorical': False, 'parts': [(array([[0.47058824, 0.6431373 , 0.38431373, ..., 0.6313726 , 0.4509804 ,\n",
      "        0.6313726 ],\n",
      "       [0.3019608 , 0.54901963, 0.21568628, ..., 0.48235294, 0.18039216,\n",
      "        0.24705882],\n",
      "       [0.31764707, 0.5411765 , 0.15294118, ..., 0.6666667 , 0.29411766,\n",
      "        0.47058824],\n",
      "       ...,\n",
      "       [0.34901962, 0.3647059 , 0.16470589, ..., 0.19215687, 0.09803922,\n",
      "        0.29803923],\n",
      "       [0.57254905, 0.5568628 , 0.54509807, ..., 0.83137256, 0.7647059 ,\n",
      "        0.80784315],\n",
      "       [0.57254905, 0.75686276, 0.4392157 , ..., 0.26666668, 0.04313726,\n",
      "        0.16470589]], dtype=float32), array([  0,   0, 129,   0,  54,  54,  28,  54,  79,  54,  79, 104,  79,\n",
      "        79, 12\n",
      "kwargs:    {}\n",
      "Exception: \"XGBoostError('[16:36:17] ../src/tree/updater_gpu_hist.cu:770: Exception in gpu_hist: [16:36:17] ../src/common/device_helpers.cu:61: Check failed: n_uniques == world (1 vs. 4) : Multiple processes within communication group running on same CUDA device is not supported. 73bc4708914a6a63232a2564cb70ed45\\\\n\\\\nStack trace:\\\\n  [bt] (0) /home/go/miniconda3/envs/venv_01/lib/python3.7/site-packages/xgboost/lib/libxgboost.so(+0x31ddcd) [0x7fd427662dcd]\\\\n  [bt] (1) /home/go/miniconda3/envs/venv_01/lib/python3.7/site-packages/xgboost/lib/libxgboost.so(+0x31ebf5) [0x7fd427663bf5]\\\\n  [bt] (2) /home/go/miniconda3/envs/venv_01/lib/python3.7/site-packages/xgboost/lib/libxgboost.so(+0x4d7f42) [0x7fd42781cf42]\\\\n  [bt] (3) /home/go/miniconda3/envs/venv_01/lib/python3.7/site-packages/xgboost/lib/libxgboost.so(+0x4e1d26) [0x7fd427826d26]\\\\n  [bt] (4) /home/go/miniconda3/envs/venv_01/lib/python3.7/site-packages/xgboost/lib/libxgboost.so(+0x17d683) [0x7fd4274c2683]\\\\n  [bt] (5) /home/go/miniconda3/envs/venv_01/lib/python3.7/site-packages/xgboost/lib/libxgboost.so(+0x17e4ac) [0x7fd4274c34ac]\\\\n  [bt] (6) /home/go/miniconda3/envs/venv_01/lib/python3.7/site-packages/xgboost/lib/libxgboost.so(+0x1b49fa) [0x7fd4274f99fa]\\\\n  [bt] (7) /home/go/miniconda3/envs/venv_01/lib/python3.7/site-packages/xgboost/lib/libxgboost.so(XGBoosterUpdateOneIter+0x68) [0x7fd4273de4f8]\\\\n  [bt] (8) /home/go/miniconda3/envs/venv_01/lib/python3.7/lib-dynload/../../libffi.so.7(+0x69dd) [0x7fd50cb1b9dd]\\\\n\\\\n\\\\n\\\\nStack trace:\\\\n  [bt] (0) /home/go/miniconda3/envs/venv_01/lib/python3.7/site-packages/xgboost/lib/libxgboost.so(+0x4c2fe9) [0x7fd427807fe9]\\\\n  [bt] (1) /home/go/miniconda3/envs/venv_01/lib/python3.7/site-packages/xgboost/lib/libxgboost.so(+0x4e207f) [0x7fd42782707f]\\\\n  [bt] (2) /home/go/miniconda3/envs/venv_01/lib/python3.7/site-packages/xgboost/lib/libxgboost.so(+0x17d683) [0x7fd4274c2683]\\\\n  [bt] (3) /home/go/miniconda3/envs/venv_01/lib/python3.7/site-packages/xgboost/lib/libxgboost.so(+0x17e4ac) [0x7fd4274c34ac]\\\\n  [bt] (4) /home/go/miniconda3/envs/venv_01/lib/python3.7/site-packages/xgboost/lib/libxgboost.so(+0x1b49fa) [0x7fd4274f99fa]\\\\n  [bt] (5) /home/go/miniconda3/envs/venv_01/lib/python3.7/site-packages/xgboost/lib/libxgboost.so(XGBoosterUpdateOneIter+0x68) [0x7fd4273de4f8]\\\\n  [bt] (6) /home/go/miniconda3/envs/venv_01/lib/python3.7/lib-dynload/../../libffi.so.7(+0x69dd) [0x7fd50cb1b9dd]\\\\n  [bt] (7) /home/go/miniconda3/envs/venv_01/lib/python3.7/lib-dynload/../../libffi.so.7(+0x6067) [0x7fd50cb1b067]\\\\n  [bt] (8) /home/go/miniconda3/envs/venv_01/lib/python3.7/lib-dynload/_ctypes.cpython-37m-x86_64-linux-gnu.so(_ctypes_callproc+0x2e7) [0x7fd50cb333a7]\\\\n\\\\n')\"\n",
      "\n"
     ]
    },
    {
     "ename": "XGBoostError",
     "evalue": "[16:36:17] ../src/tree/updater_gpu_hist.cu:770: Exception in gpu_hist: [16:36:17] ../src/common/device_helpers.cu:61: Check failed: n_uniques == world (1 vs. 4) : Multiple processes within communication group running on same CUDA device is not supported. 73bc4708914a6a63232a2564cb70ed45\n\nStack trace:\n  [bt] (0) /home/go/miniconda3/envs/venv_01/lib/python3.7/site-packages/xgboost/lib/libxgboost.so(+0x31ddcd) [0x7ff3acb89dcd]\n  [bt] (1) /home/go/miniconda3/envs/venv_01/lib/python3.7/site-packages/xgboost/lib/libxgboost.so(+0x31ebf5) [0x7ff3acb8abf5]\n  [bt] (2) /home/go/miniconda3/envs/venv_01/lib/python3.7/site-packages/xgboost/lib/libxgboost.so(+0x4d7f42) [0x7ff3acd43f42]\n  [bt] (3) /home/go/miniconda3/envs/venv_01/lib/python3.7/site-packages/xgboost/lib/libxgboost.so(+0x4e1d26) [0x7ff3acd4dd26]\n  [bt] (4) /home/go/miniconda3/envs/venv_01/lib/python3.7/site-packages/xgboost/lib/libxgboost.so(+0x17d683) [0x7ff3ac9e9683]\n  [bt] (5) /home/go/miniconda3/envs/venv_01/lib/python3.7/site-packages/xgboost/lib/libxgboost.so(+0x17e4ac) [0x7ff3ac9ea4ac]\n  [bt] (6) /home/go/miniconda3/envs/venv_01/lib/python3.7/site-packages/xgboost/lib/libxgboost.so(+0x1b49fa) [0x7ff3aca209fa]\n  [bt] (7) /home/go/miniconda3/envs/venv_01/lib/python3.7/site-packages/xgboost/lib/libxgboost.so(XGBoosterUpdateOneIter+0x68) [0x7ff3ac9054f8]\n  [bt] (8) /home/go/miniconda3/envs/venv_01/lib/python3.7/lib-dynload/../../libffi.so.7(+0x69dd) [0x7ff49d5409dd]\n\n\n\nStack trace:\n  [bt] (0) /home/go/miniconda3/envs/venv_01/lib/python3.7/site-packages/xgboost/lib/libxgboost.so(+0x4c2fe9) [0x7ff3acd2efe9]\n  [bt] (1) /home/go/miniconda3/envs/venv_01/lib/python3.7/site-packages/xgboost/lib/libxgboost.so(+0x4e207f) [0x7ff3acd4e07f]\n  [bt] (2) /home/go/miniconda3/envs/venv_01/lib/python3.7/site-packages/xgboost/lib/libxgboost.so(+0x17d683) [0x7ff3ac9e9683]\n  [bt] (3) /home/go/miniconda3/envs/venv_01/lib/python3.7/site-packages/xgboost/lib/libxgboost.so(+0x17e4ac) [0x7ff3ac9ea4ac]\n  [bt] (4) /home/go/miniconda3/envs/venv_01/lib/python3.7/site-packages/xgboost/lib/libxgboost.so(+0x1b49fa) [0x7ff3aca209fa]\n  [bt] (5) /home/go/miniconda3/envs/venv_01/lib/python3.7/site-packages/xgboost/lib/libxgboost.so(XGBoosterUpdateOneIter+0x68) [0x7ff3ac9054f8]\n  [bt] (6) /home/go/miniconda3/envs/venv_01/lib/python3.7/lib-dynload/../../libffi.so.7(+0x69dd) [0x7ff49d5409dd]\n  [bt] (7) /home/go/miniconda3/envs/venv_01/lib/python3.7/lib-dynload/../../libffi.so.7(+0x6067) [0x7ff49d540067]\n  [bt] (8) /home/go/miniconda3/envs/venv_01/lib/python3.7/lib-dynload/_ctypes.cpython-37m-x86_64-linux-gnu.so(_ctypes_callproc+0x2e7) [0x7ff49d5583a7]\n\n",
     "output_type": "error",
     "traceback": [
      "\u001b[0;31m---------------------------------------------------------------------------\u001b[0m",
      "\u001b[0;31mXGBoostError\u001b[0m                              Traceback (most recent call last)",
      "\u001b[0;32m<timed exec>\u001b[0m in \u001b[0;36m<module>\u001b[0;34m\u001b[0m\n",
      "\u001b[0;32m~/miniconda3/envs/venv_01/lib/python3.7/site-packages/xgboost/dask.py\u001b[0m in \u001b[0;36mtrain\u001b[0;34m(client, params, dtrain, num_boost_round, evals, obj, feval, early_stopping_rounds, xgb_model, verbose_eval, callbacks)\u001b[0m\n\u001b[1;32m    979\u001b[0m     \u001b[0mclient\u001b[0m \u001b[0;34m=\u001b[0m \u001b[0m_xgb_get_client\u001b[0m\u001b[0;34m(\u001b[0m\u001b[0mclient\u001b[0m\u001b[0;34m)\u001b[0m\u001b[0;34m\u001b[0m\u001b[0;34m\u001b[0m\u001b[0m\n\u001b[1;32m    980\u001b[0m     \u001b[0margs\u001b[0m \u001b[0;34m=\u001b[0m \u001b[0mlocals\u001b[0m\u001b[0;34m(\u001b[0m\u001b[0;34m)\u001b[0m\u001b[0;34m\u001b[0m\u001b[0;34m\u001b[0m\u001b[0m\n\u001b[0;32m--> 981\u001b[0;31m     \u001b[0;32mreturn\u001b[0m \u001b[0mclient\u001b[0m\u001b[0;34m.\u001b[0m\u001b[0msync\u001b[0m\u001b[0;34m(\u001b[0m\u001b[0m_train_async\u001b[0m\u001b[0;34m,\u001b[0m \u001b[0mglobal_config\u001b[0m\u001b[0;34m=\u001b[0m\u001b[0mconfig\u001b[0m\u001b[0;34m.\u001b[0m\u001b[0mget_config\u001b[0m\u001b[0;34m(\u001b[0m\u001b[0;34m)\u001b[0m\u001b[0;34m,\u001b[0m \u001b[0;34m**\u001b[0m\u001b[0margs\u001b[0m\u001b[0;34m)\u001b[0m\u001b[0;34m\u001b[0m\u001b[0;34m\u001b[0m\u001b[0m\n\u001b[0m\u001b[1;32m    982\u001b[0m \u001b[0;34m\u001b[0m\u001b[0m\n\u001b[1;32m    983\u001b[0m \u001b[0;34m\u001b[0m\u001b[0m\n",
      "\u001b[0;32m~/miniconda3/envs/venv_01/lib/python3.7/site-packages/distributed/client.py\u001b[0m in \u001b[0;36msync\u001b[0;34m(self, func, asynchronous, callback_timeout, *args, **kwargs)\u001b[0m\n\u001b[1;32m    867\u001b[0m         \u001b[0;32melse\u001b[0m\u001b[0;34m:\u001b[0m\u001b[0;34m\u001b[0m\u001b[0;34m\u001b[0m\u001b[0m\n\u001b[1;32m    868\u001b[0m             return sync(\n\u001b[0;32m--> 869\u001b[0;31m                 \u001b[0mself\u001b[0m\u001b[0;34m.\u001b[0m\u001b[0mloop\u001b[0m\u001b[0;34m,\u001b[0m \u001b[0mfunc\u001b[0m\u001b[0;34m,\u001b[0m \u001b[0;34m*\u001b[0m\u001b[0margs\u001b[0m\u001b[0;34m,\u001b[0m \u001b[0mcallback_timeout\u001b[0m\u001b[0;34m=\u001b[0m\u001b[0mcallback_timeout\u001b[0m\u001b[0;34m,\u001b[0m \u001b[0;34m**\u001b[0m\u001b[0mkwargs\u001b[0m\u001b[0;34m\u001b[0m\u001b[0;34m\u001b[0m\u001b[0m\n\u001b[0m\u001b[1;32m    870\u001b[0m             )\n\u001b[1;32m    871\u001b[0m \u001b[0;34m\u001b[0m\u001b[0m\n",
      "\u001b[0;32m~/miniconda3/envs/venv_01/lib/python3.7/site-packages/distributed/utils.py\u001b[0m in \u001b[0;36msync\u001b[0;34m(loop, func, callback_timeout, *args, **kwargs)\u001b[0m\n\u001b[1;32m    330\u001b[0m     \u001b[0;32mif\u001b[0m \u001b[0merror\u001b[0m\u001b[0;34m[\u001b[0m\u001b[0;36m0\u001b[0m\u001b[0;34m]\u001b[0m\u001b[0;34m:\u001b[0m\u001b[0;34m\u001b[0m\u001b[0;34m\u001b[0m\u001b[0m\n\u001b[1;32m    331\u001b[0m         \u001b[0mtyp\u001b[0m\u001b[0;34m,\u001b[0m \u001b[0mexc\u001b[0m\u001b[0;34m,\u001b[0m \u001b[0mtb\u001b[0m \u001b[0;34m=\u001b[0m \u001b[0merror\u001b[0m\u001b[0;34m[\u001b[0m\u001b[0;36m0\u001b[0m\u001b[0;34m]\u001b[0m\u001b[0;34m\u001b[0m\u001b[0;34m\u001b[0m\u001b[0m\n\u001b[0;32m--> 332\u001b[0;31m         \u001b[0;32mraise\u001b[0m \u001b[0mexc\u001b[0m\u001b[0;34m.\u001b[0m\u001b[0mwith_traceback\u001b[0m\u001b[0;34m(\u001b[0m\u001b[0mtb\u001b[0m\u001b[0;34m)\u001b[0m\u001b[0;34m\u001b[0m\u001b[0;34m\u001b[0m\u001b[0m\n\u001b[0m\u001b[1;32m    333\u001b[0m     \u001b[0;32melse\u001b[0m\u001b[0;34m:\u001b[0m\u001b[0;34m\u001b[0m\u001b[0;34m\u001b[0m\u001b[0m\n\u001b[1;32m    334\u001b[0m         \u001b[0;32mreturn\u001b[0m \u001b[0mresult\u001b[0m\u001b[0;34m[\u001b[0m\u001b[0;36m0\u001b[0m\u001b[0;34m]\u001b[0m\u001b[0;34m\u001b[0m\u001b[0;34m\u001b[0m\u001b[0m\n",
      "\u001b[0;32m~/miniconda3/envs/venv_01/lib/python3.7/site-packages/distributed/utils.py\u001b[0m in \u001b[0;36mf\u001b[0;34m()\u001b[0m\n\u001b[1;32m    313\u001b[0m             \u001b[0;32mif\u001b[0m \u001b[0mcallback_timeout\u001b[0m \u001b[0;32mis\u001b[0m \u001b[0;32mnot\u001b[0m \u001b[0;32mNone\u001b[0m\u001b[0;34m:\u001b[0m\u001b[0;34m\u001b[0m\u001b[0;34m\u001b[0m\u001b[0m\n\u001b[1;32m    314\u001b[0m                 \u001b[0mfuture\u001b[0m \u001b[0;34m=\u001b[0m \u001b[0masyncio\u001b[0m\u001b[0;34m.\u001b[0m\u001b[0mwait_for\u001b[0m\u001b[0;34m(\u001b[0m\u001b[0mfuture\u001b[0m\u001b[0;34m,\u001b[0m \u001b[0mcallback_timeout\u001b[0m\u001b[0;34m)\u001b[0m\u001b[0;34m\u001b[0m\u001b[0;34m\u001b[0m\u001b[0m\n\u001b[0;32m--> 315\u001b[0;31m             \u001b[0mresult\u001b[0m\u001b[0;34m[\u001b[0m\u001b[0;36m0\u001b[0m\u001b[0;34m]\u001b[0m \u001b[0;34m=\u001b[0m \u001b[0;32myield\u001b[0m \u001b[0mfuture\u001b[0m\u001b[0;34m\u001b[0m\u001b[0;34m\u001b[0m\u001b[0m\n\u001b[0m\u001b[1;32m    316\u001b[0m         \u001b[0;32mexcept\u001b[0m \u001b[0mException\u001b[0m\u001b[0;34m:\u001b[0m\u001b[0;34m\u001b[0m\u001b[0;34m\u001b[0m\u001b[0m\n\u001b[1;32m    317\u001b[0m             \u001b[0merror\u001b[0m\u001b[0;34m[\u001b[0m\u001b[0;36m0\u001b[0m\u001b[0;34m]\u001b[0m \u001b[0;34m=\u001b[0m \u001b[0msys\u001b[0m\u001b[0;34m.\u001b[0m\u001b[0mexc_info\u001b[0m\u001b[0;34m(\u001b[0m\u001b[0;34m)\u001b[0m\u001b[0;34m\u001b[0m\u001b[0;34m\u001b[0m\u001b[0m\n",
      "\u001b[0;32m~/miniconda3/envs/venv_01/lib/python3.7/site-packages/tornado/gen.py\u001b[0m in \u001b[0;36mrun\u001b[0;34m(self)\u001b[0m\n\u001b[1;32m    760\u001b[0m \u001b[0;34m\u001b[0m\u001b[0m\n\u001b[1;32m    761\u001b[0m                     \u001b[0;32mtry\u001b[0m\u001b[0;34m:\u001b[0m\u001b[0;34m\u001b[0m\u001b[0;34m\u001b[0m\u001b[0m\n\u001b[0;32m--> 762\u001b[0;31m                         \u001b[0mvalue\u001b[0m \u001b[0;34m=\u001b[0m \u001b[0mfuture\u001b[0m\u001b[0;34m.\u001b[0m\u001b[0mresult\u001b[0m\u001b[0;34m(\u001b[0m\u001b[0;34m)\u001b[0m\u001b[0;34m\u001b[0m\u001b[0;34m\u001b[0m\u001b[0m\n\u001b[0m\u001b[1;32m    763\u001b[0m                     \u001b[0;32mexcept\u001b[0m \u001b[0mException\u001b[0m\u001b[0;34m:\u001b[0m\u001b[0;34m\u001b[0m\u001b[0;34m\u001b[0m\u001b[0m\n\u001b[1;32m    764\u001b[0m                         \u001b[0mexc_info\u001b[0m \u001b[0;34m=\u001b[0m \u001b[0msys\u001b[0m\u001b[0;34m.\u001b[0m\u001b[0mexc_info\u001b[0m\u001b[0;34m(\u001b[0m\u001b[0;34m)\u001b[0m\u001b[0;34m\u001b[0m\u001b[0;34m\u001b[0m\u001b[0m\n",
      "\u001b[0;32m~/miniconda3/envs/venv_01/lib/python3.7/site-packages/xgboost/dask.py\u001b[0m in \u001b[0;36m_train_async\u001b[0;34m(client, global_config, params, dtrain, num_boost_round, evals, obj, feval, early_stopping_rounds, verbose_eval, xgb_model, callbacks)\u001b[0m\n\u001b[1;32m    929\u001b[0m             \u001b[0mfutures\u001b[0m\u001b[0;34m.\u001b[0m\u001b[0mappend\u001b[0m\u001b[0;34m(\u001b[0m\u001b[0mf\u001b[0m\u001b[0;34m)\u001b[0m\u001b[0;34m\u001b[0m\u001b[0;34m\u001b[0m\u001b[0m\n\u001b[1;32m    930\u001b[0m \u001b[0;34m\u001b[0m\u001b[0m\n\u001b[0;32m--> 931\u001b[0;31m         \u001b[0mresults\u001b[0m \u001b[0;34m=\u001b[0m \u001b[0;32mawait\u001b[0m \u001b[0mclient\u001b[0m\u001b[0;34m.\u001b[0m\u001b[0mgather\u001b[0m\u001b[0;34m(\u001b[0m\u001b[0mfutures\u001b[0m\u001b[0;34m,\u001b[0m \u001b[0masynchronous\u001b[0m\u001b[0;34m=\u001b[0m\u001b[0;32mTrue\u001b[0m\u001b[0;34m)\u001b[0m\u001b[0;34m\u001b[0m\u001b[0;34m\u001b[0m\u001b[0m\n\u001b[0m\u001b[1;32m    932\u001b[0m \u001b[0;34m\u001b[0m\u001b[0m\n\u001b[1;32m    933\u001b[0m         \u001b[0;32mreturn\u001b[0m \u001b[0mlist\u001b[0m\u001b[0;34m(\u001b[0m\u001b[0mfilter\u001b[0m\u001b[0;34m(\u001b[0m\u001b[0;32mlambda\u001b[0m \u001b[0mret\u001b[0m\u001b[0;34m:\u001b[0m \u001b[0mret\u001b[0m \u001b[0;32mis\u001b[0m \u001b[0;32mnot\u001b[0m \u001b[0;32mNone\u001b[0m\u001b[0;34m,\u001b[0m \u001b[0mresults\u001b[0m\u001b[0;34m)\u001b[0m\u001b[0;34m)\u001b[0m\u001b[0;34m[\u001b[0m\u001b[0;36m0\u001b[0m\u001b[0;34m]\u001b[0m\u001b[0;34m\u001b[0m\u001b[0;34m\u001b[0m\u001b[0m\n",
      "\u001b[0;32m~/miniconda3/envs/venv_01/lib/python3.7/site-packages/distributed/client.py\u001b[0m in \u001b[0;36m_gather\u001b[0;34m(self, futures, errors, direct, local_worker)\u001b[0m\n\u001b[1;32m   1843\u001b[0m                             \u001b[0mexc\u001b[0m \u001b[0;34m=\u001b[0m \u001b[0mCancelledError\u001b[0m\u001b[0;34m(\u001b[0m\u001b[0mkey\u001b[0m\u001b[0;34m)\u001b[0m\u001b[0;34m\u001b[0m\u001b[0;34m\u001b[0m\u001b[0m\n\u001b[1;32m   1844\u001b[0m                         \u001b[0;32melse\u001b[0m\u001b[0;34m:\u001b[0m\u001b[0;34m\u001b[0m\u001b[0;34m\u001b[0m\u001b[0m\n\u001b[0;32m-> 1845\u001b[0;31m                             \u001b[0;32mraise\u001b[0m \u001b[0mexception\u001b[0m\u001b[0;34m.\u001b[0m\u001b[0mwith_traceback\u001b[0m\u001b[0;34m(\u001b[0m\u001b[0mtraceback\u001b[0m\u001b[0;34m)\u001b[0m\u001b[0;34m\u001b[0m\u001b[0;34m\u001b[0m\u001b[0m\n\u001b[0m\u001b[1;32m   1846\u001b[0m                         \u001b[0;32mraise\u001b[0m \u001b[0mexc\u001b[0m\u001b[0;34m\u001b[0m\u001b[0;34m\u001b[0m\u001b[0m\n\u001b[1;32m   1847\u001b[0m                     \u001b[0;32mif\u001b[0m \u001b[0merrors\u001b[0m \u001b[0;34m==\u001b[0m \u001b[0;34m\"skip\"\u001b[0m\u001b[0;34m:\u001b[0m\u001b[0;34m\u001b[0m\u001b[0;34m\u001b[0m\u001b[0m\n",
      "\u001b[0;32m~/miniconda3/envs/venv_01/lib/python3.7/site-packages/xgboost/dask.py\u001b[0m in \u001b[0;36mdispatched_train\u001b[0;34m()\u001b[0m\n\u001b[1;32m    894\u001b[0m                                \u001b[0mverbose_eval\u001b[0m\u001b[0;34m=\u001b[0m\u001b[0mverbose_eval\u001b[0m\u001b[0;34m,\u001b[0m\u001b[0;34m\u001b[0m\u001b[0;34m\u001b[0m\u001b[0m\n\u001b[1;32m    895\u001b[0m                                \u001b[0mxgb_model\u001b[0m\u001b[0;34m=\u001b[0m\u001b[0mxgb_model\u001b[0m\u001b[0;34m,\u001b[0m\u001b[0;34m\u001b[0m\u001b[0;34m\u001b[0m\u001b[0m\n\u001b[0;32m--> 896\u001b[0;31m                                callbacks=callbacks)\n\u001b[0m\u001b[1;32m    897\u001b[0m             ret: Optional[Dict[str, Union[Booster, Dict]]] = {\n\u001b[1;32m    898\u001b[0m                 'booster': bst, 'history': local_history}\n",
      "\u001b[0;32m~/miniconda3/envs/venv_01/lib/python3.7/site-packages/xgboost/training.py\u001b[0m in \u001b[0;36mtrain\u001b[0;34m()\u001b[0m\n\u001b[1;32m    194\u001b[0m                           \u001b[0mevals_result\u001b[0m\u001b[0;34m=\u001b[0m\u001b[0mevals_result\u001b[0m\u001b[0;34m,\u001b[0m\u001b[0;34m\u001b[0m\u001b[0;34m\u001b[0m\u001b[0m\n\u001b[1;32m    195\u001b[0m                           \u001b[0mmaximize\u001b[0m\u001b[0;34m=\u001b[0m\u001b[0mmaximize\u001b[0m\u001b[0;34m,\u001b[0m\u001b[0;34m\u001b[0m\u001b[0;34m\u001b[0m\u001b[0m\n\u001b[0;32m--> 196\u001b[0;31m                           early_stopping_rounds=early_stopping_rounds)\n\u001b[0m\u001b[1;32m    197\u001b[0m     \u001b[0;32mreturn\u001b[0m \u001b[0mbst\u001b[0m\u001b[0;34m\u001b[0m\u001b[0;34m\u001b[0m\u001b[0m\n\u001b[1;32m    198\u001b[0m \u001b[0;34m\u001b[0m\u001b[0m\n",
      "\u001b[0;32m~/miniconda3/envs/venv_01/lib/python3.7/site-packages/xgboost/training.py\u001b[0m in \u001b[0;36m_train_internal\u001b[0;34m()\u001b[0m\n\u001b[1;32m     79\u001b[0m         \u001b[0;32mif\u001b[0m \u001b[0mcallbacks\u001b[0m\u001b[0;34m.\u001b[0m\u001b[0mbefore_iteration\u001b[0m\u001b[0;34m(\u001b[0m\u001b[0mbst\u001b[0m\u001b[0;34m,\u001b[0m \u001b[0mi\u001b[0m\u001b[0;34m,\u001b[0m \u001b[0mdtrain\u001b[0m\u001b[0;34m,\u001b[0m \u001b[0mevals\u001b[0m\u001b[0;34m)\u001b[0m\u001b[0;34m:\u001b[0m\u001b[0;34m\u001b[0m\u001b[0;34m\u001b[0m\u001b[0m\n\u001b[1;32m     80\u001b[0m             \u001b[0;32mbreak\u001b[0m\u001b[0;34m\u001b[0m\u001b[0;34m\u001b[0m\u001b[0m\n\u001b[0;32m---> 81\u001b[0;31m         \u001b[0mbst\u001b[0m\u001b[0;34m.\u001b[0m\u001b[0mupdate\u001b[0m\u001b[0;34m(\u001b[0m\u001b[0mdtrain\u001b[0m\u001b[0;34m,\u001b[0m \u001b[0mi\u001b[0m\u001b[0;34m,\u001b[0m \u001b[0mobj\u001b[0m\u001b[0;34m)\u001b[0m\u001b[0;34m\u001b[0m\u001b[0;34m\u001b[0m\u001b[0m\n\u001b[0m\u001b[1;32m     82\u001b[0m         \u001b[0;32mif\u001b[0m \u001b[0mcallbacks\u001b[0m\u001b[0;34m.\u001b[0m\u001b[0mafter_iteration\u001b[0m\u001b[0;34m(\u001b[0m\u001b[0mbst\u001b[0m\u001b[0;34m,\u001b[0m \u001b[0mi\u001b[0m\u001b[0;34m,\u001b[0m \u001b[0mdtrain\u001b[0m\u001b[0;34m,\u001b[0m \u001b[0mevals\u001b[0m\u001b[0;34m)\u001b[0m\u001b[0;34m:\u001b[0m\u001b[0;34m\u001b[0m\u001b[0;34m\u001b[0m\u001b[0m\n\u001b[1;32m     83\u001b[0m             \u001b[0;32mbreak\u001b[0m\u001b[0;34m\u001b[0m\u001b[0;34m\u001b[0m\u001b[0m\n",
      "\u001b[0;32m~/miniconda3/envs/venv_01/lib/python3.7/site-packages/xgboost/core.py\u001b[0m in \u001b[0;36mupdate\u001b[0;34m()\u001b[0m\n\u001b[1;32m   1680\u001b[0m             _check_call(_LIB.XGBoosterUpdateOneIter(self.handle,\n\u001b[1;32m   1681\u001b[0m                                                     \u001b[0mctypes\u001b[0m\u001b[0;34m.\u001b[0m\u001b[0mc_int\u001b[0m\u001b[0;34m(\u001b[0m\u001b[0miteration\u001b[0m\u001b[0;34m)\u001b[0m\u001b[0;34m,\u001b[0m\u001b[0;34m\u001b[0m\u001b[0;34m\u001b[0m\u001b[0m\n\u001b[0;32m-> 1682\u001b[0;31m                                                     dtrain.handle))\n\u001b[0m\u001b[1;32m   1683\u001b[0m         \u001b[0;32melse\u001b[0m\u001b[0;34m:\u001b[0m\u001b[0;34m\u001b[0m\u001b[0;34m\u001b[0m\u001b[0m\n\u001b[1;32m   1684\u001b[0m             \u001b[0mpred\u001b[0m \u001b[0;34m=\u001b[0m \u001b[0mself\u001b[0m\u001b[0;34m.\u001b[0m\u001b[0mpredict\u001b[0m\u001b[0;34m(\u001b[0m\u001b[0mdtrain\u001b[0m\u001b[0;34m,\u001b[0m \u001b[0moutput_margin\u001b[0m\u001b[0;34m=\u001b[0m\u001b[0;32mTrue\u001b[0m\u001b[0;34m,\u001b[0m \u001b[0mtraining\u001b[0m\u001b[0;34m=\u001b[0m\u001b[0;32mTrue\u001b[0m\u001b[0;34m)\u001b[0m\u001b[0;34m\u001b[0m\u001b[0;34m\u001b[0m\u001b[0m\n",
      "\u001b[0;32m~/miniconda3/envs/venv_01/lib/python3.7/site-packages/xgboost/core.py\u001b[0m in \u001b[0;36m_check_call\u001b[0;34m()\u001b[0m\n\u001b[1;32m    216\u001b[0m     \"\"\"\n\u001b[1;32m    217\u001b[0m     \u001b[0;32mif\u001b[0m \u001b[0mret\u001b[0m \u001b[0;34m!=\u001b[0m \u001b[0;36m0\u001b[0m\u001b[0;34m:\u001b[0m\u001b[0;34m\u001b[0m\u001b[0;34m\u001b[0m\u001b[0m\n\u001b[0;32m--> 218\u001b[0;31m         \u001b[0;32mraise\u001b[0m \u001b[0mXGBoostError\u001b[0m\u001b[0;34m(\u001b[0m\u001b[0mpy_str\u001b[0m\u001b[0;34m(\u001b[0m\u001b[0m_LIB\u001b[0m\u001b[0;34m.\u001b[0m\u001b[0mXGBGetLastError\u001b[0m\u001b[0;34m(\u001b[0m\u001b[0;34m)\u001b[0m\u001b[0;34m)\u001b[0m\u001b[0;34m)\u001b[0m\u001b[0;34m\u001b[0m\u001b[0;34m\u001b[0m\u001b[0m\n\u001b[0m\u001b[1;32m    219\u001b[0m \u001b[0;34m\u001b[0m\u001b[0m\n\u001b[1;32m    220\u001b[0m \u001b[0;34m\u001b[0m\u001b[0m\n",
      "\u001b[0;31mXGBoostError\u001b[0m: [16:36:17] ../src/tree/updater_gpu_hist.cu:770: Exception in gpu_hist: [16:36:17] ../src/common/device_helpers.cu:61: Check failed: n_uniques == world (1 vs. 4) : Multiple processes within communication group running on same CUDA device is not supported. 73bc4708914a6a63232a2564cb70ed45\n\nStack trace:\n  [bt] (0) /home/go/miniconda3/envs/venv_01/lib/python3.7/site-packages/xgboost/lib/libxgboost.so(+0x31ddcd) [0x7ff3acb89dcd]\n  [bt] (1) /home/go/miniconda3/envs/venv_01/lib/python3.7/site-packages/xgboost/lib/libxgboost.so(+0x31ebf5) [0x7ff3acb8abf5]\n  [bt] (2) /home/go/miniconda3/envs/venv_01/lib/python3.7/site-packages/xgboost/lib/libxgboost.so(+0x4d7f42) [0x7ff3acd43f42]\n  [bt] (3) /home/go/miniconda3/envs/venv_01/lib/python3.7/site-packages/xgboost/lib/libxgboost.so(+0x4e1d26) [0x7ff3acd4dd26]\n  [bt] (4) /home/go/miniconda3/envs/venv_01/lib/python3.7/site-packages/xgboost/lib/libxgboost.so(+0x17d683) [0x7ff3ac9e9683]\n  [bt] (5) /home/go/miniconda3/envs/venv_01/lib/python3.7/site-packages/xgboost/lib/libxgboost.so(+0x17e4ac) [0x7ff3ac9ea4ac]\n  [bt] (6) /home/go/miniconda3/envs/venv_01/lib/python3.7/site-packages/xgboost/lib/libxgboost.so(+0x1b49fa) [0x7ff3aca209fa]\n  [bt] (7) /home/go/miniconda3/envs/venv_01/lib/python3.7/site-packages/xgboost/lib/libxgboost.so(XGBoosterUpdateOneIter+0x68) [0x7ff3ac9054f8]\n  [bt] (8) /home/go/miniconda3/envs/venv_01/lib/python3.7/lib-dynload/../../libffi.so.7(+0x69dd) [0x7ff49d5409dd]\n\n\n\nStack trace:\n  [bt] (0) /home/go/miniconda3/envs/venv_01/lib/python3.7/site-packages/xgboost/lib/libxgboost.so(+0x4c2fe9) [0x7ff3acd2efe9]\n  [bt] (1) /home/go/miniconda3/envs/venv_01/lib/python3.7/site-packages/xgboost/lib/libxgboost.so(+0x4e207f) [0x7ff3acd4e07f]\n  [bt] (2) /home/go/miniconda3/envs/venv_01/lib/python3.7/site-packages/xgboost/lib/libxgboost.so(+0x17d683) [0x7ff3ac9e9683]\n  [bt] (3) /home/go/miniconda3/envs/venv_01/lib/python3.7/site-packages/xgboost/lib/libxgboost.so(+0x17e4ac) [0x7ff3ac9ea4ac]\n  [bt] (4) /home/go/miniconda3/envs/venv_01/lib/python3.7/site-packages/xgboost/lib/libxgboost.so(+0x1b49fa) [0x7ff3aca209fa]\n  [bt] (5) /home/go/miniconda3/envs/venv_01/lib/python3.7/site-packages/xgboost/lib/libxgboost.so(XGBoosterUpdateOneIter+0x68) [0x7ff3ac9054f8]\n  [bt] (6) /home/go/miniconda3/envs/venv_01/lib/python3.7/lib-dynload/../../libffi.so.7(+0x69dd) [0x7ff49d5409dd]\n  [bt] (7) /home/go/miniconda3/envs/venv_01/lib/python3.7/lib-dynload/../../libffi.so.7(+0x6067) [0x7ff49d540067]\n  [bt] (8) /home/go/miniconda3/envs/venv_01/lib/python3.7/lib-dynload/_ctypes.cpython-37m-x86_64-linux-gnu.so(_ctypes_callproc+0x2e7) [0x7ff49d5583a7]\n\n"
     ]
    }
   ],
   "source": [
    "%%time\n",
    "from dask.distributed import Client, LocalCluster\n",
    "#http://localhost:3258/status\n",
    "if __name__ == \"__main__\":\n",
    "    with LocalCluster(dashboard_address=':3258') as cluster:\n",
    "        with Client(cluster) as client:\n",
    "            print(client)\n",
    "            # X and y must be Dask dataframes or arrays\n",
    "            params = {\"verbosity\": 0, \n",
    "            \"tree_method\": \"gpu_hist\", \n",
    "            \"objective\": 'multi:softmax',\n",
    "            \"num_class\":len(label_description),\n",
    "            }\n",
    "\n",
    "           \n",
    "            start = time.time()\n",
    "            dtrain = xgb.dask.DaskDMatrix(client, X,y)\n",
    "            out = xgb.dask.train(\n",
    "                client,\n",
    "                params,\n",
    "                dtrain,\n",
    "                num_boost_round=4,\n",
    "                evals=[(dtrain, \"train\")],\n",
    "            )\n",
    "            print(time.time()-start)\n",
    "            y_pred = xgb.dask.predict(client,out,X_test).compute()\n",
    "            "
   ]
  },
  {
   "cell_type": "code",
   "execution_count": null,
   "metadata": {},
   "outputs": [],
   "source": [
    "from sklearn.metrics import f1_score\n",
    "f1_score(y_test, y_pred,average='macro')"
   ]
  },
  {
   "cell_type": "code",
   "execution_count": 62,
   "metadata": {},
   "outputs": [
    {
     "name": "stderr",
     "output_type": "stream",
     "text": [
      "/home/go/miniconda3/envs/venv_01/lib/python3.7/site-packages/dask_cuda/utils.py:216: UserWarning: Cannot get CPU affinity for device with index 0, setting default affinity\n",
      "  % device_index\n",
      "distributed.preloading - INFO - Import preload module: dask_cuda.initialize\n"
     ]
    },
    {
     "name": "stdout",
     "output_type": "stream",
     "text": [
      "<Client: 'tcp://127.0.0.1:43351' processes=1 threads=1, memory=24.59 GiB>\n"
     ]
    },
    {
     "name": "stderr",
     "output_type": "stream",
     "text": [
      "[17:21:02] task [xgboost.dask]:tcp://127.0.0.1:37983 got new rank 0\n"
     ]
    },
    {
     "name": "stdout",
     "output_type": "stream",
     "text": [
      "[0]\ttrain-mlogloss:2.93766\n",
      "[1]\ttrain-mlogloss:1.99399\n",
      "[2]\ttrain-mlogloss:1.58934\n",
      "[3]\ttrain-mlogloss:1.29963\n",
      "31.139005661010742\n"
     ]
    }
   ],
   "source": [
    "from dask.distributed import Client, LocalCluster\n",
    "from dask_cuda import LocalCUDACluster\n",
    "#http://localhost:3258/status\n",
    "\n",
    "if __name__ == \"__main__\":\n",
    "    with LocalCUDACluster(dashboard_address=':3258') as cluster:\n",
    "        with Client(cluster) as client:\n",
    "            print(client)\n",
    "            # X and y must be Dask dataframes or arrays\n",
    "            params = {\"verbosity\": 0, \n",
    "            \"tree_method\": \"hist\", \n",
    "            \"objective\": 'multi:softmax',\n",
    "            \"num_class\":len(label_description),\n",
    "            }\n",
    "\n",
    "           \n",
    "            start = time.time()\n",
    "            dtrain = xgb.dask.DaskDMatrix(client, X,y)\n",
    "            out = xgb.dask.train(\n",
    "                client,\n",
    "                params,\n",
    "                dtrain,\n",
    "                num_boost_round=4,\n",
    "                evals=[(dtrain, \"train\")],\n",
    "            )\n",
    "            print(time.time()-start)\n",
    "            y_pred = xgb.dask.predict(client,out,X_test).compute()\n",
    "            "
   ]
  },
  {
   "cell_type": "code",
   "execution_count": null,
   "metadata": {},
   "outputs": [],
   "source": [
    "from sklearn.metrics import f1_score\n",
    "f1_score(y_test, y_pred,average='macro')"
   ]
  },
  {
   "cell_type": "code",
   "execution_count": 35,
   "metadata": {},
   "outputs": [
    {
     "name": "stderr",
     "output_type": "stream",
     "text": [
      "/home/go/miniconda3/envs/venv_01/lib/python3.7/site-packages/dask_cuda/utils.py:216: UserWarning: Cannot get CPU affinity for device with index 0, setting default affinity\n",
      "  % device_index\n",
      "distributed.preloading - INFO - Import preload module: dask_cuda.initialize\n"
     ]
    },
    {
     "name": "stdout",
     "output_type": "stream",
     "text": [
      "<Client: 'tcp://127.0.0.1:33583' processes=1 threads=1, memory=24.59 GiB>\n"
     ]
    },
    {
     "name": "stderr",
     "output_type": "stream",
     "text": [
      "[16:36:51] task [xgboost.dask]:tcp://127.0.0.1:42903 got new rank 0\n",
      "distributed.worker - WARNING - Compute Failed\n",
      "Function:  dispatched_train\n",
      "args:      ('tcp://127.0.0.1:42903', [b'DMLC_NUM_WORKER=1', b'DMLC_TRACKER_URI=172.24.219.36', b'DMLC_TRACKER_PORT=9097', b'DMLC_TASK_ID=[xgboost.dask]:tcp://127.0.0.1:42903'], {'feature_names': None, 'feature_types': None, 'feature_weights': None, 'meta_names': ['labels'], 'missing': None, 'enable_categorical': False, 'parts': [(array([[0.18431373, 0.15686275, 0.14509805, ..., 0.07843138, 0.05098039,\n",
      "        0.10980392],\n",
      "       [0.1254902 , 0.25490198, 0.16078432, ..., 0.77254903, 0.6431373 ,\n",
      "        0.5803922 ],\n",
      "       [0.5294118 , 0.7647059 , 0.4117647 , ..., 0.44705883, 0.11764706,\n",
      "        0.22745098],\n",
      "       ...,\n",
      "       [0.30588236, 0.47843137, 0.28235295, ..., 0.72156864, 0.24313726,\n",
      "        0.4509804 ],\n",
      "       [0.4392157 , 0.3019608 , 0.20392157, ..., 0.42352942, 0.1764706 ,\n",
      "        0.39215687],\n",
      "       [0.15686275, 0.22352941, 0.10980392, ..., 0.45882353, 0.36078432,\n",
      "        0.61960787]], dtype=float32), array([ 79, 129,  25,   0,  79,  54, 129, 104,  68,  54,  54,  56,  76,\n",
      "         0, 12\n",
      "kwargs:    {}\n",
      "Exception: \"XGBoostError('[16:36:51] ../src/tree/updater_gpu_hist.cu:770: Exception in gpu_hist: [16:36:51] ../src/common/device_helpers.cuh:132: NCCL failure :unhandled system error ../src/common/device_helpers.cu(67)\\\\nStack trace:\\\\n  [bt] (0) /home/go/miniconda3/envs/venv_01/lib/python3.7/site-packages/xgboost/lib/libxgboost.so(+0x31ddcd) [0x7f941a872dcd]\\\\n  [bt] (1) /home/go/miniconda3/envs/venv_01/lib/python3.7/site-packages/xgboost/lib/libxgboost.so(+0x320f29) [0x7f941a875f29]\\\\n  [bt] (2) /home/go/miniconda3/envs/venv_01/lib/python3.7/site-packages/xgboost/lib/libxgboost.so(+0x31f12a) [0x7f941a87412a]\\\\n  [bt] (3) /home/go/miniconda3/envs/venv_01/lib/python3.7/site-packages/xgboost/lib/libxgboost.so(+0x4d7f42) [0x7f941aa2cf42]\\\\n  [bt] (4) /home/go/miniconda3/envs/venv_01/lib/python3.7/site-packages/xgboost/lib/libxgboost.so(+0x4e1d26) [0x7f941aa36d26]\\\\n  [bt] (5) /home/go/miniconda3/envs/venv_01/lib/python3.7/site-packages/xgboost/lib/libxgboost.so(+0x17d683) [0x7f941a6d2683]\\\\n  [bt] (6) /home/go/miniconda3/envs/venv_01/lib/python3.7/site-packages/xgboost/lib/libxgboost.so(+0x17e4ac) [0x7f941a6d34ac]\\\\n  [bt] (7) /home/go/miniconda3/envs/venv_01/lib/python3.7/site-packages/xgboost/lib/libxgboost.so(+0x1b49fa) [0x7f941a7099fa]\\\\n  [bt] (8) /home/go/miniconda3/envs/venv_01/lib/python3.7/site-packages/xgboost/lib/libxgboost.so(XGBoosterUpdateOneIter+0x68) [0x7f941a5ee4f8]\\\\n\\\\n\\\\n\\\\nStack trace:\\\\n  [bt] (0) /home/go/miniconda3/envs/venv_01/lib/python3.7/site-packages/xgboost/lib/libxgboost.so(+0x4c2fe9) [0x7f941aa17fe9]\\\\n  [bt] (1) /home/go/miniconda3/envs/venv_01/lib/python3.7/site-packages/xgboost/lib/libxgboost.so(+0x4e207f) [0x7f941aa3707f]\\\\n  [bt] (2) /home/go/miniconda3/envs/venv_01/lib/python3.7/site-packages/xgboost/lib/libxgboost.so(+0x17d683) [0x7f941a6d2683]\\\\n  [bt] (3) /home/go/miniconda3/envs/venv_01/lib/python3.7/site-packages/xgboost/lib/libxgboost.so(+0x17e4ac) [0x7f941a6d34ac]\\\\n  [bt] (4) /home/go/miniconda3/envs/venv_01/lib/python3.7/site-packages/xgboost/lib/libxgboost.so(+0x1b49fa) [0x7f941a7099fa]\\\\n  [bt] (5) /home/go/miniconda3/envs/venv_01/lib/python3.7/site-packages/xgboost/lib/libxgboost.so(XGBoosterUpdateOneIter+0x68) [0x7f941a5ee4f8]\\\\n  [bt] (6) /home/go/miniconda3/envs/venv_01/lib/python3.7/lib-dynload/../../libffi.so.7(+0x69dd) [0x7f955dbf29dd]\\\\n  [bt] (7) /home/go/miniconda3/envs/venv_01/lib/python3.7/lib-dynload/../../libffi.so.7(+0x6067) [0x7f955dbf2067]\\\\n  [bt] (8) /home/go/miniconda3/envs/venv_01/lib/python3.7/lib-dynload/_ctypes.cpython-37m-x86_64-linux-gnu.so(_ctypes_callproc+0x2e7) [0x7f955dc0a3a7]\\\\n\\\\n')\"\n",
      "\n"
     ]
    },
    {
     "ename": "XGBoostError",
     "evalue": "[16:36:51] ../src/tree/updater_gpu_hist.cu:770: Exception in gpu_hist: [16:36:51] ../src/common/device_helpers.cuh:132: NCCL failure :unhandled system error ../src/common/device_helpers.cu(67)\nStack trace:\n  [bt] (0) /home/go/miniconda3/envs/venv_01/lib/python3.7/site-packages/xgboost/lib/libxgboost.so(+0x31ddcd) [0x7f941a872dcd]\n  [bt] (1) /home/go/miniconda3/envs/venv_01/lib/python3.7/site-packages/xgboost/lib/libxgboost.so(+0x320f29) [0x7f941a875f29]\n  [bt] (2) /home/go/miniconda3/envs/venv_01/lib/python3.7/site-packages/xgboost/lib/libxgboost.so(+0x31f12a) [0x7f941a87412a]\n  [bt] (3) /home/go/miniconda3/envs/venv_01/lib/python3.7/site-packages/xgboost/lib/libxgboost.so(+0x4d7f42) [0x7f941aa2cf42]\n  [bt] (4) /home/go/miniconda3/envs/venv_01/lib/python3.7/site-packages/xgboost/lib/libxgboost.so(+0x4e1d26) [0x7f941aa36d26]\n  [bt] (5) /home/go/miniconda3/envs/venv_01/lib/python3.7/site-packages/xgboost/lib/libxgboost.so(+0x17d683) [0x7f941a6d2683]\n  [bt] (6) /home/go/miniconda3/envs/venv_01/lib/python3.7/site-packages/xgboost/lib/libxgboost.so(+0x17e4ac) [0x7f941a6d34ac]\n  [bt] (7) /home/go/miniconda3/envs/venv_01/lib/python3.7/site-packages/xgboost/lib/libxgboost.so(+0x1b49fa) [0x7f941a7099fa]\n  [bt] (8) /home/go/miniconda3/envs/venv_01/lib/python3.7/site-packages/xgboost/lib/libxgboost.so(XGBoosterUpdateOneIter+0x68) [0x7f941a5ee4f8]\n\n\n\nStack trace:\n  [bt] (0) /home/go/miniconda3/envs/venv_01/lib/python3.7/site-packages/xgboost/lib/libxgboost.so(+0x4c2fe9) [0x7f941aa17fe9]\n  [bt] (1) /home/go/miniconda3/envs/venv_01/lib/python3.7/site-packages/xgboost/lib/libxgboost.so(+0x4e207f) [0x7f941aa3707f]\n  [bt] (2) /home/go/miniconda3/envs/venv_01/lib/python3.7/site-packages/xgboost/lib/libxgboost.so(+0x17d683) [0x7f941a6d2683]\n  [bt] (3) /home/go/miniconda3/envs/venv_01/lib/python3.7/site-packages/xgboost/lib/libxgboost.so(+0x17e4ac) [0x7f941a6d34ac]\n  [bt] (4) /home/go/miniconda3/envs/venv_01/lib/python3.7/site-packages/xgboost/lib/libxgboost.so(+0x1b49fa) [0x7f941a7099fa]\n  [bt] (5) /home/go/miniconda3/envs/venv_01/lib/python3.7/site-packages/xgboost/lib/libxgboost.so(XGBoosterUpdateOneIter+0x68) [0x7f941a5ee4f8]\n  [bt] (6) /home/go/miniconda3/envs/venv_01/lib/python3.7/lib-dynload/../../libffi.so.7(+0x69dd) [0x7f955dbf29dd]\n  [bt] (7) /home/go/miniconda3/envs/venv_01/lib/python3.7/lib-dynload/../../libffi.so.7(+0x6067) [0x7f955dbf2067]\n  [bt] (8) /home/go/miniconda3/envs/venv_01/lib/python3.7/lib-dynload/_ctypes.cpython-37m-x86_64-linux-gnu.so(_ctypes_callproc+0x2e7) [0x7f955dc0a3a7]\n\n",
     "output_type": "error",
     "traceback": [
      "\u001b[0;31m---------------------------------------------------------------------------\u001b[0m",
      "\u001b[0;31mXGBoostError\u001b[0m                              Traceback (most recent call last)",
      "\u001b[0;32m/tmp/ipykernel_213/1612408002.py\u001b[0m in \u001b[0;36m<module>\u001b[0;34m\u001b[0m\n\u001b[1;32m     22\u001b[0m                 \u001b[0mdtrain\u001b[0m\u001b[0;34m,\u001b[0m\u001b[0;34m\u001b[0m\u001b[0;34m\u001b[0m\u001b[0m\n\u001b[1;32m     23\u001b[0m                 \u001b[0mnum_boost_round\u001b[0m\u001b[0;34m=\u001b[0m\u001b[0;36m20\u001b[0m\u001b[0;34m,\u001b[0m\u001b[0;34m\u001b[0m\u001b[0;34m\u001b[0m\u001b[0m\n\u001b[0;32m---> 24\u001b[0;31m                 \u001b[0mevals\u001b[0m\u001b[0;34m=\u001b[0m\u001b[0;34m[\u001b[0m\u001b[0;34m(\u001b[0m\u001b[0mdtrain\u001b[0m\u001b[0;34m,\u001b[0m \u001b[0;34m\"train\"\u001b[0m\u001b[0;34m)\u001b[0m\u001b[0;34m]\u001b[0m\u001b[0;34m,\u001b[0m\u001b[0;34m\u001b[0m\u001b[0;34m\u001b[0m\u001b[0m\n\u001b[0m\u001b[1;32m     25\u001b[0m             )\n\u001b[1;32m     26\u001b[0m             \u001b[0mprint\u001b[0m\u001b[0;34m(\u001b[0m\u001b[0mtime\u001b[0m\u001b[0;34m.\u001b[0m\u001b[0mtime\u001b[0m\u001b[0;34m(\u001b[0m\u001b[0;34m)\u001b[0m\u001b[0;34m-\u001b[0m\u001b[0mstart\u001b[0m\u001b[0;34m)\u001b[0m\u001b[0;34m\u001b[0m\u001b[0;34m\u001b[0m\u001b[0m\n",
      "\u001b[0;32m~/miniconda3/envs/venv_01/lib/python3.7/site-packages/xgboost/dask.py\u001b[0m in \u001b[0;36mtrain\u001b[0;34m(client, params, dtrain, num_boost_round, evals, obj, feval, early_stopping_rounds, xgb_model, verbose_eval, callbacks)\u001b[0m\n\u001b[1;32m    979\u001b[0m     \u001b[0mclient\u001b[0m \u001b[0;34m=\u001b[0m \u001b[0m_xgb_get_client\u001b[0m\u001b[0;34m(\u001b[0m\u001b[0mclient\u001b[0m\u001b[0;34m)\u001b[0m\u001b[0;34m\u001b[0m\u001b[0;34m\u001b[0m\u001b[0m\n\u001b[1;32m    980\u001b[0m     \u001b[0margs\u001b[0m \u001b[0;34m=\u001b[0m \u001b[0mlocals\u001b[0m\u001b[0;34m(\u001b[0m\u001b[0;34m)\u001b[0m\u001b[0;34m\u001b[0m\u001b[0;34m\u001b[0m\u001b[0m\n\u001b[0;32m--> 981\u001b[0;31m     \u001b[0;32mreturn\u001b[0m \u001b[0mclient\u001b[0m\u001b[0;34m.\u001b[0m\u001b[0msync\u001b[0m\u001b[0;34m(\u001b[0m\u001b[0m_train_async\u001b[0m\u001b[0;34m,\u001b[0m \u001b[0mglobal_config\u001b[0m\u001b[0;34m=\u001b[0m\u001b[0mconfig\u001b[0m\u001b[0;34m.\u001b[0m\u001b[0mget_config\u001b[0m\u001b[0;34m(\u001b[0m\u001b[0;34m)\u001b[0m\u001b[0;34m,\u001b[0m \u001b[0;34m**\u001b[0m\u001b[0margs\u001b[0m\u001b[0;34m)\u001b[0m\u001b[0;34m\u001b[0m\u001b[0;34m\u001b[0m\u001b[0m\n\u001b[0m\u001b[1;32m    982\u001b[0m \u001b[0;34m\u001b[0m\u001b[0m\n\u001b[1;32m    983\u001b[0m \u001b[0;34m\u001b[0m\u001b[0m\n",
      "\u001b[0;32m~/miniconda3/envs/venv_01/lib/python3.7/site-packages/distributed/client.py\u001b[0m in \u001b[0;36msync\u001b[0;34m(self, func, asynchronous, callback_timeout, *args, **kwargs)\u001b[0m\n\u001b[1;32m    867\u001b[0m         \u001b[0;32melse\u001b[0m\u001b[0;34m:\u001b[0m\u001b[0;34m\u001b[0m\u001b[0;34m\u001b[0m\u001b[0m\n\u001b[1;32m    868\u001b[0m             return sync(\n\u001b[0;32m--> 869\u001b[0;31m                 \u001b[0mself\u001b[0m\u001b[0;34m.\u001b[0m\u001b[0mloop\u001b[0m\u001b[0;34m,\u001b[0m \u001b[0mfunc\u001b[0m\u001b[0;34m,\u001b[0m \u001b[0;34m*\u001b[0m\u001b[0margs\u001b[0m\u001b[0;34m,\u001b[0m \u001b[0mcallback_timeout\u001b[0m\u001b[0;34m=\u001b[0m\u001b[0mcallback_timeout\u001b[0m\u001b[0;34m,\u001b[0m \u001b[0;34m**\u001b[0m\u001b[0mkwargs\u001b[0m\u001b[0;34m\u001b[0m\u001b[0;34m\u001b[0m\u001b[0m\n\u001b[0m\u001b[1;32m    870\u001b[0m             )\n\u001b[1;32m    871\u001b[0m \u001b[0;34m\u001b[0m\u001b[0m\n",
      "\u001b[0;32m~/miniconda3/envs/venv_01/lib/python3.7/site-packages/distributed/utils.py\u001b[0m in \u001b[0;36msync\u001b[0;34m(loop, func, callback_timeout, *args, **kwargs)\u001b[0m\n\u001b[1;32m    330\u001b[0m     \u001b[0;32mif\u001b[0m \u001b[0merror\u001b[0m\u001b[0;34m[\u001b[0m\u001b[0;36m0\u001b[0m\u001b[0;34m]\u001b[0m\u001b[0;34m:\u001b[0m\u001b[0;34m\u001b[0m\u001b[0;34m\u001b[0m\u001b[0m\n\u001b[1;32m    331\u001b[0m         \u001b[0mtyp\u001b[0m\u001b[0;34m,\u001b[0m \u001b[0mexc\u001b[0m\u001b[0;34m,\u001b[0m \u001b[0mtb\u001b[0m \u001b[0;34m=\u001b[0m \u001b[0merror\u001b[0m\u001b[0;34m[\u001b[0m\u001b[0;36m0\u001b[0m\u001b[0;34m]\u001b[0m\u001b[0;34m\u001b[0m\u001b[0;34m\u001b[0m\u001b[0m\n\u001b[0;32m--> 332\u001b[0;31m         \u001b[0;32mraise\u001b[0m \u001b[0mexc\u001b[0m\u001b[0;34m.\u001b[0m\u001b[0mwith_traceback\u001b[0m\u001b[0;34m(\u001b[0m\u001b[0mtb\u001b[0m\u001b[0;34m)\u001b[0m\u001b[0;34m\u001b[0m\u001b[0;34m\u001b[0m\u001b[0m\n\u001b[0m\u001b[1;32m    333\u001b[0m     \u001b[0;32melse\u001b[0m\u001b[0;34m:\u001b[0m\u001b[0;34m\u001b[0m\u001b[0;34m\u001b[0m\u001b[0m\n\u001b[1;32m    334\u001b[0m         \u001b[0;32mreturn\u001b[0m \u001b[0mresult\u001b[0m\u001b[0;34m[\u001b[0m\u001b[0;36m0\u001b[0m\u001b[0;34m]\u001b[0m\u001b[0;34m\u001b[0m\u001b[0;34m\u001b[0m\u001b[0m\n",
      "\u001b[0;32m~/miniconda3/envs/venv_01/lib/python3.7/site-packages/distributed/utils.py\u001b[0m in \u001b[0;36mf\u001b[0;34m()\u001b[0m\n\u001b[1;32m    313\u001b[0m             \u001b[0;32mif\u001b[0m \u001b[0mcallback_timeout\u001b[0m \u001b[0;32mis\u001b[0m \u001b[0;32mnot\u001b[0m \u001b[0;32mNone\u001b[0m\u001b[0;34m:\u001b[0m\u001b[0;34m\u001b[0m\u001b[0;34m\u001b[0m\u001b[0m\n\u001b[1;32m    314\u001b[0m                 \u001b[0mfuture\u001b[0m \u001b[0;34m=\u001b[0m \u001b[0masyncio\u001b[0m\u001b[0;34m.\u001b[0m\u001b[0mwait_for\u001b[0m\u001b[0;34m(\u001b[0m\u001b[0mfuture\u001b[0m\u001b[0;34m,\u001b[0m \u001b[0mcallback_timeout\u001b[0m\u001b[0;34m)\u001b[0m\u001b[0;34m\u001b[0m\u001b[0;34m\u001b[0m\u001b[0m\n\u001b[0;32m--> 315\u001b[0;31m             \u001b[0mresult\u001b[0m\u001b[0;34m[\u001b[0m\u001b[0;36m0\u001b[0m\u001b[0;34m]\u001b[0m \u001b[0;34m=\u001b[0m \u001b[0;32myield\u001b[0m \u001b[0mfuture\u001b[0m\u001b[0;34m\u001b[0m\u001b[0;34m\u001b[0m\u001b[0m\n\u001b[0m\u001b[1;32m    316\u001b[0m         \u001b[0;32mexcept\u001b[0m \u001b[0mException\u001b[0m\u001b[0;34m:\u001b[0m\u001b[0;34m\u001b[0m\u001b[0;34m\u001b[0m\u001b[0m\n\u001b[1;32m    317\u001b[0m             \u001b[0merror\u001b[0m\u001b[0;34m[\u001b[0m\u001b[0;36m0\u001b[0m\u001b[0;34m]\u001b[0m \u001b[0;34m=\u001b[0m \u001b[0msys\u001b[0m\u001b[0;34m.\u001b[0m\u001b[0mexc_info\u001b[0m\u001b[0;34m(\u001b[0m\u001b[0;34m)\u001b[0m\u001b[0;34m\u001b[0m\u001b[0;34m\u001b[0m\u001b[0m\n",
      "\u001b[0;32m~/miniconda3/envs/venv_01/lib/python3.7/site-packages/tornado/gen.py\u001b[0m in \u001b[0;36mrun\u001b[0;34m(self)\u001b[0m\n\u001b[1;32m    760\u001b[0m \u001b[0;34m\u001b[0m\u001b[0m\n\u001b[1;32m    761\u001b[0m                     \u001b[0;32mtry\u001b[0m\u001b[0;34m:\u001b[0m\u001b[0;34m\u001b[0m\u001b[0;34m\u001b[0m\u001b[0m\n\u001b[0;32m--> 762\u001b[0;31m                         \u001b[0mvalue\u001b[0m \u001b[0;34m=\u001b[0m \u001b[0mfuture\u001b[0m\u001b[0;34m.\u001b[0m\u001b[0mresult\u001b[0m\u001b[0;34m(\u001b[0m\u001b[0;34m)\u001b[0m\u001b[0;34m\u001b[0m\u001b[0;34m\u001b[0m\u001b[0m\n\u001b[0m\u001b[1;32m    763\u001b[0m                     \u001b[0;32mexcept\u001b[0m \u001b[0mException\u001b[0m\u001b[0;34m:\u001b[0m\u001b[0;34m\u001b[0m\u001b[0;34m\u001b[0m\u001b[0m\n\u001b[1;32m    764\u001b[0m                         \u001b[0mexc_info\u001b[0m \u001b[0;34m=\u001b[0m \u001b[0msys\u001b[0m\u001b[0;34m.\u001b[0m\u001b[0mexc_info\u001b[0m\u001b[0;34m(\u001b[0m\u001b[0;34m)\u001b[0m\u001b[0;34m\u001b[0m\u001b[0;34m\u001b[0m\u001b[0m\n",
      "\u001b[0;32m~/miniconda3/envs/venv_01/lib/python3.7/site-packages/xgboost/dask.py\u001b[0m in \u001b[0;36m_train_async\u001b[0;34m(client, global_config, params, dtrain, num_boost_round, evals, obj, feval, early_stopping_rounds, verbose_eval, xgb_model, callbacks)\u001b[0m\n\u001b[1;32m    929\u001b[0m             \u001b[0mfutures\u001b[0m\u001b[0;34m.\u001b[0m\u001b[0mappend\u001b[0m\u001b[0;34m(\u001b[0m\u001b[0mf\u001b[0m\u001b[0;34m)\u001b[0m\u001b[0;34m\u001b[0m\u001b[0;34m\u001b[0m\u001b[0m\n\u001b[1;32m    930\u001b[0m \u001b[0;34m\u001b[0m\u001b[0m\n\u001b[0;32m--> 931\u001b[0;31m         \u001b[0mresults\u001b[0m \u001b[0;34m=\u001b[0m \u001b[0;32mawait\u001b[0m \u001b[0mclient\u001b[0m\u001b[0;34m.\u001b[0m\u001b[0mgather\u001b[0m\u001b[0;34m(\u001b[0m\u001b[0mfutures\u001b[0m\u001b[0;34m,\u001b[0m \u001b[0masynchronous\u001b[0m\u001b[0;34m=\u001b[0m\u001b[0;32mTrue\u001b[0m\u001b[0;34m)\u001b[0m\u001b[0;34m\u001b[0m\u001b[0;34m\u001b[0m\u001b[0m\n\u001b[0m\u001b[1;32m    932\u001b[0m \u001b[0;34m\u001b[0m\u001b[0m\n\u001b[1;32m    933\u001b[0m         \u001b[0;32mreturn\u001b[0m \u001b[0mlist\u001b[0m\u001b[0;34m(\u001b[0m\u001b[0mfilter\u001b[0m\u001b[0;34m(\u001b[0m\u001b[0;32mlambda\u001b[0m \u001b[0mret\u001b[0m\u001b[0;34m:\u001b[0m \u001b[0mret\u001b[0m \u001b[0;32mis\u001b[0m \u001b[0;32mnot\u001b[0m \u001b[0;32mNone\u001b[0m\u001b[0;34m,\u001b[0m \u001b[0mresults\u001b[0m\u001b[0;34m)\u001b[0m\u001b[0;34m)\u001b[0m\u001b[0;34m[\u001b[0m\u001b[0;36m0\u001b[0m\u001b[0;34m]\u001b[0m\u001b[0;34m\u001b[0m\u001b[0;34m\u001b[0m\u001b[0m\n",
      "\u001b[0;32m~/miniconda3/envs/venv_01/lib/python3.7/site-packages/distributed/client.py\u001b[0m in \u001b[0;36m_gather\u001b[0;34m(self, futures, errors, direct, local_worker)\u001b[0m\n\u001b[1;32m   1843\u001b[0m                             \u001b[0mexc\u001b[0m \u001b[0;34m=\u001b[0m \u001b[0mCancelledError\u001b[0m\u001b[0;34m(\u001b[0m\u001b[0mkey\u001b[0m\u001b[0;34m)\u001b[0m\u001b[0;34m\u001b[0m\u001b[0;34m\u001b[0m\u001b[0m\n\u001b[1;32m   1844\u001b[0m                         \u001b[0;32melse\u001b[0m\u001b[0;34m:\u001b[0m\u001b[0;34m\u001b[0m\u001b[0;34m\u001b[0m\u001b[0m\n\u001b[0;32m-> 1845\u001b[0;31m                             \u001b[0;32mraise\u001b[0m \u001b[0mexception\u001b[0m\u001b[0;34m.\u001b[0m\u001b[0mwith_traceback\u001b[0m\u001b[0;34m(\u001b[0m\u001b[0mtraceback\u001b[0m\u001b[0;34m)\u001b[0m\u001b[0;34m\u001b[0m\u001b[0;34m\u001b[0m\u001b[0m\n\u001b[0m\u001b[1;32m   1846\u001b[0m                         \u001b[0;32mraise\u001b[0m \u001b[0mexc\u001b[0m\u001b[0;34m\u001b[0m\u001b[0;34m\u001b[0m\u001b[0m\n\u001b[1;32m   1847\u001b[0m                     \u001b[0;32mif\u001b[0m \u001b[0merrors\u001b[0m \u001b[0;34m==\u001b[0m \u001b[0;34m\"skip\"\u001b[0m\u001b[0;34m:\u001b[0m\u001b[0;34m\u001b[0m\u001b[0;34m\u001b[0m\u001b[0m\n",
      "\u001b[0;32m~/miniconda3/envs/venv_01/lib/python3.7/site-packages/xgboost/dask.py\u001b[0m in \u001b[0;36mdispatched_train\u001b[0;34m()\u001b[0m\n\u001b[1;32m    894\u001b[0m                                \u001b[0mverbose_eval\u001b[0m\u001b[0;34m=\u001b[0m\u001b[0mverbose_eval\u001b[0m\u001b[0;34m,\u001b[0m\u001b[0;34m\u001b[0m\u001b[0;34m\u001b[0m\u001b[0m\n\u001b[1;32m    895\u001b[0m                                \u001b[0mxgb_model\u001b[0m\u001b[0;34m=\u001b[0m\u001b[0mxgb_model\u001b[0m\u001b[0;34m,\u001b[0m\u001b[0;34m\u001b[0m\u001b[0;34m\u001b[0m\u001b[0m\n\u001b[0;32m--> 896\u001b[0;31m                                callbacks=callbacks)\n\u001b[0m\u001b[1;32m    897\u001b[0m             ret: Optional[Dict[str, Union[Booster, Dict]]] = {\n\u001b[1;32m    898\u001b[0m                 'booster': bst, 'history': local_history}\n",
      "\u001b[0;32m~/miniconda3/envs/venv_01/lib/python3.7/site-packages/xgboost/training.py\u001b[0m in \u001b[0;36mtrain\u001b[0;34m()\u001b[0m\n\u001b[1;32m    194\u001b[0m                           \u001b[0mevals_result\u001b[0m\u001b[0;34m=\u001b[0m\u001b[0mevals_result\u001b[0m\u001b[0;34m,\u001b[0m\u001b[0;34m\u001b[0m\u001b[0;34m\u001b[0m\u001b[0m\n\u001b[1;32m    195\u001b[0m                           \u001b[0mmaximize\u001b[0m\u001b[0;34m=\u001b[0m\u001b[0mmaximize\u001b[0m\u001b[0;34m,\u001b[0m\u001b[0;34m\u001b[0m\u001b[0;34m\u001b[0m\u001b[0m\n\u001b[0;32m--> 196\u001b[0;31m                           early_stopping_rounds=early_stopping_rounds)\n\u001b[0m\u001b[1;32m    197\u001b[0m     \u001b[0;32mreturn\u001b[0m \u001b[0mbst\u001b[0m\u001b[0;34m\u001b[0m\u001b[0;34m\u001b[0m\u001b[0m\n\u001b[1;32m    198\u001b[0m \u001b[0;34m\u001b[0m\u001b[0m\n",
      "\u001b[0;32m~/miniconda3/envs/venv_01/lib/python3.7/site-packages/xgboost/training.py\u001b[0m in \u001b[0;36m_train_internal\u001b[0;34m()\u001b[0m\n\u001b[1;32m     79\u001b[0m         \u001b[0;32mif\u001b[0m \u001b[0mcallbacks\u001b[0m\u001b[0;34m.\u001b[0m\u001b[0mbefore_iteration\u001b[0m\u001b[0;34m(\u001b[0m\u001b[0mbst\u001b[0m\u001b[0;34m,\u001b[0m \u001b[0mi\u001b[0m\u001b[0;34m,\u001b[0m \u001b[0mdtrain\u001b[0m\u001b[0;34m,\u001b[0m \u001b[0mevals\u001b[0m\u001b[0;34m)\u001b[0m\u001b[0;34m:\u001b[0m\u001b[0;34m\u001b[0m\u001b[0;34m\u001b[0m\u001b[0m\n\u001b[1;32m     80\u001b[0m             \u001b[0;32mbreak\u001b[0m\u001b[0;34m\u001b[0m\u001b[0;34m\u001b[0m\u001b[0m\n\u001b[0;32m---> 81\u001b[0;31m         \u001b[0mbst\u001b[0m\u001b[0;34m.\u001b[0m\u001b[0mupdate\u001b[0m\u001b[0;34m(\u001b[0m\u001b[0mdtrain\u001b[0m\u001b[0;34m,\u001b[0m \u001b[0mi\u001b[0m\u001b[0;34m,\u001b[0m \u001b[0mobj\u001b[0m\u001b[0;34m)\u001b[0m\u001b[0;34m\u001b[0m\u001b[0;34m\u001b[0m\u001b[0m\n\u001b[0m\u001b[1;32m     82\u001b[0m         \u001b[0;32mif\u001b[0m \u001b[0mcallbacks\u001b[0m\u001b[0;34m.\u001b[0m\u001b[0mafter_iteration\u001b[0m\u001b[0;34m(\u001b[0m\u001b[0mbst\u001b[0m\u001b[0;34m,\u001b[0m \u001b[0mi\u001b[0m\u001b[0;34m,\u001b[0m \u001b[0mdtrain\u001b[0m\u001b[0;34m,\u001b[0m \u001b[0mevals\u001b[0m\u001b[0;34m)\u001b[0m\u001b[0;34m:\u001b[0m\u001b[0;34m\u001b[0m\u001b[0;34m\u001b[0m\u001b[0m\n\u001b[1;32m     83\u001b[0m             \u001b[0;32mbreak\u001b[0m\u001b[0;34m\u001b[0m\u001b[0;34m\u001b[0m\u001b[0m\n",
      "\u001b[0;32m~/miniconda3/envs/venv_01/lib/python3.7/site-packages/xgboost/core.py\u001b[0m in \u001b[0;36mupdate\u001b[0;34m()\u001b[0m\n\u001b[1;32m   1680\u001b[0m             _check_call(_LIB.XGBoosterUpdateOneIter(self.handle,\n\u001b[1;32m   1681\u001b[0m                                                     \u001b[0mctypes\u001b[0m\u001b[0;34m.\u001b[0m\u001b[0mc_int\u001b[0m\u001b[0;34m(\u001b[0m\u001b[0miteration\u001b[0m\u001b[0;34m)\u001b[0m\u001b[0;34m,\u001b[0m\u001b[0;34m\u001b[0m\u001b[0;34m\u001b[0m\u001b[0m\n\u001b[0;32m-> 1682\u001b[0;31m                                                     dtrain.handle))\n\u001b[0m\u001b[1;32m   1683\u001b[0m         \u001b[0;32melse\u001b[0m\u001b[0;34m:\u001b[0m\u001b[0;34m\u001b[0m\u001b[0;34m\u001b[0m\u001b[0m\n\u001b[1;32m   1684\u001b[0m             \u001b[0mpred\u001b[0m \u001b[0;34m=\u001b[0m \u001b[0mself\u001b[0m\u001b[0;34m.\u001b[0m\u001b[0mpredict\u001b[0m\u001b[0;34m(\u001b[0m\u001b[0mdtrain\u001b[0m\u001b[0;34m,\u001b[0m \u001b[0moutput_margin\u001b[0m\u001b[0;34m=\u001b[0m\u001b[0;32mTrue\u001b[0m\u001b[0;34m,\u001b[0m \u001b[0mtraining\u001b[0m\u001b[0;34m=\u001b[0m\u001b[0;32mTrue\u001b[0m\u001b[0;34m)\u001b[0m\u001b[0;34m\u001b[0m\u001b[0;34m\u001b[0m\u001b[0m\n",
      "\u001b[0;32m~/miniconda3/envs/venv_01/lib/python3.7/site-packages/xgboost/core.py\u001b[0m in \u001b[0;36m_check_call\u001b[0;34m()\u001b[0m\n\u001b[1;32m    216\u001b[0m     \"\"\"\n\u001b[1;32m    217\u001b[0m     \u001b[0;32mif\u001b[0m \u001b[0mret\u001b[0m \u001b[0;34m!=\u001b[0m \u001b[0;36m0\u001b[0m\u001b[0;34m:\u001b[0m\u001b[0;34m\u001b[0m\u001b[0;34m\u001b[0m\u001b[0m\n\u001b[0;32m--> 218\u001b[0;31m         \u001b[0;32mraise\u001b[0m \u001b[0mXGBoostError\u001b[0m\u001b[0;34m(\u001b[0m\u001b[0mpy_str\u001b[0m\u001b[0;34m(\u001b[0m\u001b[0m_LIB\u001b[0m\u001b[0;34m.\u001b[0m\u001b[0mXGBGetLastError\u001b[0m\u001b[0;34m(\u001b[0m\u001b[0;34m)\u001b[0m\u001b[0;34m)\u001b[0m\u001b[0;34m)\u001b[0m\u001b[0;34m\u001b[0m\u001b[0;34m\u001b[0m\u001b[0m\n\u001b[0m\u001b[1;32m    219\u001b[0m \u001b[0;34m\u001b[0m\u001b[0m\n\u001b[1;32m    220\u001b[0m \u001b[0;34m\u001b[0m\u001b[0m\n",
      "\u001b[0;31mXGBoostError\u001b[0m: [16:36:51] ../src/tree/updater_gpu_hist.cu:770: Exception in gpu_hist: [16:36:51] ../src/common/device_helpers.cuh:132: NCCL failure :unhandled system error ../src/common/device_helpers.cu(67)\nStack trace:\n  [bt] (0) /home/go/miniconda3/envs/venv_01/lib/python3.7/site-packages/xgboost/lib/libxgboost.so(+0x31ddcd) [0x7f941a872dcd]\n  [bt] (1) /home/go/miniconda3/envs/venv_01/lib/python3.7/site-packages/xgboost/lib/libxgboost.so(+0x320f29) [0x7f941a875f29]\n  [bt] (2) /home/go/miniconda3/envs/venv_01/lib/python3.7/site-packages/xgboost/lib/libxgboost.so(+0x31f12a) [0x7f941a87412a]\n  [bt] (3) /home/go/miniconda3/envs/venv_01/lib/python3.7/site-packages/xgboost/lib/libxgboost.so(+0x4d7f42) [0x7f941aa2cf42]\n  [bt] (4) /home/go/miniconda3/envs/venv_01/lib/python3.7/site-packages/xgboost/lib/libxgboost.so(+0x4e1d26) [0x7f941aa36d26]\n  [bt] (5) /home/go/miniconda3/envs/venv_01/lib/python3.7/site-packages/xgboost/lib/libxgboost.so(+0x17d683) [0x7f941a6d2683]\n  [bt] (6) /home/go/miniconda3/envs/venv_01/lib/python3.7/site-packages/xgboost/lib/libxgboost.so(+0x17e4ac) [0x7f941a6d34ac]\n  [bt] (7) /home/go/miniconda3/envs/venv_01/lib/python3.7/site-packages/xgboost/lib/libxgboost.so(+0x1b49fa) [0x7f941a7099fa]\n  [bt] (8) /home/go/miniconda3/envs/venv_01/lib/python3.7/site-packages/xgboost/lib/libxgboost.so(XGBoosterUpdateOneIter+0x68) [0x7f941a5ee4f8]\n\n\n\nStack trace:\n  [bt] (0) /home/go/miniconda3/envs/venv_01/lib/python3.7/site-packages/xgboost/lib/libxgboost.so(+0x4c2fe9) [0x7f941aa17fe9]\n  [bt] (1) /home/go/miniconda3/envs/venv_01/lib/python3.7/site-packages/xgboost/lib/libxgboost.so(+0x4e207f) [0x7f941aa3707f]\n  [bt] (2) /home/go/miniconda3/envs/venv_01/lib/python3.7/site-packages/xgboost/lib/libxgboost.so(+0x17d683) [0x7f941a6d2683]\n  [bt] (3) /home/go/miniconda3/envs/venv_01/lib/python3.7/site-packages/xgboost/lib/libxgboost.so(+0x17e4ac) [0x7f941a6d34ac]\n  [bt] (4) /home/go/miniconda3/envs/venv_01/lib/python3.7/site-packages/xgboost/lib/libxgboost.so(+0x1b49fa) [0x7f941a7099fa]\n  [bt] (5) /home/go/miniconda3/envs/venv_01/lib/python3.7/site-packages/xgboost/lib/libxgboost.so(XGBoosterUpdateOneIter+0x68) [0x7f941a5ee4f8]\n  [bt] (6) /home/go/miniconda3/envs/venv_01/lib/python3.7/lib-dynload/../../libffi.so.7(+0x69dd) [0x7f955dbf29dd]\n  [bt] (7) /home/go/miniconda3/envs/venv_01/lib/python3.7/lib-dynload/../../libffi.so.7(+0x6067) [0x7f955dbf2067]\n  [bt] (8) /home/go/miniconda3/envs/venv_01/lib/python3.7/lib-dynload/_ctypes.cpython-37m-x86_64-linux-gnu.so(_ctypes_callproc+0x2e7) [0x7f955dc0a3a7]\n\n"
     ]
    }
   ],
   "source": [
    "from dask.distributed import Client, LocalCluster\n",
    "from dask_cuda import LocalCUDACluster\n",
    "#http://localhost:3258/status\n",
    "\n",
    "if __name__ == \"__main__\":\n",
    "    with LocalCUDACluster(dashboard_address=':3258') as cluster:\n",
    "        with Client(cluster) as client:\n",
    "            print(client)\n",
    "            # X and y must be Dask dataframes or arrays\n",
    "            params = {\"verbosity\": 0, \n",
    "            \"tree_method\": \"gpu_hist\", \n",
    "            \"objective\": 'multi:softmax',\n",
    "            \"num_class\":len(label_description),\n",
    "            }\n",
    "\n",
    "           \n",
    "            start = time.time()\n",
    "            dtrain = xgb.dask.DaskDMatrix(client, X,y)\n",
    "            out = xgb.dask.train(\n",
    "                client,\n",
    "                params,\n",
    "                dtrain,\n",
    "                num_boost_round=4,\n",
    "                evals=[(dtrain, \"train\")],\n",
    "            )\n",
    "            print(time.time()-start)\n",
    "            # y_pred = xgb.dask.predict(client,out,X_test).compute()\n",
    "            "
   ]
  },
  {
   "cell_type": "code",
   "execution_count": null,
   "metadata": {},
   "outputs": [],
   "source": [
    "from sklearn.metrics import f1_score\n",
    "f1_score(y_test, y_pred,average='macro')"
   ]
  },
  {
   "cell_type": "code",
   "execution_count": 36,
   "metadata": {},
   "outputs": [
    {
     "data": {
      "text/plain": [
       "'1.5.2'"
      ]
     },
     "execution_count": 36,
     "metadata": {},
     "output_type": "execute_result"
    }
   ],
   "source": [
    "xgb.__version__"
   ]
  },
  {
   "cell_type": "markdown",
   "metadata": {},
   "source": [
    "## 데이터 전처리 속도 비교"
   ]
  },
  {
   "cell_type": "code",
   "execution_count": 89,
   "metadata": {},
   "outputs": [
    {
     "name": "stdout",
     "output_type": "stream",
     "text": [
      "CPU times: user 3min 35s, sys: 21 s, total: 3min 56s\n",
      "Wall time: 3min 26s\n"
     ]
    }
   ],
   "source": [
    "%%time\n",
    "#making_csv_set\n",
    "row_csv = dd.read_csv(os.path.join(path,\"data\",\"train\",\"*\",\"*.csv\"),dtype={'외부 누적일사 평균': 'object','내부 이슬점 최고': 'object',\n",
    "       '내부 이슬점 최저': 'object',\n",
    "       '내부 이슬점 평균': 'object'})\n",
    "partitions = row_csv.to_delayed()\n",
    "# datas = [padding(part.drop_duplicates(subset=['측정시각'])[csv_features].values,290,9) for part in partitions]\n",
    "datas = [padding(part.drop_duplicates(subset=['측정시각'])[csv_features][part != \"-\"].dropna().values,290,9) for part in partitions[:]]\n",
    "X_train = da.array(dask.compute(*datas))\n"
   ]
  },
  {
   "cell_type": "code",
   "execution_count": 90,
   "metadata": {},
   "outputs": [
    {
     "name": "stderr",
     "output_type": "stream",
     "text": [
      "/home/go/miniconda3/envs/venv_01/lib/python3.7/site-packages/dask_cuda/utils.py:216: UserWarning: Cannot get CPU affinity for device with index 0, setting default affinity\n",
      "  % device_index\n",
      "distributed.preloading - INFO - Import preload module: dask_cuda.initialize\n"
     ]
    },
    {
     "name": "stdout",
     "output_type": "stream",
     "text": [
      "CPU times: user 1min 20s, sys: 4.04 s, total: 1min 24s\n",
      "Wall time: 4min 19s\n"
     ]
    }
   ],
   "source": [
    "%%time\n",
    "from dask.distributed import Client, LocalCluster\n",
    "from dask_cuda import LocalCUDACluster\n",
    "#http://localhost:3258/status\n",
    "\n",
    "if __name__ == \"__main__\":\n",
    "    with LocalCUDACluster(dashboard_address=':3258') as cluster:\n",
    "        with Client(cluster) as client:\n",
    "            row_csv = dd.read_csv(os.path.join(path,\"data\",\"train\",\"*\",\"*.csv\"),dtype={'외부 누적일사 평균': 'object','내부 이슬점 최고': 'object',\n",
    "                '내부 이슬점 최저': 'object',\n",
    "                '내부 이슬점 평균': 'object'})\n",
    "            partitions = row_csv.to_delayed()\n",
    "            # datas = [padding(part.drop_duplicates(subset=['측정시각'])[csv_features].values,290,9) for part in partitions]\n",
    "            datas = [padding(part.drop_duplicates(subset=['측정시각'])[csv_features][part != \"-\"].dropna().values,290,9) for part in partitions[:]]\n",
    "            X_train = da.array(dask.compute(*datas))"
   ]
  },
  {
   "cell_type": "code",
   "execution_count": 91,
   "metadata": {},
   "outputs": [
    {
     "name": "stdout",
     "output_type": "stream",
     "text": [
      "CPU times: user 1min 6s, sys: 2.6 s, total: 1min 9s\n",
      "Wall time: 1min 57s\n"
     ]
    }
   ],
   "source": [
    "%%time\n",
    "from dask.distributed import Client, LocalCluster\n",
    "from dask_cuda import LocalCUDACluster\n",
    "#http://localhost:3258/status\n",
    "\n",
    "if __name__ == \"__main__\":\n",
    "    with LocalCluster(dashboard_address=':3258') as cluster:\n",
    "        with Client(cluster) as client:\n",
    "            row_csv = dd.read_csv(os.path.join(path,\"data\",\"train\",\"*\",\"*.csv\"),dtype={'외부 누적일사 평균': 'object','내부 이슬점 최고': 'object',\n",
    "                '내부 이슬점 최저': 'object',\n",
    "                '내부 이슬점 평균': 'object'})\n",
    "            partitions = row_csv.to_delayed()\n",
    "            # datas = [padding(part.drop_duplicates(subset=['측정시각'])[csv_features].values,290,9) for part in partitions]\n",
    "            datas = [padding(part.drop_duplicates(subset=['측정시각'])[csv_features][part != \"-\"].dropna().values,290,9) for part in partitions[:]]\n",
    "            X_train = da.array(dask.compute(*datas))"
   ]
  },
  {
   "cell_type": "markdown",
   "metadata": {},
   "source": [
    "## csv셋 XGBClassifier"
   ]
  },
  {
   "cell_type": "code",
   "execution_count": 72,
   "metadata": {},
   "outputs": [],
   "source": [
    "%%time\n",
    "from dask.distributed import Client, LocalCluster\n",
    "from dask_cuda import LocalCUDACluster\n",
    "#http://localhost:3258/status\n",
    "\n",
    "if __name__ == \"__main__\":\n",
    "    with LocalCluster(dashboard_address=':3258') as cluster:\n",
    "        with Client(cluster) as client:\n",
    "            row_csv = dd.read_csv(os.path.join(path,\"data\",\"train\",\"*\",\"*.csv\"),dtype={'외부 누적일사 평균': 'object','내부 이슬점 최고': 'object',\n",
    "                '내부 이슬점 최저': 'object',\n",
    "                '내부 이슬점 평균': 'object'})\n",
    "            partitions = row_csv.to_delayed()\n",
    "            # datas = [padding(part.drop_duplicates(subset=['측정시각'])[csv_features].values,290,9) for part in partitions]\n",
    "            datas = [padding(part.drop_duplicates(subset=['측정시각'])[csv_features][part != \"-\"].dropna().values,290,9) for part in partitions[:]]\n",
    "            X_train = da.array(dask.compute(*datas))"
   ]
  },
  {
   "cell_type": "code",
   "execution_count": 73,
   "metadata": {},
   "outputs": [],
   "source": [
    "X_train = X_train.reshape(5767,-1)"
   ]
  },
  {
   "cell_type": "code",
   "execution_count": 75,
   "metadata": {},
   "outputs": [
    {
     "data": {
      "text/html": [
       "<table>\n",
       "    <tr>\n",
       "        <td>\n",
       "            <table>\n",
       "                <thead>\n",
       "                    <tr>\n",
       "                        <td> </td>\n",
       "                        <th> Array </th>\n",
       "                        <th> Chunk </th>\n",
       "                    </tr>\n",
       "                </thead>\n",
       "                <tbody>\n",
       "                    \n",
       "                    <tr>\n",
       "                        <th> Bytes </th>\n",
       "                        <td> 114.84 MiB </td>\n",
       "                        <td> 114.84 MiB </td>\n",
       "                    </tr>\n",
       "                    \n",
       "                    <tr>\n",
       "                        <th> Shape </th>\n",
       "                        <td> (5767, 2610) </td>\n",
       "                        <td> (5767, 2610) </td>\n",
       "                    </tr>\n",
       "                    <tr>\n",
       "                        <th> Count </th>\n",
       "                        <td> 2 Tasks </td>\n",
       "                        <td> 1 Chunks </td>\n",
       "                    </tr>\n",
       "                    <tr>\n",
       "                    <th> Type </th>\n",
       "                    <td> float64 </td>\n",
       "                    <td> numpy.ndarray </td>\n",
       "                    </tr>\n",
       "                </tbody>\n",
       "            </table>\n",
       "        </td>\n",
       "        <td>\n",
       "        <svg width=\"104\" height=\"170\" style=\"stroke:rgb(0,0,0);stroke-width:1\" >\n",
       "\n",
       "  <!-- Horizontal lines -->\n",
       "  <line x1=\"0\" y1=\"0\" x2=\"54\" y2=\"0\" style=\"stroke-width:2\" />\n",
       "  <line x1=\"0\" y1=\"120\" x2=\"54\" y2=\"120\" style=\"stroke-width:2\" />\n",
       "\n",
       "  <!-- Vertical lines -->\n",
       "  <line x1=\"0\" y1=\"0\" x2=\"0\" y2=\"120\" style=\"stroke-width:2\" />\n",
       "  <line x1=\"54\" y1=\"0\" x2=\"54\" y2=\"120\" style=\"stroke-width:2\" />\n",
       "\n",
       "  <!-- Colored Rectangle -->\n",
       "  <polygon points=\"0.0,0.0 54.30899947979886,0.0 54.30899947979886,120.0 0.0,120.0\" style=\"fill:#ECB172A0;stroke-width:0\"/>\n",
       "\n",
       "  <!-- Text -->\n",
       "  <text x=\"27.154500\" y=\"140.000000\" font-size=\"1.0rem\" font-weight=\"100\" text-anchor=\"middle\" >2610</text>\n",
       "  <text x=\"74.308999\" y=\"60.000000\" font-size=\"1.0rem\" font-weight=\"100\" text-anchor=\"middle\" transform=\"rotate(-90,74.308999,60.000000)\">5767</text>\n",
       "</svg>\n",
       "        </td>\n",
       "    </tr>\n",
       "</table>"
      ],
      "text/plain": [
       "dask.array<reshape, shape=(5767, 2610), dtype=float64, chunksize=(5767, 2610), chunktype=numpy.ndarray>"
      ]
     },
     "execution_count": 75,
     "metadata": {},
     "output_type": "execute_result"
    }
   ],
   "source": [
    "X_train"
   ]
  },
  {
   "cell_type": "code",
   "execution_count": 76,
   "metadata": {},
   "outputs": [],
   "source": [
    "X, X_test, y, y_test = train_test_split(X_train, label, test_size=0.2, shuffle= True,stratify=label)"
   ]
  },
  {
   "cell_type": "code",
   "execution_count": 81,
   "metadata": {},
   "outputs": [
    {
     "name": "stderr",
     "output_type": "stream",
     "text": [
      "/home/go/miniconda3/envs/venv_01/lib/python3.7/site-packages/xgboost/core.py:502: FutureWarning: Pass `objective` as keyword args.  Passing these as positional arguments will be considered as error in future releases.\n",
      "  format(\", \".join(args_msg)), FutureWarning\n",
      "/home/go/miniconda3/envs/venv_01/lib/python3.7/site-packages/xgboost/sklearn.py:1224: UserWarning: The use of label encoder in XGBClassifier is deprecated and will be removed in a future release. To remove this warning, do the following: 1) Pass option use_label_encoder=False when constructing XGBClassifier object; and 2) Encode your labels (y) as integers starting with 0, i.e. 0, 1, 2, ..., [num_class - 1].\n",
      "  warnings.warn(label_encoder_deprecation_msg, UserWarning)\n"
     ]
    },
    {
     "name": "stdout",
     "output_type": "stream",
     "text": [
      "CPU times: user 11min 48s, sys: 578 ms, total: 11min 49s\n",
      "Wall time: 44.8 s\n"
     ]
    }
   ],
   "source": [
    "%%time\n",
    "params = {\"tree_method\": \"gpu_hist\", \n",
    "          \"objective\": 'multi:softmax',\n",
    "          \"subsample\": 0.8,\n",
    "          \"colsample_bytree\": 0.8,\n",
    "        #   \"single_precision_histogram\" : True,\n",
    "          }\n",
    "\n",
    "start = time.time()\n",
    "XGB_mod1 = xgb.XGBClassifier(params,eval_metric='mlogloss',).fit(X,y)\n",
    "# print(time.time()-start)\n",
    "y_pred = XGB_mod1.predict(X_test)"
   ]
  },
  {
   "cell_type": "code",
   "execution_count": 82,
   "metadata": {},
   "outputs": [
    {
     "data": {
      "text/plain": [
       "0.8525408215969777"
      ]
     },
     "execution_count": 82,
     "metadata": {},
     "output_type": "execute_result"
    }
   ],
   "source": [
    "from sklearn.metrics import f1_score\n",
    "f1_score(y_test, y_pred,average='macro')"
   ]
  },
  {
   "cell_type": "code",
   "execution_count": 83,
   "metadata": {},
   "outputs": [
    {
     "name": "stderr",
     "output_type": "stream",
     "text": [
      "/home/go/miniconda3/envs/venv_01/lib/python3.7/site-packages/xgboost/core.py:502: FutureWarning: Pass `objective` as keyword args.  Passing these as positional arguments will be considered as error in future releases.\n",
      "  format(\", \".join(args_msg)), FutureWarning\n",
      "/home/go/miniconda3/envs/venv_01/lib/python3.7/site-packages/xgboost/sklearn.py:1224: UserWarning: The use of label encoder in XGBClassifier is deprecated and will be removed in a future release. To remove this warning, do the following: 1) Pass option use_label_encoder=False when constructing XGBClassifier object; and 2) Encode your labels (y) as integers starting with 0, i.e. 0, 1, 2, ..., [num_class - 1].\n",
      "  warnings.warn(label_encoder_deprecation_msg, UserWarning)\n"
     ]
    },
    {
     "name": "stdout",
     "output_type": "stream",
     "text": [
      "CPU times: user 11min 15s, sys: 307 ms, total: 11min 15s\n",
      "Wall time: 42.7 s\n"
     ]
    }
   ],
   "source": [
    "%%time\n",
    "params = {\"tree_method\": \"hist\", \n",
    "          \"objective\": 'multi:softmax',\n",
    "          \"subsample\": 0.8,\n",
    "          \"colsample_bytree\": 0.8,\n",
    "        #   \"single_precision_histogram\" : True,\n",
    "          }\n",
    "\n",
    "start = time.time()\n",
    "XGB_mod1 = xgb.XGBClassifier(params,eval_metric='mlogloss',).fit(X,y)\n",
    "# print(time.time()-start)\n",
    "y_pred = XGB_mod1.predict(X_test)"
   ]
  },
  {
   "cell_type": "code",
   "execution_count": 84,
   "metadata": {},
   "outputs": [
    {
     "data": {
      "text/plain": [
       "0.8525408215969777"
      ]
     },
     "execution_count": 84,
     "metadata": {},
     "output_type": "execute_result"
    }
   ],
   "source": [
    "from sklearn.metrics import f1_score\n",
    "f1_score(y_test, y_pred,average='macro')"
   ]
  },
  {
   "cell_type": "code",
   "execution_count": 85,
   "metadata": {},
   "outputs": [
    {
     "name": "stderr",
     "output_type": "stream",
     "text": [
      "/home/go/miniconda3/envs/venv_01/lib/python3.7/site-packages/xgboost/core.py:502: FutureWarning: Pass `objective` as keyword args.  Passing these as positional arguments will be considered as error in future releases.\n",
      "  format(\", \".join(args_msg)), FutureWarning\n",
      "/home/go/miniconda3/envs/venv_01/lib/python3.7/site-packages/xgboost/sklearn.py:1224: UserWarning: The use of label encoder in XGBClassifier is deprecated and will be removed in a future release. To remove this warning, do the following: 1) Pass option use_label_encoder=False when constructing XGBClassifier object; and 2) Encode your labels (y) as integers starting with 0, i.e. 0, 1, 2, ..., [num_class - 1].\n",
      "  warnings.warn(label_encoder_deprecation_msg, UserWarning)\n"
     ]
    },
    {
     "name": "stdout",
     "output_type": "stream",
     "text": [
      "CPU times: user 13min 8s, sys: 658 ms, total: 13min 9s\n",
      "Wall time: 50.6 s\n"
     ]
    }
   ],
   "source": [
    "%%time\n",
    "params = {\"tree_method\": \"gpu_hist\", \n",
    "          \"objective\": 'multi:softmax',\n",
    "          \"subsample\": 0.8,\n",
    "          \"colsample_bytree\": 0.8,\n",
    "          \"single_precision_histogram\" : True,\n",
    "          }\n",
    "\n",
    "start = time.time()\n",
    "XGB_mod1 = xgb.XGBClassifier(params,eval_metric='mlogloss',).fit(X,y)\n",
    "# print(time.time()-start)\n",
    "y_pred = XGB_mod1.predict(X_test)"
   ]
  },
  {
   "cell_type": "code",
   "execution_count": 86,
   "metadata": {},
   "outputs": [
    {
     "data": {
      "text/plain": [
       "0.8525408215969777"
      ]
     },
     "execution_count": 86,
     "metadata": {},
     "output_type": "execute_result"
    }
   ],
   "source": [
    "from sklearn.metrics import f1_score\n",
    "f1_score(y_test, y_pred,average='macro')"
   ]
  },
  {
   "cell_type": "code",
   "execution_count": 87,
   "metadata": {},
   "outputs": [
    {
     "name": "stderr",
     "output_type": "stream",
     "text": [
      "/home/go/miniconda3/envs/venv_01/lib/python3.7/site-packages/xgboost/core.py:502: FutureWarning: Pass `objective` as keyword args.  Passing these as positional arguments will be considered as error in future releases.\n",
      "  format(\", \".join(args_msg)), FutureWarning\n",
      "/home/go/miniconda3/envs/venv_01/lib/python3.7/site-packages/xgboost/sklearn.py:1224: UserWarning: The use of label encoder in XGBClassifier is deprecated and will be removed in a future release. To remove this warning, do the following: 1) Pass option use_label_encoder=False when constructing XGBClassifier object; and 2) Encode your labels (y) as integers starting with 0, i.e. 0, 1, 2, ..., [num_class - 1].\n",
      "  warnings.warn(label_encoder_deprecation_msg, UserWarning)\n"
     ]
    },
    {
     "name": "stdout",
     "output_type": "stream",
     "text": [
      "CPU times: user 10min 16s, sys: 258 ms, total: 10min 16s\n",
      "Wall time: 38.8 s\n"
     ]
    }
   ],
   "source": [
    "%%time\n",
    "params = {\"tree_method\": \"hist\", \n",
    "          \"objective\": 'multi:softmax',\n",
    "          \"subsample\": 0.8,\n",
    "          \"colsample_bytree\": 0.8,\n",
    "          \"single_precision_histogram\" : True,\n",
    "          }\n",
    "\n",
    "start = time.time()\n",
    "XGB_mod1 = xgb.XGBClassifier(params,eval_metric='mlogloss',).fit(X,y)\n",
    "# print(time.time()-start)\n",
    "y_pred = XGB_mod1.predict(X_test)"
   ]
  },
  {
   "cell_type": "code",
   "execution_count": 88,
   "metadata": {},
   "outputs": [
    {
     "data": {
      "text/plain": [
       "0.8525408215969777"
      ]
     },
     "execution_count": 88,
     "metadata": {},
     "output_type": "execute_result"
    }
   ],
   "source": [
    "from sklearn.metrics import f1_score\n",
    "f1_score(y_test, y_pred,average='macro')"
   ]
  },
  {
   "cell_type": "code",
   "execution_count": null,
   "metadata": {},
   "outputs": [],
   "source": []
  },
  {
   "cell_type": "markdown",
   "metadata": {},
   "source": [
    "## csv셋 xgb.dask, numboost 4"
   ]
  },
  {
   "cell_type": "code",
   "execution_count": null,
   "metadata": {},
   "outputs": [],
   "source": [
    "%%time\n",
    "from dask.distributed import Client, LocalCluster\n",
    "from dask_cuda import LocalCUDACluster\n",
    "#http://localhost:3258/status\n",
    "\n",
    "if __name__ == \"__main__\":\n",
    "    with LocalCluster(dashboard_address=':3258') as cluster:\n",
    "        with Client(cluster) as client:\n",
    "            row_csv = dd.read_csv(os.path.join(path,\"data\",\"train\",\"*\",\"*.csv\"),dtype={'외부 누적일사 평균': 'object','내부 이슬점 최고': 'object',\n",
    "                '내부 이슬점 최저': 'object',\n",
    "                '내부 이슬점 평균': 'object'})\n",
    "            partitions = row_csv.to_delayed()\n",
    "            # datas = [padding(part.drop_duplicates(subset=['측정시각'])[csv_features].values,290,9) for part in partitions]\n",
    "            datas = [padding(part.drop_duplicates(subset=['측정시각'])[csv_features][part != \"-\"].dropna().values,290,9) for part in partitions[:]]\n",
    "            X_train = da.array(dask.compute(*datas))"
   ]
  },
  {
   "cell_type": "code",
   "execution_count": 92,
   "metadata": {},
   "outputs": [],
   "source": [
    "X_train = X_train.reshape(5767,-1)"
   ]
  },
  {
   "cell_type": "code",
   "execution_count": null,
   "metadata": {},
   "outputs": [
    {
     "data": {
      "text/html": [
       "<table>\n",
       "    <tr>\n",
       "        <td>\n",
       "            <table>\n",
       "                <thead>\n",
       "                    <tr>\n",
       "                        <td> </td>\n",
       "                        <th> Array </th>\n",
       "                        <th> Chunk </th>\n",
       "                    </tr>\n",
       "                </thead>\n",
       "                <tbody>\n",
       "                    \n",
       "                    <tr>\n",
       "                        <th> Bytes </th>\n",
       "                        <td> 114.84 MiB </td>\n",
       "                        <td> 114.84 MiB </td>\n",
       "                    </tr>\n",
       "                    \n",
       "                    <tr>\n",
       "                        <th> Shape </th>\n",
       "                        <td> (5767, 2610) </td>\n",
       "                        <td> (5767, 2610) </td>\n",
       "                    </tr>\n",
       "                    <tr>\n",
       "                        <th> Count </th>\n",
       "                        <td> 2 Tasks </td>\n",
       "                        <td> 1 Chunks </td>\n",
       "                    </tr>\n",
       "                    <tr>\n",
       "                    <th> Type </th>\n",
       "                    <td> float64 </td>\n",
       "                    <td> numpy.ndarray </td>\n",
       "                    </tr>\n",
       "                </tbody>\n",
       "            </table>\n",
       "        </td>\n",
       "        <td>\n",
       "        <svg width=\"104\" height=\"170\" style=\"stroke:rgb(0,0,0);stroke-width:1\" >\n",
       "\n",
       "  <!-- Horizontal lines -->\n",
       "  <line x1=\"0\" y1=\"0\" x2=\"54\" y2=\"0\" style=\"stroke-width:2\" />\n",
       "  <line x1=\"0\" y1=\"120\" x2=\"54\" y2=\"120\" style=\"stroke-width:2\" />\n",
       "\n",
       "  <!-- Vertical lines -->\n",
       "  <line x1=\"0\" y1=\"0\" x2=\"0\" y2=\"120\" style=\"stroke-width:2\" />\n",
       "  <line x1=\"54\" y1=\"0\" x2=\"54\" y2=\"120\" style=\"stroke-width:2\" />\n",
       "\n",
       "  <!-- Colored Rectangle -->\n",
       "  <polygon points=\"0.0,0.0 54.30899947979886,0.0 54.30899947979886,120.0 0.0,120.0\" style=\"fill:#ECB172A0;stroke-width:0\"/>\n",
       "\n",
       "  <!-- Text -->\n",
       "  <text x=\"27.154500\" y=\"140.000000\" font-size=\"1.0rem\" font-weight=\"100\" text-anchor=\"middle\" >2610</text>\n",
       "  <text x=\"74.308999\" y=\"60.000000\" font-size=\"1.0rem\" font-weight=\"100\" text-anchor=\"middle\" transform=\"rotate(-90,74.308999,60.000000)\">5767</text>\n",
       "</svg>\n",
       "        </td>\n",
       "    </tr>\n",
       "</table>"
      ],
      "text/plain": [
       "dask.array<reshape, shape=(5767, 2610), dtype=float64, chunksize=(5767, 2610), chunktype=numpy.ndarray>"
      ]
     },
     "execution_count": 93,
     "metadata": {},
     "output_type": "execute_result"
    }
   ],
   "source": [
    "X_train"
   ]
  },
  {
   "cell_type": "code",
   "execution_count": 94,
   "metadata": {},
   "outputs": [],
   "source": [
    "X, X_test, y, y_test = train_test_split(X_train, label, test_size=0.2, shuffle= True,stratify=label)"
   ]
  },
  {
   "cell_type": "code",
   "execution_count": 95,
   "metadata": {},
   "outputs": [
    {
     "name": "stdout",
     "output_type": "stream",
     "text": [
      "<Client: 'tcp://127.0.0.1:43759' processes=4 threads=16, memory=24.59 GiB>\n"
     ]
    },
    {
     "name": "stderr",
     "output_type": "stream",
     "text": [
      "[17:49:06] task [xgboost.dask]:tcp://127.0.0.1:32875 got new rank 0\n"
     ]
    },
    {
     "name": "stdout",
     "output_type": "stream",
     "text": [
      "[0]\ttrain-mlogloss:0.63510\n",
      "[1]\ttrain-mlogloss:0.36299\n",
      "[2]\ttrain-mlogloss:0.26461\n",
      "[3]\ttrain-mlogloss:0.20724\n",
      "34.202969789505005\n",
      "CPU times: user 3.09 s, sys: 729 ms, total: 3.82 s\n",
      "Wall time: 36.2 s\n"
     ]
    }
   ],
   "source": [
    "%%time\n",
    "from dask.distributed import Client, LocalCluster\n",
    "#http://localhost:3258/status\n",
    "if __name__ == \"__main__\":\n",
    "    with LocalCluster(dashboard_address=':3258') as cluster:\n",
    "        with Client(cluster) as client:\n",
    "            print(client)\n",
    "            # X and y must be Dask dataframes or arrays\n",
    "            params = {\"verbosity\": 0, \n",
    "            \"tree_method\": \"hist\", \n",
    "            \"objective\": 'multi:softmax',\n",
    "            \"num_class\":len(label_description),\n",
    "            }\n",
    "\n",
    "           \n",
    "            start = time.time()\n",
    "            dtrain = xgb.dask.DaskDMatrix(client, X,y)\n",
    "            out = xgb.dask.train(\n",
    "                client,\n",
    "                params,\n",
    "                dtrain,\n",
    "                num_boost_round=4,\n",
    "                evals=[(dtrain, \"train\")],\n",
    "            )\n",
    "            print(time.time()-start)\n",
    "            y_pred = xgb.dask.predict(client,out,X_test).compute()\n",
    "            "
   ]
  },
  {
   "cell_type": "code",
   "execution_count": 96,
   "metadata": {},
   "outputs": [
    {
     "data": {
      "text/plain": [
       "0.7776970006305945"
      ]
     },
     "execution_count": 96,
     "metadata": {},
     "output_type": "execute_result"
    }
   ],
   "source": [
    "from sklearn.metrics import f1_score\n",
    "f1_score(y_test, y_pred,average='macro')"
   ]
  },
  {
   "cell_type": "code",
   "execution_count": 97,
   "metadata": {},
   "outputs": [
    {
     "name": "stdout",
     "output_type": "stream",
     "text": [
      "<Client: 'tcp://127.0.0.1:35303' processes=4 threads=16, memory=24.59 GiB>\n"
     ]
    },
    {
     "name": "stderr",
     "output_type": "stream",
     "text": [
      "[17:49:43] task [xgboost.dask]:tcp://127.0.0.1:32783 got new rank 0\n",
      "distributed.worker - WARNING - Compute Failed\n",
      "Function:  dispatched_train\n",
      "args:      ('tcp://127.0.0.1:32783', [b'DMLC_NUM_WORKER=1', b'DMLC_TRACKER_URI=172.24.219.36', b'DMLC_TRACKER_PORT=9097', b'DMLC_TASK_ID=[xgboost.dask]:tcp://127.0.0.1:32783'], {'feature_names': None, 'feature_types': None, 'feature_weights': None, 'meta_names': ['labels'], 'missing': None, 'enable_categorical': False, 'parts': [(array([[27.8, 28. , 27.7, ...,  0. ,  0. ,  0. ],\n",
      "       [15.4, 15.7, 15.1, ..., 10.8, 11. , 10.6],\n",
      "       [27.4, 27.6, 27.2, ..., 24. , 24. , 24. ],\n",
      "       ...,\n",
      "       [29.4, 29.6, 29.3, ..., 19.5, 20.5, 19. ],\n",
      "       [18.5, 18.6, 18.4, ..., 10.1, 10.2,  9.9],\n",
      "       [13.4, 13.5, 13.3, ..., 10.6, 10.7, 10.6]]), array([104, 126, 129, ...,  54,  68, 122]))], 'is_quantile': False}, 140692356424400, [({'feature_names': None, 'feature_types': None, 'feature_weights': None, 'meta_names': ['labels'], 'missing': None, 'enable_categorical': False, 'parts': [(array([[27.8, 28. , 27.7, ...,  0. ,  0. ,  0. ],\n",
      "       [15.4, 15.7, 15.1, ..., 10.8, 11. , 10.6],\n",
      "       [27.4, 27.6, 27\n",
      "kwargs:    {}\n",
      "Exception: \"XGBoostError('[17:49:43] ../src/tree/updater_gpu_hist.cu:770: Exception in gpu_hist: [17:49:43] ../src/common/device_helpers.cuh:132: NCCL failure :unhandled system error ../src/common/device_helpers.cu(67)\\\\nStack trace:\\\\n  [bt] (0) /home/go/miniconda3/envs/venv_01/lib/python3.7/site-packages/xgboost/lib/libxgboost.so(+0x31ddcd) [0x7f8b7b034dcd]\\\\n  [bt] (1) /home/go/miniconda3/envs/venv_01/lib/python3.7/site-packages/xgboost/lib/libxgboost.so(+0x320f29) [0x7f8b7b037f29]\\\\n  [bt] (2) /home/go/miniconda3/envs/venv_01/lib/python3.7/site-packages/xgboost/lib/libxgboost.so(+0x31f12a) [0x7f8b7b03612a]\\\\n  [bt] (3) /home/go/miniconda3/envs/venv_01/lib/python3.7/site-packages/xgboost/lib/libxgboost.so(+0x4d7f42) [0x7f8b7b1eef42]\\\\n  [bt] (4) /home/go/miniconda3/envs/venv_01/lib/python3.7/site-packages/xgboost/lib/libxgboost.so(+0x4e1d26) [0x7f8b7b1f8d26]\\\\n  [bt] (5) /home/go/miniconda3/envs/venv_01/lib/python3.7/site-packages/xgboost/lib/libxgboost.so(+0x17d683) [0x7f8b7ae94683]\\\\n  [bt] (6) /home/go/miniconda3/envs/venv_01/lib/python3.7/site-packages/xgboost/lib/libxgboost.so(+0x17e4ac) [0x7f8b7ae954ac]\\\\n  [bt] (7) /home/go/miniconda3/envs/venv_01/lib/python3.7/site-packages/xgboost/lib/libxgboost.so(+0x1b49fa) [0x7f8b7aecb9fa]\\\\n  [bt] (8) /home/go/miniconda3/envs/venv_01/lib/python3.7/site-packages/xgboost/lib/libxgboost.so(XGBoosterUpdateOneIter+0x68) [0x7f8b7adb04f8]\\\\n\\\\n\\\\n\\\\nStack trace:\\\\n  [bt] (0) /home/go/miniconda3/envs/venv_01/lib/python3.7/site-packages/xgboost/lib/libxgboost.so(+0x4c2fe9) [0x7f8b7b1d9fe9]\\\\n  [bt] (1) /home/go/miniconda3/envs/venv_01/lib/python3.7/site-packages/xgboost/lib/libxgboost.so(+0x4e207f) [0x7f8b7b1f907f]\\\\n  [bt] (2) /home/go/miniconda3/envs/venv_01/lib/python3.7/site-packages/xgboost/lib/libxgboost.so(+0x17d683) [0x7f8b7ae94683]\\\\n  [bt] (3) /home/go/miniconda3/envs/venv_01/lib/python3.7/site-packages/xgboost/lib/libxgboost.so(+0x17e4ac) [0x7f8b7ae954ac]\\\\n  [bt] (4) /home/go/miniconda3/envs/venv_01/lib/python3.7/site-packages/xgboost/lib/libxgboost.so(+0x1b49fa) [0x7f8b7aecb9fa]\\\\n  [bt] (5) /home/go/miniconda3/envs/venv_01/lib/python3.7/site-packages/xgboost/lib/libxgboost.so(XGBoosterUpdateOneIter+0x68) [0x7f8b7adb04f8]\\\\n  [bt] (6) /home/go/miniconda3/envs/venv_01/lib/python3.7/lib-dynload/../../libffi.so.7(+0x69dd) [0x7f8c6ac759dd]\\\\n  [bt] (7) /home/go/miniconda3/envs/venv_01/lib/python3.7/lib-dynload/../../libffi.so.7(+0x6067) [0x7f8c6ac75067]\\\\n  [bt] (8) /home/go/miniconda3/envs/venv_01/lib/python3.7/lib-dynload/_ctypes.cpython-37m-x86_64-linux-gnu.so(_ctypes_callproc+0x2e7) [0x7f8c6ac8d3a7]\\\\n\\\\n')\"\n",
      "\n"
     ]
    },
    {
     "ename": "XGBoostError",
     "evalue": "[17:49:43] ../src/tree/updater_gpu_hist.cu:770: Exception in gpu_hist: [17:49:43] ../src/common/device_helpers.cuh:132: NCCL failure :unhandled system error ../src/common/device_helpers.cu(67)\nStack trace:\n  [bt] (0) /home/go/miniconda3/envs/venv_01/lib/python3.7/site-packages/xgboost/lib/libxgboost.so(+0x31ddcd) [0x7f8b7b034dcd]\n  [bt] (1) /home/go/miniconda3/envs/venv_01/lib/python3.7/site-packages/xgboost/lib/libxgboost.so(+0x320f29) [0x7f8b7b037f29]\n  [bt] (2) /home/go/miniconda3/envs/venv_01/lib/python3.7/site-packages/xgboost/lib/libxgboost.so(+0x31f12a) [0x7f8b7b03612a]\n  [bt] (3) /home/go/miniconda3/envs/venv_01/lib/python3.7/site-packages/xgboost/lib/libxgboost.so(+0x4d7f42) [0x7f8b7b1eef42]\n  [bt] (4) /home/go/miniconda3/envs/venv_01/lib/python3.7/site-packages/xgboost/lib/libxgboost.so(+0x4e1d26) [0x7f8b7b1f8d26]\n  [bt] (5) /home/go/miniconda3/envs/venv_01/lib/python3.7/site-packages/xgboost/lib/libxgboost.so(+0x17d683) [0x7f8b7ae94683]\n  [bt] (6) /home/go/miniconda3/envs/venv_01/lib/python3.7/site-packages/xgboost/lib/libxgboost.so(+0x17e4ac) [0x7f8b7ae954ac]\n  [bt] (7) /home/go/miniconda3/envs/venv_01/lib/python3.7/site-packages/xgboost/lib/libxgboost.so(+0x1b49fa) [0x7f8b7aecb9fa]\n  [bt] (8) /home/go/miniconda3/envs/venv_01/lib/python3.7/site-packages/xgboost/lib/libxgboost.so(XGBoosterUpdateOneIter+0x68) [0x7f8b7adb04f8]\n\n\n\nStack trace:\n  [bt] (0) /home/go/miniconda3/envs/venv_01/lib/python3.7/site-packages/xgboost/lib/libxgboost.so(+0x4c2fe9) [0x7f8b7b1d9fe9]\n  [bt] (1) /home/go/miniconda3/envs/venv_01/lib/python3.7/site-packages/xgboost/lib/libxgboost.so(+0x4e207f) [0x7f8b7b1f907f]\n  [bt] (2) /home/go/miniconda3/envs/venv_01/lib/python3.7/site-packages/xgboost/lib/libxgboost.so(+0x17d683) [0x7f8b7ae94683]\n  [bt] (3) /home/go/miniconda3/envs/venv_01/lib/python3.7/site-packages/xgboost/lib/libxgboost.so(+0x17e4ac) [0x7f8b7ae954ac]\n  [bt] (4) /home/go/miniconda3/envs/venv_01/lib/python3.7/site-packages/xgboost/lib/libxgboost.so(+0x1b49fa) [0x7f8b7aecb9fa]\n  [bt] (5) /home/go/miniconda3/envs/venv_01/lib/python3.7/site-packages/xgboost/lib/libxgboost.so(XGBoosterUpdateOneIter+0x68) [0x7f8b7adb04f8]\n  [bt] (6) /home/go/miniconda3/envs/venv_01/lib/python3.7/lib-dynload/../../libffi.so.7(+0x69dd) [0x7f8c6ac759dd]\n  [bt] (7) /home/go/miniconda3/envs/venv_01/lib/python3.7/lib-dynload/../../libffi.so.7(+0x6067) [0x7f8c6ac75067]\n  [bt] (8) /home/go/miniconda3/envs/venv_01/lib/python3.7/lib-dynload/_ctypes.cpython-37m-x86_64-linux-gnu.so(_ctypes_callproc+0x2e7) [0x7f8c6ac8d3a7]\n\n",
     "output_type": "error",
     "traceback": [
      "\u001b[0;31m---------------------------------------------------------------------------\u001b[0m",
      "\u001b[0;31mXGBoostError\u001b[0m                              Traceback (most recent call last)",
      "\u001b[0;32m<timed exec>\u001b[0m in \u001b[0;36m<module>\u001b[0;34m\u001b[0m\n",
      "\u001b[0;32m~/miniconda3/envs/venv_01/lib/python3.7/site-packages/xgboost/dask.py\u001b[0m in \u001b[0;36mtrain\u001b[0;34m(client, params, dtrain, num_boost_round, evals, obj, feval, early_stopping_rounds, xgb_model, verbose_eval, callbacks)\u001b[0m\n\u001b[1;32m    979\u001b[0m     \u001b[0mclient\u001b[0m \u001b[0;34m=\u001b[0m \u001b[0m_xgb_get_client\u001b[0m\u001b[0;34m(\u001b[0m\u001b[0mclient\u001b[0m\u001b[0;34m)\u001b[0m\u001b[0;34m\u001b[0m\u001b[0;34m\u001b[0m\u001b[0m\n\u001b[1;32m    980\u001b[0m     \u001b[0margs\u001b[0m \u001b[0;34m=\u001b[0m \u001b[0mlocals\u001b[0m\u001b[0;34m(\u001b[0m\u001b[0;34m)\u001b[0m\u001b[0;34m\u001b[0m\u001b[0;34m\u001b[0m\u001b[0m\n\u001b[0;32m--> 981\u001b[0;31m     \u001b[0;32mreturn\u001b[0m \u001b[0mclient\u001b[0m\u001b[0;34m.\u001b[0m\u001b[0msync\u001b[0m\u001b[0;34m(\u001b[0m\u001b[0m_train_async\u001b[0m\u001b[0;34m,\u001b[0m \u001b[0mglobal_config\u001b[0m\u001b[0;34m=\u001b[0m\u001b[0mconfig\u001b[0m\u001b[0;34m.\u001b[0m\u001b[0mget_config\u001b[0m\u001b[0;34m(\u001b[0m\u001b[0;34m)\u001b[0m\u001b[0;34m,\u001b[0m \u001b[0;34m**\u001b[0m\u001b[0margs\u001b[0m\u001b[0;34m)\u001b[0m\u001b[0;34m\u001b[0m\u001b[0;34m\u001b[0m\u001b[0m\n\u001b[0m\u001b[1;32m    982\u001b[0m \u001b[0;34m\u001b[0m\u001b[0m\n\u001b[1;32m    983\u001b[0m \u001b[0;34m\u001b[0m\u001b[0m\n",
      "\u001b[0;32m~/miniconda3/envs/venv_01/lib/python3.7/site-packages/distributed/client.py\u001b[0m in \u001b[0;36msync\u001b[0;34m(self, func, asynchronous, callback_timeout, *args, **kwargs)\u001b[0m\n\u001b[1;32m    867\u001b[0m         \u001b[0;32melse\u001b[0m\u001b[0;34m:\u001b[0m\u001b[0;34m\u001b[0m\u001b[0;34m\u001b[0m\u001b[0m\n\u001b[1;32m    868\u001b[0m             return sync(\n\u001b[0;32m--> 869\u001b[0;31m                 \u001b[0mself\u001b[0m\u001b[0;34m.\u001b[0m\u001b[0mloop\u001b[0m\u001b[0;34m,\u001b[0m \u001b[0mfunc\u001b[0m\u001b[0;34m,\u001b[0m \u001b[0;34m*\u001b[0m\u001b[0margs\u001b[0m\u001b[0;34m,\u001b[0m \u001b[0mcallback_timeout\u001b[0m\u001b[0;34m=\u001b[0m\u001b[0mcallback_timeout\u001b[0m\u001b[0;34m,\u001b[0m \u001b[0;34m**\u001b[0m\u001b[0mkwargs\u001b[0m\u001b[0;34m\u001b[0m\u001b[0;34m\u001b[0m\u001b[0m\n\u001b[0m\u001b[1;32m    870\u001b[0m             )\n\u001b[1;32m    871\u001b[0m \u001b[0;34m\u001b[0m\u001b[0m\n",
      "\u001b[0;32m~/miniconda3/envs/venv_01/lib/python3.7/site-packages/distributed/utils.py\u001b[0m in \u001b[0;36msync\u001b[0;34m(loop, func, callback_timeout, *args, **kwargs)\u001b[0m\n\u001b[1;32m    330\u001b[0m     \u001b[0;32mif\u001b[0m \u001b[0merror\u001b[0m\u001b[0;34m[\u001b[0m\u001b[0;36m0\u001b[0m\u001b[0;34m]\u001b[0m\u001b[0;34m:\u001b[0m\u001b[0;34m\u001b[0m\u001b[0;34m\u001b[0m\u001b[0m\n\u001b[1;32m    331\u001b[0m         \u001b[0mtyp\u001b[0m\u001b[0;34m,\u001b[0m \u001b[0mexc\u001b[0m\u001b[0;34m,\u001b[0m \u001b[0mtb\u001b[0m \u001b[0;34m=\u001b[0m \u001b[0merror\u001b[0m\u001b[0;34m[\u001b[0m\u001b[0;36m0\u001b[0m\u001b[0;34m]\u001b[0m\u001b[0;34m\u001b[0m\u001b[0;34m\u001b[0m\u001b[0m\n\u001b[0;32m--> 332\u001b[0;31m         \u001b[0;32mraise\u001b[0m \u001b[0mexc\u001b[0m\u001b[0;34m.\u001b[0m\u001b[0mwith_traceback\u001b[0m\u001b[0;34m(\u001b[0m\u001b[0mtb\u001b[0m\u001b[0;34m)\u001b[0m\u001b[0;34m\u001b[0m\u001b[0;34m\u001b[0m\u001b[0m\n\u001b[0m\u001b[1;32m    333\u001b[0m     \u001b[0;32melse\u001b[0m\u001b[0;34m:\u001b[0m\u001b[0;34m\u001b[0m\u001b[0;34m\u001b[0m\u001b[0m\n\u001b[1;32m    334\u001b[0m         \u001b[0;32mreturn\u001b[0m \u001b[0mresult\u001b[0m\u001b[0;34m[\u001b[0m\u001b[0;36m0\u001b[0m\u001b[0;34m]\u001b[0m\u001b[0;34m\u001b[0m\u001b[0;34m\u001b[0m\u001b[0m\n",
      "\u001b[0;32m~/miniconda3/envs/venv_01/lib/python3.7/site-packages/distributed/utils.py\u001b[0m in \u001b[0;36mf\u001b[0;34m()\u001b[0m\n\u001b[1;32m    313\u001b[0m             \u001b[0;32mif\u001b[0m \u001b[0mcallback_timeout\u001b[0m \u001b[0;32mis\u001b[0m \u001b[0;32mnot\u001b[0m \u001b[0;32mNone\u001b[0m\u001b[0;34m:\u001b[0m\u001b[0;34m\u001b[0m\u001b[0;34m\u001b[0m\u001b[0m\n\u001b[1;32m    314\u001b[0m                 \u001b[0mfuture\u001b[0m \u001b[0;34m=\u001b[0m \u001b[0masyncio\u001b[0m\u001b[0;34m.\u001b[0m\u001b[0mwait_for\u001b[0m\u001b[0;34m(\u001b[0m\u001b[0mfuture\u001b[0m\u001b[0;34m,\u001b[0m \u001b[0mcallback_timeout\u001b[0m\u001b[0;34m)\u001b[0m\u001b[0;34m\u001b[0m\u001b[0;34m\u001b[0m\u001b[0m\n\u001b[0;32m--> 315\u001b[0;31m             \u001b[0mresult\u001b[0m\u001b[0;34m[\u001b[0m\u001b[0;36m0\u001b[0m\u001b[0;34m]\u001b[0m \u001b[0;34m=\u001b[0m \u001b[0;32myield\u001b[0m \u001b[0mfuture\u001b[0m\u001b[0;34m\u001b[0m\u001b[0;34m\u001b[0m\u001b[0m\n\u001b[0m\u001b[1;32m    316\u001b[0m         \u001b[0;32mexcept\u001b[0m \u001b[0mException\u001b[0m\u001b[0;34m:\u001b[0m\u001b[0;34m\u001b[0m\u001b[0;34m\u001b[0m\u001b[0m\n\u001b[1;32m    317\u001b[0m             \u001b[0merror\u001b[0m\u001b[0;34m[\u001b[0m\u001b[0;36m0\u001b[0m\u001b[0;34m]\u001b[0m \u001b[0;34m=\u001b[0m \u001b[0msys\u001b[0m\u001b[0;34m.\u001b[0m\u001b[0mexc_info\u001b[0m\u001b[0;34m(\u001b[0m\u001b[0;34m)\u001b[0m\u001b[0;34m\u001b[0m\u001b[0;34m\u001b[0m\u001b[0m\n",
      "\u001b[0;32m~/miniconda3/envs/venv_01/lib/python3.7/site-packages/tornado/gen.py\u001b[0m in \u001b[0;36mrun\u001b[0;34m(self)\u001b[0m\n\u001b[1;32m    760\u001b[0m \u001b[0;34m\u001b[0m\u001b[0m\n\u001b[1;32m    761\u001b[0m                     \u001b[0;32mtry\u001b[0m\u001b[0;34m:\u001b[0m\u001b[0;34m\u001b[0m\u001b[0;34m\u001b[0m\u001b[0m\n\u001b[0;32m--> 762\u001b[0;31m                         \u001b[0mvalue\u001b[0m \u001b[0;34m=\u001b[0m \u001b[0mfuture\u001b[0m\u001b[0;34m.\u001b[0m\u001b[0mresult\u001b[0m\u001b[0;34m(\u001b[0m\u001b[0;34m)\u001b[0m\u001b[0;34m\u001b[0m\u001b[0;34m\u001b[0m\u001b[0m\n\u001b[0m\u001b[1;32m    763\u001b[0m                     \u001b[0;32mexcept\u001b[0m \u001b[0mException\u001b[0m\u001b[0;34m:\u001b[0m\u001b[0;34m\u001b[0m\u001b[0;34m\u001b[0m\u001b[0m\n\u001b[1;32m    764\u001b[0m                         \u001b[0mexc_info\u001b[0m \u001b[0;34m=\u001b[0m \u001b[0msys\u001b[0m\u001b[0;34m.\u001b[0m\u001b[0mexc_info\u001b[0m\u001b[0;34m(\u001b[0m\u001b[0;34m)\u001b[0m\u001b[0;34m\u001b[0m\u001b[0;34m\u001b[0m\u001b[0m\n",
      "\u001b[0;32m~/miniconda3/envs/venv_01/lib/python3.7/site-packages/xgboost/dask.py\u001b[0m in \u001b[0;36m_train_async\u001b[0;34m(client, global_config, params, dtrain, num_boost_round, evals, obj, feval, early_stopping_rounds, verbose_eval, xgb_model, callbacks)\u001b[0m\n\u001b[1;32m    929\u001b[0m             \u001b[0mfutures\u001b[0m\u001b[0;34m.\u001b[0m\u001b[0mappend\u001b[0m\u001b[0;34m(\u001b[0m\u001b[0mf\u001b[0m\u001b[0;34m)\u001b[0m\u001b[0;34m\u001b[0m\u001b[0;34m\u001b[0m\u001b[0m\n\u001b[1;32m    930\u001b[0m \u001b[0;34m\u001b[0m\u001b[0m\n\u001b[0;32m--> 931\u001b[0;31m         \u001b[0mresults\u001b[0m \u001b[0;34m=\u001b[0m \u001b[0;32mawait\u001b[0m \u001b[0mclient\u001b[0m\u001b[0;34m.\u001b[0m\u001b[0mgather\u001b[0m\u001b[0;34m(\u001b[0m\u001b[0mfutures\u001b[0m\u001b[0;34m,\u001b[0m \u001b[0masynchronous\u001b[0m\u001b[0;34m=\u001b[0m\u001b[0;32mTrue\u001b[0m\u001b[0;34m)\u001b[0m\u001b[0;34m\u001b[0m\u001b[0;34m\u001b[0m\u001b[0m\n\u001b[0m\u001b[1;32m    932\u001b[0m \u001b[0;34m\u001b[0m\u001b[0m\n\u001b[1;32m    933\u001b[0m         \u001b[0;32mreturn\u001b[0m \u001b[0mlist\u001b[0m\u001b[0;34m(\u001b[0m\u001b[0mfilter\u001b[0m\u001b[0;34m(\u001b[0m\u001b[0;32mlambda\u001b[0m \u001b[0mret\u001b[0m\u001b[0;34m:\u001b[0m \u001b[0mret\u001b[0m \u001b[0;32mis\u001b[0m \u001b[0;32mnot\u001b[0m \u001b[0;32mNone\u001b[0m\u001b[0;34m,\u001b[0m \u001b[0mresults\u001b[0m\u001b[0;34m)\u001b[0m\u001b[0;34m)\u001b[0m\u001b[0;34m[\u001b[0m\u001b[0;36m0\u001b[0m\u001b[0;34m]\u001b[0m\u001b[0;34m\u001b[0m\u001b[0;34m\u001b[0m\u001b[0m\n",
      "\u001b[0;32m~/miniconda3/envs/venv_01/lib/python3.7/site-packages/distributed/client.py\u001b[0m in \u001b[0;36m_gather\u001b[0;34m(self, futures, errors, direct, local_worker)\u001b[0m\n\u001b[1;32m   1843\u001b[0m                             \u001b[0mexc\u001b[0m \u001b[0;34m=\u001b[0m \u001b[0mCancelledError\u001b[0m\u001b[0;34m(\u001b[0m\u001b[0mkey\u001b[0m\u001b[0;34m)\u001b[0m\u001b[0;34m\u001b[0m\u001b[0;34m\u001b[0m\u001b[0m\n\u001b[1;32m   1844\u001b[0m                         \u001b[0;32melse\u001b[0m\u001b[0;34m:\u001b[0m\u001b[0;34m\u001b[0m\u001b[0;34m\u001b[0m\u001b[0m\n\u001b[0;32m-> 1845\u001b[0;31m                             \u001b[0;32mraise\u001b[0m \u001b[0mexception\u001b[0m\u001b[0;34m.\u001b[0m\u001b[0mwith_traceback\u001b[0m\u001b[0;34m(\u001b[0m\u001b[0mtraceback\u001b[0m\u001b[0;34m)\u001b[0m\u001b[0;34m\u001b[0m\u001b[0;34m\u001b[0m\u001b[0m\n\u001b[0m\u001b[1;32m   1846\u001b[0m                         \u001b[0;32mraise\u001b[0m \u001b[0mexc\u001b[0m\u001b[0;34m\u001b[0m\u001b[0;34m\u001b[0m\u001b[0m\n\u001b[1;32m   1847\u001b[0m                     \u001b[0;32mif\u001b[0m \u001b[0merrors\u001b[0m \u001b[0;34m==\u001b[0m \u001b[0;34m\"skip\"\u001b[0m\u001b[0;34m:\u001b[0m\u001b[0;34m\u001b[0m\u001b[0;34m\u001b[0m\u001b[0m\n",
      "\u001b[0;32m~/miniconda3/envs/venv_01/lib/python3.7/site-packages/xgboost/dask.py\u001b[0m in \u001b[0;36mdispatched_train\u001b[0;34m()\u001b[0m\n\u001b[1;32m    894\u001b[0m                                \u001b[0mverbose_eval\u001b[0m\u001b[0;34m=\u001b[0m\u001b[0mverbose_eval\u001b[0m\u001b[0;34m,\u001b[0m\u001b[0;34m\u001b[0m\u001b[0;34m\u001b[0m\u001b[0m\n\u001b[1;32m    895\u001b[0m                                \u001b[0mxgb_model\u001b[0m\u001b[0;34m=\u001b[0m\u001b[0mxgb_model\u001b[0m\u001b[0;34m,\u001b[0m\u001b[0;34m\u001b[0m\u001b[0;34m\u001b[0m\u001b[0m\n\u001b[0;32m--> 896\u001b[0;31m                                callbacks=callbacks)\n\u001b[0m\u001b[1;32m    897\u001b[0m             ret: Optional[Dict[str, Union[Booster, Dict]]] = {\n\u001b[1;32m    898\u001b[0m                 'booster': bst, 'history': local_history}\n",
      "\u001b[0;32m~/miniconda3/envs/venv_01/lib/python3.7/site-packages/xgboost/training.py\u001b[0m in \u001b[0;36mtrain\u001b[0;34m()\u001b[0m\n\u001b[1;32m    194\u001b[0m                           \u001b[0mevals_result\u001b[0m\u001b[0;34m=\u001b[0m\u001b[0mevals_result\u001b[0m\u001b[0;34m,\u001b[0m\u001b[0;34m\u001b[0m\u001b[0;34m\u001b[0m\u001b[0m\n\u001b[1;32m    195\u001b[0m                           \u001b[0mmaximize\u001b[0m\u001b[0;34m=\u001b[0m\u001b[0mmaximize\u001b[0m\u001b[0;34m,\u001b[0m\u001b[0;34m\u001b[0m\u001b[0;34m\u001b[0m\u001b[0m\n\u001b[0;32m--> 196\u001b[0;31m                           early_stopping_rounds=early_stopping_rounds)\n\u001b[0m\u001b[1;32m    197\u001b[0m     \u001b[0;32mreturn\u001b[0m \u001b[0mbst\u001b[0m\u001b[0;34m\u001b[0m\u001b[0;34m\u001b[0m\u001b[0m\n\u001b[1;32m    198\u001b[0m \u001b[0;34m\u001b[0m\u001b[0m\n",
      "\u001b[0;32m~/miniconda3/envs/venv_01/lib/python3.7/site-packages/xgboost/training.py\u001b[0m in \u001b[0;36m_train_internal\u001b[0;34m()\u001b[0m\n\u001b[1;32m     79\u001b[0m         \u001b[0;32mif\u001b[0m \u001b[0mcallbacks\u001b[0m\u001b[0;34m.\u001b[0m\u001b[0mbefore_iteration\u001b[0m\u001b[0;34m(\u001b[0m\u001b[0mbst\u001b[0m\u001b[0;34m,\u001b[0m \u001b[0mi\u001b[0m\u001b[0;34m,\u001b[0m \u001b[0mdtrain\u001b[0m\u001b[0;34m,\u001b[0m \u001b[0mevals\u001b[0m\u001b[0;34m)\u001b[0m\u001b[0;34m:\u001b[0m\u001b[0;34m\u001b[0m\u001b[0;34m\u001b[0m\u001b[0m\n\u001b[1;32m     80\u001b[0m             \u001b[0;32mbreak\u001b[0m\u001b[0;34m\u001b[0m\u001b[0;34m\u001b[0m\u001b[0m\n\u001b[0;32m---> 81\u001b[0;31m         \u001b[0mbst\u001b[0m\u001b[0;34m.\u001b[0m\u001b[0mupdate\u001b[0m\u001b[0;34m(\u001b[0m\u001b[0mdtrain\u001b[0m\u001b[0;34m,\u001b[0m \u001b[0mi\u001b[0m\u001b[0;34m,\u001b[0m \u001b[0mobj\u001b[0m\u001b[0;34m)\u001b[0m\u001b[0;34m\u001b[0m\u001b[0;34m\u001b[0m\u001b[0m\n\u001b[0m\u001b[1;32m     82\u001b[0m         \u001b[0;32mif\u001b[0m \u001b[0mcallbacks\u001b[0m\u001b[0;34m.\u001b[0m\u001b[0mafter_iteration\u001b[0m\u001b[0;34m(\u001b[0m\u001b[0mbst\u001b[0m\u001b[0;34m,\u001b[0m \u001b[0mi\u001b[0m\u001b[0;34m,\u001b[0m \u001b[0mdtrain\u001b[0m\u001b[0;34m,\u001b[0m \u001b[0mevals\u001b[0m\u001b[0;34m)\u001b[0m\u001b[0;34m:\u001b[0m\u001b[0;34m\u001b[0m\u001b[0;34m\u001b[0m\u001b[0m\n\u001b[1;32m     83\u001b[0m             \u001b[0;32mbreak\u001b[0m\u001b[0;34m\u001b[0m\u001b[0;34m\u001b[0m\u001b[0m\n",
      "\u001b[0;32m~/miniconda3/envs/venv_01/lib/python3.7/site-packages/xgboost/core.py\u001b[0m in \u001b[0;36mupdate\u001b[0;34m()\u001b[0m\n\u001b[1;32m   1680\u001b[0m             _check_call(_LIB.XGBoosterUpdateOneIter(self.handle,\n\u001b[1;32m   1681\u001b[0m                                                     \u001b[0mctypes\u001b[0m\u001b[0;34m.\u001b[0m\u001b[0mc_int\u001b[0m\u001b[0;34m(\u001b[0m\u001b[0miteration\u001b[0m\u001b[0;34m)\u001b[0m\u001b[0;34m,\u001b[0m\u001b[0;34m\u001b[0m\u001b[0;34m\u001b[0m\u001b[0m\n\u001b[0;32m-> 1682\u001b[0;31m                                                     dtrain.handle))\n\u001b[0m\u001b[1;32m   1683\u001b[0m         \u001b[0;32melse\u001b[0m\u001b[0;34m:\u001b[0m\u001b[0;34m\u001b[0m\u001b[0;34m\u001b[0m\u001b[0m\n\u001b[1;32m   1684\u001b[0m             \u001b[0mpred\u001b[0m \u001b[0;34m=\u001b[0m \u001b[0mself\u001b[0m\u001b[0;34m.\u001b[0m\u001b[0mpredict\u001b[0m\u001b[0;34m(\u001b[0m\u001b[0mdtrain\u001b[0m\u001b[0;34m,\u001b[0m \u001b[0moutput_margin\u001b[0m\u001b[0;34m=\u001b[0m\u001b[0;32mTrue\u001b[0m\u001b[0;34m,\u001b[0m \u001b[0mtraining\u001b[0m\u001b[0;34m=\u001b[0m\u001b[0;32mTrue\u001b[0m\u001b[0;34m)\u001b[0m\u001b[0;34m\u001b[0m\u001b[0;34m\u001b[0m\u001b[0m\n",
      "\u001b[0;32m~/miniconda3/envs/venv_01/lib/python3.7/site-packages/xgboost/core.py\u001b[0m in \u001b[0;36m_check_call\u001b[0;34m()\u001b[0m\n\u001b[1;32m    216\u001b[0m     \"\"\"\n\u001b[1;32m    217\u001b[0m     \u001b[0;32mif\u001b[0m \u001b[0mret\u001b[0m \u001b[0;34m!=\u001b[0m \u001b[0;36m0\u001b[0m\u001b[0;34m:\u001b[0m\u001b[0;34m\u001b[0m\u001b[0;34m\u001b[0m\u001b[0m\n\u001b[0;32m--> 218\u001b[0;31m         \u001b[0;32mraise\u001b[0m \u001b[0mXGBoostError\u001b[0m\u001b[0;34m(\u001b[0m\u001b[0mpy_str\u001b[0m\u001b[0;34m(\u001b[0m\u001b[0m_LIB\u001b[0m\u001b[0;34m.\u001b[0m\u001b[0mXGBGetLastError\u001b[0m\u001b[0;34m(\u001b[0m\u001b[0;34m)\u001b[0m\u001b[0;34m)\u001b[0m\u001b[0;34m)\u001b[0m\u001b[0;34m\u001b[0m\u001b[0;34m\u001b[0m\u001b[0m\n\u001b[0m\u001b[1;32m    219\u001b[0m \u001b[0;34m\u001b[0m\u001b[0m\n\u001b[1;32m    220\u001b[0m \u001b[0;34m\u001b[0m\u001b[0m\n",
      "\u001b[0;31mXGBoostError\u001b[0m: [17:49:43] ../src/tree/updater_gpu_hist.cu:770: Exception in gpu_hist: [17:49:43] ../src/common/device_helpers.cuh:132: NCCL failure :unhandled system error ../src/common/device_helpers.cu(67)\nStack trace:\n  [bt] (0) /home/go/miniconda3/envs/venv_01/lib/python3.7/site-packages/xgboost/lib/libxgboost.so(+0x31ddcd) [0x7f8b7b034dcd]\n  [bt] (1) /home/go/miniconda3/envs/venv_01/lib/python3.7/site-packages/xgboost/lib/libxgboost.so(+0x320f29) [0x7f8b7b037f29]\n  [bt] (2) /home/go/miniconda3/envs/venv_01/lib/python3.7/site-packages/xgboost/lib/libxgboost.so(+0x31f12a) [0x7f8b7b03612a]\n  [bt] (3) /home/go/miniconda3/envs/venv_01/lib/python3.7/site-packages/xgboost/lib/libxgboost.so(+0x4d7f42) [0x7f8b7b1eef42]\n  [bt] (4) /home/go/miniconda3/envs/venv_01/lib/python3.7/site-packages/xgboost/lib/libxgboost.so(+0x4e1d26) [0x7f8b7b1f8d26]\n  [bt] (5) /home/go/miniconda3/envs/venv_01/lib/python3.7/site-packages/xgboost/lib/libxgboost.so(+0x17d683) [0x7f8b7ae94683]\n  [bt] (6) /home/go/miniconda3/envs/venv_01/lib/python3.7/site-packages/xgboost/lib/libxgboost.so(+0x17e4ac) [0x7f8b7ae954ac]\n  [bt] (7) /home/go/miniconda3/envs/venv_01/lib/python3.7/site-packages/xgboost/lib/libxgboost.so(+0x1b49fa) [0x7f8b7aecb9fa]\n  [bt] (8) /home/go/miniconda3/envs/venv_01/lib/python3.7/site-packages/xgboost/lib/libxgboost.so(XGBoosterUpdateOneIter+0x68) [0x7f8b7adb04f8]\n\n\n\nStack trace:\n  [bt] (0) /home/go/miniconda3/envs/venv_01/lib/python3.7/site-packages/xgboost/lib/libxgboost.so(+0x4c2fe9) [0x7f8b7b1d9fe9]\n  [bt] (1) /home/go/miniconda3/envs/venv_01/lib/python3.7/site-packages/xgboost/lib/libxgboost.so(+0x4e207f) [0x7f8b7b1f907f]\n  [bt] (2) /home/go/miniconda3/envs/venv_01/lib/python3.7/site-packages/xgboost/lib/libxgboost.so(+0x17d683) [0x7f8b7ae94683]\n  [bt] (3) /home/go/miniconda3/envs/venv_01/lib/python3.7/site-packages/xgboost/lib/libxgboost.so(+0x17e4ac) [0x7f8b7ae954ac]\n  [bt] (4) /home/go/miniconda3/envs/venv_01/lib/python3.7/site-packages/xgboost/lib/libxgboost.so(+0x1b49fa) [0x7f8b7aecb9fa]\n  [bt] (5) /home/go/miniconda3/envs/venv_01/lib/python3.7/site-packages/xgboost/lib/libxgboost.so(XGBoosterUpdateOneIter+0x68) [0x7f8b7adb04f8]\n  [bt] (6) /home/go/miniconda3/envs/venv_01/lib/python3.7/lib-dynload/../../libffi.so.7(+0x69dd) [0x7f8c6ac759dd]\n  [bt] (7) /home/go/miniconda3/envs/venv_01/lib/python3.7/lib-dynload/../../libffi.so.7(+0x6067) [0x7f8c6ac75067]\n  [bt] (8) /home/go/miniconda3/envs/venv_01/lib/python3.7/lib-dynload/_ctypes.cpython-37m-x86_64-linux-gnu.so(_ctypes_callproc+0x2e7) [0x7f8c6ac8d3a7]\n\n"
     ]
    }
   ],
   "source": [
    "%%time\n",
    "from dask.distributed import Client, LocalCluster\n",
    "#http://localhost:3258/status\n",
    "if __name__ == \"__main__\":\n",
    "    with LocalCluster(dashboard_address=':3258') as cluster:\n",
    "        with Client(cluster) as client:\n",
    "            print(client)\n",
    "            # X and y must be Dask dataframes or arrays\n",
    "            params = {\"verbosity\": 0, \n",
    "            \"tree_method\": \"gpu_hist\", \n",
    "            \"objective\": 'multi:softmax',\n",
    "            \"num_class\":len(label_description),\n",
    "            }\n",
    "\n",
    "           \n",
    "            start = time.time()\n",
    "            dtrain = xgb.dask.DaskDMatrix(client, X,y)\n",
    "            out = xgb.dask.train(\n",
    "                client,\n",
    "                params,\n",
    "                dtrain,\n",
    "                num_boost_round=4,\n",
    "                evals=[(dtrain, \"train\")],\n",
    "            )\n",
    "            print(time.time()-start)\n",
    "            y_pred = xgb.dask.predict(client,out,X_test).compute()\n",
    "            "
   ]
  },
  {
   "cell_type": "code",
   "execution_count": null,
   "metadata": {},
   "outputs": [],
   "source": [
    "from sklearn.metrics import f1_score\n",
    "f1_score(y_test, y_pred,average='macro')"
   ]
  },
  {
   "cell_type": "code",
   "execution_count": 98,
   "metadata": {},
   "outputs": [
    {
     "name": "stderr",
     "output_type": "stream",
     "text": [
      "/home/go/miniconda3/envs/venv_01/lib/python3.7/site-packages/dask_cuda/utils.py:216: UserWarning: Cannot get CPU affinity for device with index 0, setting default affinity\n",
      "  % device_index\n",
      "distributed.preloading - INFO - Import preload module: dask_cuda.initialize\n"
     ]
    },
    {
     "name": "stdout",
     "output_type": "stream",
     "text": [
      "<Client: 'tcp://127.0.0.1:41617' processes=1 threads=1, memory=24.59 GiB>\n"
     ]
    },
    {
     "name": "stderr",
     "output_type": "stream",
     "text": [
      "[17:49:57] task [xgboost.dask]:tcp://127.0.0.1:40155 got new rank 0\n"
     ]
    },
    {
     "name": "stdout",
     "output_type": "stream",
     "text": [
      "[0]\ttrain-mlogloss:0.63510\n",
      "[1]\ttrain-mlogloss:0.36299\n",
      "[2]\ttrain-mlogloss:0.26461\n",
      "[3]\ttrain-mlogloss:0.20724\n",
      "23.923319339752197\n"
     ]
    }
   ],
   "source": [
    "from dask.distributed import Client, LocalCluster\n",
    "from dask_cuda import LocalCUDACluster\n",
    "#http://localhost:3258/status\n",
    "\n",
    "if __name__ == \"__main__\":\n",
    "    with LocalCUDACluster(dashboard_address=':3258') as cluster:\n",
    "        with Client(cluster) as client:\n",
    "            print(client)\n",
    "            # X and y must be Dask dataframes or arrays\n",
    "            params = {\"verbosity\": 0, \n",
    "            \"tree_method\": \"hist\", \n",
    "            \"objective\": 'multi:softmax',\n",
    "            \"num_class\":len(label_description),\n",
    "            }\n",
    "\n",
    "           \n",
    "            start = time.time()\n",
    "            dtrain = xgb.dask.DaskDMatrix(client, X,y)\n",
    "            out = xgb.dask.train(\n",
    "                client,\n",
    "                params,\n",
    "                dtrain,\n",
    "                num_boost_round=4,\n",
    "                evals=[(dtrain, \"train\")],\n",
    "            )\n",
    "            print(time.time()-start)\n",
    "            y_pred = xgb.dask.predict(client,out,X_test).compute()\n",
    "            "
   ]
  },
  {
   "cell_type": "code",
   "execution_count": 99,
   "metadata": {},
   "outputs": [
    {
     "data": {
      "text/plain": [
       "0.7776970006305945"
      ]
     },
     "execution_count": 99,
     "metadata": {},
     "output_type": "execute_result"
    }
   ],
   "source": [
    "from sklearn.metrics import f1_score\n",
    "f1_score(y_test, y_pred,average='macro')"
   ]
  },
  {
   "cell_type": "code",
   "execution_count": null,
   "metadata": {},
   "outputs": [],
   "source": []
  },
  {
   "cell_type": "markdown",
   "metadata": {},
   "source": [
    "## csv셋 xgb.dask, numboost 10"
   ]
  },
  {
   "cell_type": "code",
   "execution_count": null,
   "metadata": {},
   "outputs": [],
   "source": [
    "%%time\n",
    "from dask.distributed import Client, LocalCluster\n",
    "from dask_cuda import LocalCUDACluster\n",
    "#http://localhost:3258/status\n",
    "\n",
    "if __name__ == \"__main__\":\n",
    "    with LocalCluster(dashboard_address=':3258') as cluster:\n",
    "        with Client(cluster) as client:\n",
    "            row_csv = dd.read_csv(os.path.join(path,\"data\",\"train\",\"*\",\"*.csv\"),dtype={'외부 누적일사 평균': 'object','내부 이슬점 최고': 'object',\n",
    "                '내부 이슬점 최저': 'object',\n",
    "                '내부 이슬점 평균': 'object'})\n",
    "            partitions = row_csv.to_delayed()\n",
    "            # datas = [padding(part.drop_duplicates(subset=['측정시각'])[csv_features].values,290,9) for part in partitions]\n",
    "            datas = [padding(part.drop_duplicates(subset=['측정시각'])[csv_features][part != \"-\"].dropna().values,290,9) for part in partitions[:]]\n",
    "            X_train = da.array(dask.compute(*datas))"
   ]
  },
  {
   "cell_type": "code",
   "execution_count": null,
   "metadata": {},
   "outputs": [],
   "source": [
    "X_train = X_train.reshape(5767,-1)"
   ]
  },
  {
   "cell_type": "code",
   "execution_count": null,
   "metadata": {},
   "outputs": [
    {
     "data": {
      "text/html": [
       "<table>\n",
       "    <tr>\n",
       "        <td>\n",
       "            <table>\n",
       "                <thead>\n",
       "                    <tr>\n",
       "                        <td> </td>\n",
       "                        <th> Array </th>\n",
       "                        <th> Chunk </th>\n",
       "                    </tr>\n",
       "                </thead>\n",
       "                <tbody>\n",
       "                    \n",
       "                    <tr>\n",
       "                        <th> Bytes </th>\n",
       "                        <td> 114.84 MiB </td>\n",
       "                        <td> 114.84 MiB </td>\n",
       "                    </tr>\n",
       "                    \n",
       "                    <tr>\n",
       "                        <th> Shape </th>\n",
       "                        <td> (5767, 2610) </td>\n",
       "                        <td> (5767, 2610) </td>\n",
       "                    </tr>\n",
       "                    <tr>\n",
       "                        <th> Count </th>\n",
       "                        <td> 2 Tasks </td>\n",
       "                        <td> 1 Chunks </td>\n",
       "                    </tr>\n",
       "                    <tr>\n",
       "                    <th> Type </th>\n",
       "                    <td> float64 </td>\n",
       "                    <td> numpy.ndarray </td>\n",
       "                    </tr>\n",
       "                </tbody>\n",
       "            </table>\n",
       "        </td>\n",
       "        <td>\n",
       "        <svg width=\"104\" height=\"170\" style=\"stroke:rgb(0,0,0);stroke-width:1\" >\n",
       "\n",
       "  <!-- Horizontal lines -->\n",
       "  <line x1=\"0\" y1=\"0\" x2=\"54\" y2=\"0\" style=\"stroke-width:2\" />\n",
       "  <line x1=\"0\" y1=\"120\" x2=\"54\" y2=\"120\" style=\"stroke-width:2\" />\n",
       "\n",
       "  <!-- Vertical lines -->\n",
       "  <line x1=\"0\" y1=\"0\" x2=\"0\" y2=\"120\" style=\"stroke-width:2\" />\n",
       "  <line x1=\"54\" y1=\"0\" x2=\"54\" y2=\"120\" style=\"stroke-width:2\" />\n",
       "\n",
       "  <!-- Colored Rectangle -->\n",
       "  <polygon points=\"0.0,0.0 54.30899947979886,0.0 54.30899947979886,120.0 0.0,120.0\" style=\"fill:#ECB172A0;stroke-width:0\"/>\n",
       "\n",
       "  <!-- Text -->\n",
       "  <text x=\"27.154500\" y=\"140.000000\" font-size=\"1.0rem\" font-weight=\"100\" text-anchor=\"middle\" >2610</text>\n",
       "  <text x=\"74.308999\" y=\"60.000000\" font-size=\"1.0rem\" font-weight=\"100\" text-anchor=\"middle\" transform=\"rotate(-90,74.308999,60.000000)\">5767</text>\n",
       "</svg>\n",
       "        </td>\n",
       "    </tr>\n",
       "</table>"
      ],
      "text/plain": [
       "dask.array<reshape, shape=(5767, 2610), dtype=float64, chunksize=(5767, 2610), chunktype=numpy.ndarray>"
      ]
     },
     "metadata": {},
     "output_type": "display_data"
    }
   ],
   "source": [
    "X_train"
   ]
  },
  {
   "cell_type": "code",
   "execution_count": null,
   "metadata": {},
   "outputs": [],
   "source": [
    "X, X_test, y, y_test = train_test_split(X_train, label, test_size=0.2, shuffle= True,stratify=label)"
   ]
  },
  {
   "cell_type": "code",
   "execution_count": 100,
   "metadata": {},
   "outputs": [
    {
     "name": "stdout",
     "output_type": "stream",
     "text": [
      "<Client: 'tcp://127.0.0.1:34739' processes=4 threads=16, memory=24.59 GiB>\n"
     ]
    },
    {
     "name": "stderr",
     "output_type": "stream",
     "text": [
      "[17:51:02] task [xgboost.dask]:tcp://127.0.0.1:33983 got new rank 0\n"
     ]
    },
    {
     "name": "stdout",
     "output_type": "stream",
     "text": [
      "[0]\ttrain-mlogloss:0.63510\n",
      "[1]\ttrain-mlogloss:0.36299\n",
      "[2]\ttrain-mlogloss:0.26461\n",
      "[3]\ttrain-mlogloss:0.20724\n",
      "[4]\ttrain-mlogloss:0.16719\n",
      "[5]\ttrain-mlogloss:0.14720\n"
     ]
    }
   ],
   "source": [
    "%%time\n",
    "from dask.distributed import Client, LocalCluster\n",
    "#http://localhost:3258/status\n",
    "if __name__ == \"__main__\":\n",
    "    with LocalCluster(dashboard_address=':3258') as cluster:\n",
    "        with Client(cluster) as client:\n",
    "            print(client)\n",
    "            # X and y must be Dask dataframes or arrays\n",
    "            params = {\"verbosity\": 0, \n",
    "            \"tree_method\": \"hist\", \n",
    "            \"objective\": 'multi:softmax',\n",
    "            \"num_class\":len(label_description),\n",
    "            }\n",
    "\n",
    "           \n",
    "            start = time.time()\n",
    "            dtrain = xgb.dask.DaskDMatrix(client, X,y)\n",
    "            out = xgb.dask.train(\n",
    "                client,\n",
    "                params,\n",
    "                dtrain,\n",
    "                num_boost_round=10,\n",
    "                evals=[(dtrain, \"train\")],\n",
    "            )\n",
    "            print(time.time()-start)\n",
    "            y_pred = xgb.dask.predict(client,out,X_test).compute()\n",
    "            "
   ]
  },
  {
   "cell_type": "code",
   "execution_count": null,
   "metadata": {},
   "outputs": [
    {
     "data": {
      "text/plain": [
       "0.7776970006305945"
      ]
     },
     "metadata": {},
     "output_type": "display_data"
    }
   ],
   "source": [
    "from sklearn.metrics import f1_score\n",
    "f1_score(y_test, y_pred,average='macro')"
   ]
  },
  {
   "cell_type": "code",
   "execution_count": null,
   "metadata": {},
   "outputs": [
    {
     "name": "stdout",
     "output_type": "stream",
     "text": [
      "<Client: 'tcp://127.0.0.1:35303' processes=4 threads=16, memory=24.59 GiB>\n"
     ]
    },
    {
     "name": "stderr",
     "output_type": "stream",
     "text": [
      "[17:49:43] task [xgboost.dask]:tcp://127.0.0.1:32783 got new rank 0\n",
      "distributed.worker - WARNING - Compute Failed\n",
      "Function:  dispatched_train\n",
      "args:      ('tcp://127.0.0.1:32783', [b'DMLC_NUM_WORKER=1', b'DMLC_TRACKER_URI=172.24.219.36', b'DMLC_TRACKER_PORT=9097', b'DMLC_TASK_ID=[xgboost.dask]:tcp://127.0.0.1:32783'], {'feature_names': None, 'feature_types': None, 'feature_weights': None, 'meta_names': ['labels'], 'missing': None, 'enable_categorical': False, 'parts': [(array([[27.8, 28. , 27.7, ...,  0. ,  0. ,  0. ],\n",
      "       [15.4, 15.7, 15.1, ..., 10.8, 11. , 10.6],\n",
      "       [27.4, 27.6, 27.2, ..., 24. , 24. , 24. ],\n",
      "       ...,\n",
      "       [29.4, 29.6, 29.3, ..., 19.5, 20.5, 19. ],\n",
      "       [18.5, 18.6, 18.4, ..., 10.1, 10.2,  9.9],\n",
      "       [13.4, 13.5, 13.3, ..., 10.6, 10.7, 10.6]]), array([104, 126, 129, ...,  54,  68, 122]))], 'is_quantile': False}, 140692356424400, [({'feature_names': None, 'feature_types': None, 'feature_weights': None, 'meta_names': ['labels'], 'missing': None, 'enable_categorical': False, 'parts': [(array([[27.8, 28. , 27.7, ...,  0. ,  0. ,  0. ],\n",
      "       [15.4, 15.7, 15.1, ..., 10.8, 11. , 10.6],\n",
      "       [27.4, 27.6, 27\n",
      "kwargs:    {}\n",
      "Exception: \"XGBoostError('[17:49:43] ../src/tree/updater_gpu_hist.cu:770: Exception in gpu_hist: [17:49:43] ../src/common/device_helpers.cuh:132: NCCL failure :unhandled system error ../src/common/device_helpers.cu(67)\\\\nStack trace:\\\\n  [bt] (0) /home/go/miniconda3/envs/venv_01/lib/python3.7/site-packages/xgboost/lib/libxgboost.so(+0x31ddcd) [0x7f8b7b034dcd]\\\\n  [bt] (1) /home/go/miniconda3/envs/venv_01/lib/python3.7/site-packages/xgboost/lib/libxgboost.so(+0x320f29) [0x7f8b7b037f29]\\\\n  [bt] (2) /home/go/miniconda3/envs/venv_01/lib/python3.7/site-packages/xgboost/lib/libxgboost.so(+0x31f12a) [0x7f8b7b03612a]\\\\n  [bt] (3) /home/go/miniconda3/envs/venv_01/lib/python3.7/site-packages/xgboost/lib/libxgboost.so(+0x4d7f42) [0x7f8b7b1eef42]\\\\n  [bt] (4) /home/go/miniconda3/envs/venv_01/lib/python3.7/site-packages/xgboost/lib/libxgboost.so(+0x4e1d26) [0x7f8b7b1f8d26]\\\\n  [bt] (5) /home/go/miniconda3/envs/venv_01/lib/python3.7/site-packages/xgboost/lib/libxgboost.so(+0x17d683) [0x7f8b7ae94683]\\\\n  [bt] (6) /home/go/miniconda3/envs/venv_01/lib/python3.7/site-packages/xgboost/lib/libxgboost.so(+0x17e4ac) [0x7f8b7ae954ac]\\\\n  [bt] (7) /home/go/miniconda3/envs/venv_01/lib/python3.7/site-packages/xgboost/lib/libxgboost.so(+0x1b49fa) [0x7f8b7aecb9fa]\\\\n  [bt] (8) /home/go/miniconda3/envs/venv_01/lib/python3.7/site-packages/xgboost/lib/libxgboost.so(XGBoosterUpdateOneIter+0x68) [0x7f8b7adb04f8]\\\\n\\\\n\\\\n\\\\nStack trace:\\\\n  [bt] (0) /home/go/miniconda3/envs/venv_01/lib/python3.7/site-packages/xgboost/lib/libxgboost.so(+0x4c2fe9) [0x7f8b7b1d9fe9]\\\\n  [bt] (1) /home/go/miniconda3/envs/venv_01/lib/python3.7/site-packages/xgboost/lib/libxgboost.so(+0x4e207f) [0x7f8b7b1f907f]\\\\n  [bt] (2) /home/go/miniconda3/envs/venv_01/lib/python3.7/site-packages/xgboost/lib/libxgboost.so(+0x17d683) [0x7f8b7ae94683]\\\\n  [bt] (3) /home/go/miniconda3/envs/venv_01/lib/python3.7/site-packages/xgboost/lib/libxgboost.so(+0x17e4ac) [0x7f8b7ae954ac]\\\\n  [bt] (4) /home/go/miniconda3/envs/venv_01/lib/python3.7/site-packages/xgboost/lib/libxgboost.so(+0x1b49fa) [0x7f8b7aecb9fa]\\\\n  [bt] (5) /home/go/miniconda3/envs/venv_01/lib/python3.7/site-packages/xgboost/lib/libxgboost.so(XGBoosterUpdateOneIter+0x68) [0x7f8b7adb04f8]\\\\n  [bt] (6) /home/go/miniconda3/envs/venv_01/lib/python3.7/lib-dynload/../../libffi.so.7(+0x69dd) [0x7f8c6ac759dd]\\\\n  [bt] (7) /home/go/miniconda3/envs/venv_01/lib/python3.7/lib-dynload/../../libffi.so.7(+0x6067) [0x7f8c6ac75067]\\\\n  [bt] (8) /home/go/miniconda3/envs/venv_01/lib/python3.7/lib-dynload/_ctypes.cpython-37m-x86_64-linux-gnu.so(_ctypes_callproc+0x2e7) [0x7f8c6ac8d3a7]\\\\n\\\\n')\"\n",
      "\n"
     ]
    },
    {
     "ename": "XGBoostError",
     "evalue": "[17:49:43] ../src/tree/updater_gpu_hist.cu:770: Exception in gpu_hist: [17:49:43] ../src/common/device_helpers.cuh:132: NCCL failure :unhandled system error ../src/common/device_helpers.cu(67)\nStack trace:\n  [bt] (0) /home/go/miniconda3/envs/venv_01/lib/python3.7/site-packages/xgboost/lib/libxgboost.so(+0x31ddcd) [0x7f8b7b034dcd]\n  [bt] (1) /home/go/miniconda3/envs/venv_01/lib/python3.7/site-packages/xgboost/lib/libxgboost.so(+0x320f29) [0x7f8b7b037f29]\n  [bt] (2) /home/go/miniconda3/envs/venv_01/lib/python3.7/site-packages/xgboost/lib/libxgboost.so(+0x31f12a) [0x7f8b7b03612a]\n  [bt] (3) /home/go/miniconda3/envs/venv_01/lib/python3.7/site-packages/xgboost/lib/libxgboost.so(+0x4d7f42) [0x7f8b7b1eef42]\n  [bt] (4) /home/go/miniconda3/envs/venv_01/lib/python3.7/site-packages/xgboost/lib/libxgboost.so(+0x4e1d26) [0x7f8b7b1f8d26]\n  [bt] (5) /home/go/miniconda3/envs/venv_01/lib/python3.7/site-packages/xgboost/lib/libxgboost.so(+0x17d683) [0x7f8b7ae94683]\n  [bt] (6) /home/go/miniconda3/envs/venv_01/lib/python3.7/site-packages/xgboost/lib/libxgboost.so(+0x17e4ac) [0x7f8b7ae954ac]\n  [bt] (7) /home/go/miniconda3/envs/venv_01/lib/python3.7/site-packages/xgboost/lib/libxgboost.so(+0x1b49fa) [0x7f8b7aecb9fa]\n  [bt] (8) /home/go/miniconda3/envs/venv_01/lib/python3.7/site-packages/xgboost/lib/libxgboost.so(XGBoosterUpdateOneIter+0x68) [0x7f8b7adb04f8]\n\n\n\nStack trace:\n  [bt] (0) /home/go/miniconda3/envs/venv_01/lib/python3.7/site-packages/xgboost/lib/libxgboost.so(+0x4c2fe9) [0x7f8b7b1d9fe9]\n  [bt] (1) /home/go/miniconda3/envs/venv_01/lib/python3.7/site-packages/xgboost/lib/libxgboost.so(+0x4e207f) [0x7f8b7b1f907f]\n  [bt] (2) /home/go/miniconda3/envs/venv_01/lib/python3.7/site-packages/xgboost/lib/libxgboost.so(+0x17d683) [0x7f8b7ae94683]\n  [bt] (3) /home/go/miniconda3/envs/venv_01/lib/python3.7/site-packages/xgboost/lib/libxgboost.so(+0x17e4ac) [0x7f8b7ae954ac]\n  [bt] (4) /home/go/miniconda3/envs/venv_01/lib/python3.7/site-packages/xgboost/lib/libxgboost.so(+0x1b49fa) [0x7f8b7aecb9fa]\n  [bt] (5) /home/go/miniconda3/envs/venv_01/lib/python3.7/site-packages/xgboost/lib/libxgboost.so(XGBoosterUpdateOneIter+0x68) [0x7f8b7adb04f8]\n  [bt] (6) /home/go/miniconda3/envs/venv_01/lib/python3.7/lib-dynload/../../libffi.so.7(+0x69dd) [0x7f8c6ac759dd]\n  [bt] (7) /home/go/miniconda3/envs/venv_01/lib/python3.7/lib-dynload/../../libffi.so.7(+0x6067) [0x7f8c6ac75067]\n  [bt] (8) /home/go/miniconda3/envs/venv_01/lib/python3.7/lib-dynload/_ctypes.cpython-37m-x86_64-linux-gnu.so(_ctypes_callproc+0x2e7) [0x7f8c6ac8d3a7]\n\n",
     "output_type": "error",
     "traceback": [
      "\u001b[0;31m---------------------------------------------------------------------------\u001b[0m\n",
      "\u001b[0;31mXGBoostError\u001b[0m                              Traceback (most recent call last)\n",
      "\u001b[0;32m<timed exec>\u001b[0m in \u001b[0;36m<module>\u001b[0;34m\u001b[0m\n",
      "\n",
      "\u001b[0;32m~/miniconda3/envs/venv_01/lib/python3.7/site-packages/xgboost/dask.py\u001b[0m in \u001b[0;36mtrain\u001b[0;34m(client, params, dtrain, num_boost_round, evals, obj, feval, early_stopping_rounds, xgb_model, verbose_eval, callbacks)\u001b[0m\n",
      "\u001b[1;32m    979\u001b[0m     \u001b[0mclient\u001b[0m \u001b[0;34m=\u001b[0m \u001b[0m_xgb_get_client\u001b[0m\u001b[0;34m(\u001b[0m\u001b[0mclient\u001b[0m\u001b[0;34m)\u001b[0m\u001b[0;34m\u001b[0m\u001b[0;34m\u001b[0m\u001b[0m\n",
      "\u001b[1;32m    980\u001b[0m     \u001b[0margs\u001b[0m \u001b[0;34m=\u001b[0m \u001b[0mlocals\u001b[0m\u001b[0;34m(\u001b[0m\u001b[0;34m)\u001b[0m\u001b[0;34m\u001b[0m\u001b[0;34m\u001b[0m\u001b[0m\n",
      "\u001b[0;32m--> 981\u001b[0;31m     \u001b[0;32mreturn\u001b[0m \u001b[0mclient\u001b[0m\u001b[0;34m.\u001b[0m\u001b[0msync\u001b[0m\u001b[0;34m(\u001b[0m\u001b[0m_train_async\u001b[0m\u001b[0;34m,\u001b[0m \u001b[0mglobal_config\u001b[0m\u001b[0;34m=\u001b[0m\u001b[0mconfig\u001b[0m\u001b[0;34m.\u001b[0m\u001b[0mget_config\u001b[0m\u001b[0;34m(\u001b[0m\u001b[0;34m)\u001b[0m\u001b[0;34m,\u001b[0m \u001b[0;34m**\u001b[0m\u001b[0margs\u001b[0m\u001b[0;34m)\u001b[0m\u001b[0;34m\u001b[0m\u001b[0;34m\u001b[0m\u001b[0m\n",
      "\u001b[0m\u001b[1;32m    982\u001b[0m \u001b[0;34m\u001b[0m\u001b[0m\n",
      "\u001b[1;32m    983\u001b[0m \u001b[0;34m\u001b[0m\u001b[0m\n",
      "\n",
      "\u001b[0;32m~/miniconda3/envs/venv_01/lib/python3.7/site-packages/distributed/client.py\u001b[0m in \u001b[0;36msync\u001b[0;34m(self, func, asynchronous, callback_timeout, *args, **kwargs)\u001b[0m\n",
      "\u001b[1;32m    867\u001b[0m         \u001b[0;32melse\u001b[0m\u001b[0;34m:\u001b[0m\u001b[0;34m\u001b[0m\u001b[0;34m\u001b[0m\u001b[0m\n",
      "\u001b[1;32m    868\u001b[0m             return sync(\n",
      "\u001b[0;32m--> 869\u001b[0;31m                 \u001b[0mself\u001b[0m\u001b[0;34m.\u001b[0m\u001b[0mloop\u001b[0m\u001b[0;34m,\u001b[0m \u001b[0mfunc\u001b[0m\u001b[0;34m,\u001b[0m \u001b[0;34m*\u001b[0m\u001b[0margs\u001b[0m\u001b[0;34m,\u001b[0m \u001b[0mcallback_timeout\u001b[0m\u001b[0;34m=\u001b[0m\u001b[0mcallback_timeout\u001b[0m\u001b[0;34m,\u001b[0m \u001b[0;34m**\u001b[0m\u001b[0mkwargs\u001b[0m\u001b[0;34m\u001b[0m\u001b[0;34m\u001b[0m\u001b[0m\n",
      "\u001b[0m\u001b[1;32m    870\u001b[0m             )\n",
      "\u001b[1;32m    871\u001b[0m \u001b[0;34m\u001b[0m\u001b[0m\n",
      "\n",
      "\u001b[0;32m~/miniconda3/envs/venv_01/lib/python3.7/site-packages/distributed/utils.py\u001b[0m in \u001b[0;36msync\u001b[0;34m(loop, func, callback_timeout, *args, **kwargs)\u001b[0m\n",
      "\u001b[1;32m    330\u001b[0m     \u001b[0;32mif\u001b[0m \u001b[0merror\u001b[0m\u001b[0;34m[\u001b[0m\u001b[0;36m0\u001b[0m\u001b[0;34m]\u001b[0m\u001b[0;34m:\u001b[0m\u001b[0;34m\u001b[0m\u001b[0;34m\u001b[0m\u001b[0m\n",
      "\u001b[1;32m    331\u001b[0m         \u001b[0mtyp\u001b[0m\u001b[0;34m,\u001b[0m \u001b[0mexc\u001b[0m\u001b[0;34m,\u001b[0m \u001b[0mtb\u001b[0m \u001b[0;34m=\u001b[0m \u001b[0merror\u001b[0m\u001b[0;34m[\u001b[0m\u001b[0;36m0\u001b[0m\u001b[0;34m]\u001b[0m\u001b[0;34m\u001b[0m\u001b[0;34m\u001b[0m\u001b[0m\n",
      "\u001b[0;32m--> 332\u001b[0;31m         \u001b[0;32mraise\u001b[0m \u001b[0mexc\u001b[0m\u001b[0;34m.\u001b[0m\u001b[0mwith_traceback\u001b[0m\u001b[0;34m(\u001b[0m\u001b[0mtb\u001b[0m\u001b[0;34m)\u001b[0m\u001b[0;34m\u001b[0m\u001b[0;34m\u001b[0m\u001b[0m\n",
      "\u001b[0m\u001b[1;32m    333\u001b[0m     \u001b[0;32melse\u001b[0m\u001b[0;34m:\u001b[0m\u001b[0;34m\u001b[0m\u001b[0;34m\u001b[0m\u001b[0m\n",
      "\u001b[1;32m    334\u001b[0m         \u001b[0;32mreturn\u001b[0m \u001b[0mresult\u001b[0m\u001b[0;34m[\u001b[0m\u001b[0;36m0\u001b[0m\u001b[0;34m]\u001b[0m\u001b[0;34m\u001b[0m\u001b[0;34m\u001b[0m\u001b[0m\n",
      "\n",
      "\u001b[0;32m~/miniconda3/envs/venv_01/lib/python3.7/site-packages/distributed/utils.py\u001b[0m in \u001b[0;36mf\u001b[0;34m()\u001b[0m\n",
      "\u001b[1;32m    313\u001b[0m             \u001b[0;32mif\u001b[0m \u001b[0mcallback_timeout\u001b[0m \u001b[0;32mis\u001b[0m \u001b[0;32mnot\u001b[0m \u001b[0;32mNone\u001b[0m\u001b[0;34m:\u001b[0m\u001b[0;34m\u001b[0m\u001b[0;34m\u001b[0m\u001b[0m\n",
      "\u001b[1;32m    314\u001b[0m                 \u001b[0mfuture\u001b[0m \u001b[0;34m=\u001b[0m \u001b[0masyncio\u001b[0m\u001b[0;34m.\u001b[0m\u001b[0mwait_for\u001b[0m\u001b[0;34m(\u001b[0m\u001b[0mfuture\u001b[0m\u001b[0;34m,\u001b[0m \u001b[0mcallback_timeout\u001b[0m\u001b[0;34m)\u001b[0m\u001b[0;34m\u001b[0m\u001b[0;34m\u001b[0m\u001b[0m\n",
      "\u001b[0;32m--> 315\u001b[0;31m             \u001b[0mresult\u001b[0m\u001b[0;34m[\u001b[0m\u001b[0;36m0\u001b[0m\u001b[0;34m]\u001b[0m \u001b[0;34m=\u001b[0m \u001b[0;32myield\u001b[0m \u001b[0mfuture\u001b[0m\u001b[0;34m\u001b[0m\u001b[0;34m\u001b[0m\u001b[0m\n",
      "\u001b[0m\u001b[1;32m    316\u001b[0m         \u001b[0;32mexcept\u001b[0m \u001b[0mException\u001b[0m\u001b[0;34m:\u001b[0m\u001b[0;34m\u001b[0m\u001b[0;34m\u001b[0m\u001b[0m\n",
      "\u001b[1;32m    317\u001b[0m             \u001b[0merror\u001b[0m\u001b[0;34m[\u001b[0m\u001b[0;36m0\u001b[0m\u001b[0;34m]\u001b[0m \u001b[0;34m=\u001b[0m \u001b[0msys\u001b[0m\u001b[0;34m.\u001b[0m\u001b[0mexc_info\u001b[0m\u001b[0;34m(\u001b[0m\u001b[0;34m)\u001b[0m\u001b[0;34m\u001b[0m\u001b[0;34m\u001b[0m\u001b[0m\n",
      "\n",
      "\u001b[0;32m~/miniconda3/envs/venv_01/lib/python3.7/site-packages/tornado/gen.py\u001b[0m in \u001b[0;36mrun\u001b[0;34m(self)\u001b[0m\n",
      "\u001b[1;32m    760\u001b[0m \u001b[0;34m\u001b[0m\u001b[0m\n",
      "\u001b[1;32m    761\u001b[0m                     \u001b[0;32mtry\u001b[0m\u001b[0;34m:\u001b[0m\u001b[0;34m\u001b[0m\u001b[0;34m\u001b[0m\u001b[0m\n",
      "\u001b[0;32m--> 762\u001b[0;31m                         \u001b[0mvalue\u001b[0m \u001b[0;34m=\u001b[0m \u001b[0mfuture\u001b[0m\u001b[0;34m.\u001b[0m\u001b[0mresult\u001b[0m\u001b[0;34m(\u001b[0m\u001b[0;34m)\u001b[0m\u001b[0;34m\u001b[0m\u001b[0;34m\u001b[0m\u001b[0m\n",
      "\u001b[0m\u001b[1;32m    763\u001b[0m                     \u001b[0;32mexcept\u001b[0m \u001b[0mException\u001b[0m\u001b[0;34m:\u001b[0m\u001b[0;34m\u001b[0m\u001b[0;34m\u001b[0m\u001b[0m\n",
      "\u001b[1;32m    764\u001b[0m                         \u001b[0mexc_info\u001b[0m \u001b[0;34m=\u001b[0m \u001b[0msys\u001b[0m\u001b[0;34m.\u001b[0m\u001b[0mexc_info\u001b[0m\u001b[0;34m(\u001b[0m\u001b[0;34m)\u001b[0m\u001b[0;34m\u001b[0m\u001b[0;34m\u001b[0m\u001b[0m\n",
      "\n",
      "\u001b[0;32m~/miniconda3/envs/venv_01/lib/python3.7/site-packages/xgboost/dask.py\u001b[0m in \u001b[0;36m_train_async\u001b[0;34m(client, global_config, params, dtrain, num_boost_round, evals, obj, feval, early_stopping_rounds, verbose_eval, xgb_model, callbacks)\u001b[0m\n",
      "\u001b[1;32m    929\u001b[0m             \u001b[0mfutures\u001b[0m\u001b[0;34m.\u001b[0m\u001b[0mappend\u001b[0m\u001b[0;34m(\u001b[0m\u001b[0mf\u001b[0m\u001b[0;34m)\u001b[0m\u001b[0;34m\u001b[0m\u001b[0;34m\u001b[0m\u001b[0m\n",
      "\u001b[1;32m    930\u001b[0m \u001b[0;34m\u001b[0m\u001b[0m\n",
      "\u001b[0;32m--> 931\u001b[0;31m         \u001b[0mresults\u001b[0m \u001b[0;34m=\u001b[0m \u001b[0;32mawait\u001b[0m \u001b[0mclient\u001b[0m\u001b[0;34m.\u001b[0m\u001b[0mgather\u001b[0m\u001b[0;34m(\u001b[0m\u001b[0mfutures\u001b[0m\u001b[0;34m,\u001b[0m \u001b[0masynchronous\u001b[0m\u001b[0;34m=\u001b[0m\u001b[0;32mTrue\u001b[0m\u001b[0;34m)\u001b[0m\u001b[0;34m\u001b[0m\u001b[0;34m\u001b[0m\u001b[0m\n",
      "\u001b[0m\u001b[1;32m    932\u001b[0m \u001b[0;34m\u001b[0m\u001b[0m\n",
      "\u001b[1;32m    933\u001b[0m         \u001b[0;32mreturn\u001b[0m \u001b[0mlist\u001b[0m\u001b[0;34m(\u001b[0m\u001b[0mfilter\u001b[0m\u001b[0;34m(\u001b[0m\u001b[0;32mlambda\u001b[0m \u001b[0mret\u001b[0m\u001b[0;34m:\u001b[0m \u001b[0mret\u001b[0m \u001b[0;32mis\u001b[0m \u001b[0;32mnot\u001b[0m \u001b[0;32mNone\u001b[0m\u001b[0;34m,\u001b[0m \u001b[0mresults\u001b[0m\u001b[0;34m)\u001b[0m\u001b[0;34m)\u001b[0m\u001b[0;34m[\u001b[0m\u001b[0;36m0\u001b[0m\u001b[0;34m]\u001b[0m\u001b[0;34m\u001b[0m\u001b[0;34m\u001b[0m\u001b[0m\n",
      "\n",
      "\u001b[0;32m~/miniconda3/envs/venv_01/lib/python3.7/site-packages/distributed/client.py\u001b[0m in \u001b[0;36m_gather\u001b[0;34m(self, futures, errors, direct, local_worker)\u001b[0m\n",
      "\u001b[1;32m   1843\u001b[0m                             \u001b[0mexc\u001b[0m \u001b[0;34m=\u001b[0m \u001b[0mCancelledError\u001b[0m\u001b[0;34m(\u001b[0m\u001b[0mkey\u001b[0m\u001b[0;34m)\u001b[0m\u001b[0;34m\u001b[0m\u001b[0;34m\u001b[0m\u001b[0m\n",
      "\u001b[1;32m   1844\u001b[0m                         \u001b[0;32melse\u001b[0m\u001b[0;34m:\u001b[0m\u001b[0;34m\u001b[0m\u001b[0;34m\u001b[0m\u001b[0m\n",
      "\u001b[0;32m-> 1845\u001b[0;31m                             \u001b[0;32mraise\u001b[0m \u001b[0mexception\u001b[0m\u001b[0;34m.\u001b[0m\u001b[0mwith_traceback\u001b[0m\u001b[0;34m(\u001b[0m\u001b[0mtraceback\u001b[0m\u001b[0;34m)\u001b[0m\u001b[0;34m\u001b[0m\u001b[0;34m\u001b[0m\u001b[0m\n",
      "\u001b[0m\u001b[1;32m   1846\u001b[0m                         \u001b[0;32mraise\u001b[0m \u001b[0mexc\u001b[0m\u001b[0;34m\u001b[0m\u001b[0;34m\u001b[0m\u001b[0m\n",
      "\u001b[1;32m   1847\u001b[0m                     \u001b[0;32mif\u001b[0m \u001b[0merrors\u001b[0m \u001b[0;34m==\u001b[0m \u001b[0;34m\"skip\"\u001b[0m\u001b[0;34m:\u001b[0m\u001b[0;34m\u001b[0m\u001b[0;34m\u001b[0m\u001b[0m\n",
      "\n",
      "\u001b[0;32m~/miniconda3/envs/venv_01/lib/python3.7/site-packages/xgboost/dask.py\u001b[0m in \u001b[0;36mdispatched_train\u001b[0;34m()\u001b[0m\n",
      "\u001b[1;32m    894\u001b[0m                                \u001b[0mverbose_eval\u001b[0m\u001b[0;34m=\u001b[0m\u001b[0mverbose_eval\u001b[0m\u001b[0;34m,\u001b[0m\u001b[0;34m\u001b[0m\u001b[0;34m\u001b[0m\u001b[0m\n",
      "\u001b[1;32m    895\u001b[0m                                \u001b[0mxgb_model\u001b[0m\u001b[0;34m=\u001b[0m\u001b[0mxgb_model\u001b[0m\u001b[0;34m,\u001b[0m\u001b[0;34m\u001b[0m\u001b[0;34m\u001b[0m\u001b[0m\n",
      "\u001b[0;32m--> 896\u001b[0;31m                                callbacks=callbacks)\n",
      "\u001b[0m\u001b[1;32m    897\u001b[0m             ret: Optional[Dict[str, Union[Booster, Dict]]] = {\n",
      "\u001b[1;32m    898\u001b[0m                 'booster': bst, 'history': local_history}\n",
      "\n",
      "\u001b[0;32m~/miniconda3/envs/venv_01/lib/python3.7/site-packages/xgboost/training.py\u001b[0m in \u001b[0;36mtrain\u001b[0;34m()\u001b[0m\n",
      "\u001b[1;32m    194\u001b[0m                           \u001b[0mevals_result\u001b[0m\u001b[0;34m=\u001b[0m\u001b[0mevals_result\u001b[0m\u001b[0;34m,\u001b[0m\u001b[0;34m\u001b[0m\u001b[0;34m\u001b[0m\u001b[0m\n",
      "\u001b[1;32m    195\u001b[0m                           \u001b[0mmaximize\u001b[0m\u001b[0;34m=\u001b[0m\u001b[0mmaximize\u001b[0m\u001b[0;34m,\u001b[0m\u001b[0;34m\u001b[0m\u001b[0;34m\u001b[0m\u001b[0m\n",
      "\u001b[0;32m--> 196\u001b[0;31m                           early_stopping_rounds=early_stopping_rounds)\n",
      "\u001b[0m\u001b[1;32m    197\u001b[0m     \u001b[0;32mreturn\u001b[0m \u001b[0mbst\u001b[0m\u001b[0;34m\u001b[0m\u001b[0;34m\u001b[0m\u001b[0m\n",
      "\u001b[1;32m    198\u001b[0m \u001b[0;34m\u001b[0m\u001b[0m\n",
      "\n",
      "\u001b[0;32m~/miniconda3/envs/venv_01/lib/python3.7/site-packages/xgboost/training.py\u001b[0m in \u001b[0;36m_train_internal\u001b[0;34m()\u001b[0m\n",
      "\u001b[1;32m     79\u001b[0m         \u001b[0;32mif\u001b[0m \u001b[0mcallbacks\u001b[0m\u001b[0;34m.\u001b[0m\u001b[0mbefore_iteration\u001b[0m\u001b[0;34m(\u001b[0m\u001b[0mbst\u001b[0m\u001b[0;34m,\u001b[0m \u001b[0mi\u001b[0m\u001b[0;34m,\u001b[0m \u001b[0mdtrain\u001b[0m\u001b[0;34m,\u001b[0m \u001b[0mevals\u001b[0m\u001b[0;34m)\u001b[0m\u001b[0;34m:\u001b[0m\u001b[0;34m\u001b[0m\u001b[0;34m\u001b[0m\u001b[0m\n",
      "\u001b[1;32m     80\u001b[0m             \u001b[0;32mbreak\u001b[0m\u001b[0;34m\u001b[0m\u001b[0;34m\u001b[0m\u001b[0m\n",
      "\u001b[0;32m---> 81\u001b[0;31m         \u001b[0mbst\u001b[0m\u001b[0;34m.\u001b[0m\u001b[0mupdate\u001b[0m\u001b[0;34m(\u001b[0m\u001b[0mdtrain\u001b[0m\u001b[0;34m,\u001b[0m \u001b[0mi\u001b[0m\u001b[0;34m,\u001b[0m \u001b[0mobj\u001b[0m\u001b[0;34m)\u001b[0m\u001b[0;34m\u001b[0m\u001b[0;34m\u001b[0m\u001b[0m\n",
      "\u001b[0m\u001b[1;32m     82\u001b[0m         \u001b[0;32mif\u001b[0m \u001b[0mcallbacks\u001b[0m\u001b[0;34m.\u001b[0m\u001b[0mafter_iteration\u001b[0m\u001b[0;34m(\u001b[0m\u001b[0mbst\u001b[0m\u001b[0;34m,\u001b[0m \u001b[0mi\u001b[0m\u001b[0;34m,\u001b[0m \u001b[0mdtrain\u001b[0m\u001b[0;34m,\u001b[0m \u001b[0mevals\u001b[0m\u001b[0;34m)\u001b[0m\u001b[0;34m:\u001b[0m\u001b[0;34m\u001b[0m\u001b[0;34m\u001b[0m\u001b[0m\n",
      "\u001b[1;32m     83\u001b[0m             \u001b[0;32mbreak\u001b[0m\u001b[0;34m\u001b[0m\u001b[0;34m\u001b[0m\u001b[0m\n",
      "\n",
      "\u001b[0;32m~/miniconda3/envs/venv_01/lib/python3.7/site-packages/xgboost/core.py\u001b[0m in \u001b[0;36mupdate\u001b[0;34m()\u001b[0m\n",
      "\u001b[1;32m   1680\u001b[0m             _check_call(_LIB.XGBoosterUpdateOneIter(self.handle,\n",
      "\u001b[1;32m   1681\u001b[0m                                                     \u001b[0mctypes\u001b[0m\u001b[0;34m.\u001b[0m\u001b[0mc_int\u001b[0m\u001b[0;34m(\u001b[0m\u001b[0miteration\u001b[0m\u001b[0;34m)\u001b[0m\u001b[0;34m,\u001b[0m\u001b[0;34m\u001b[0m\u001b[0;34m\u001b[0m\u001b[0m\n",
      "\u001b[0;32m-> 1682\u001b[0;31m                                                     dtrain.handle))\n",
      "\u001b[0m\u001b[1;32m   1683\u001b[0m         \u001b[0;32melse\u001b[0m\u001b[0;34m:\u001b[0m\u001b[0;34m\u001b[0m\u001b[0;34m\u001b[0m\u001b[0m\n",
      "\u001b[1;32m   1684\u001b[0m             \u001b[0mpred\u001b[0m \u001b[0;34m=\u001b[0m \u001b[0mself\u001b[0m\u001b[0;34m.\u001b[0m\u001b[0mpredict\u001b[0m\u001b[0;34m(\u001b[0m\u001b[0mdtrain\u001b[0m\u001b[0;34m,\u001b[0m \u001b[0moutput_margin\u001b[0m\u001b[0;34m=\u001b[0m\u001b[0;32mTrue\u001b[0m\u001b[0;34m,\u001b[0m \u001b[0mtraining\u001b[0m\u001b[0;34m=\u001b[0m\u001b[0;32mTrue\u001b[0m\u001b[0;34m)\u001b[0m\u001b[0;34m\u001b[0m\u001b[0;34m\u001b[0m\u001b[0m\n",
      "\n",
      "\u001b[0;32m~/miniconda3/envs/venv_01/lib/python3.7/site-packages/xgboost/core.py\u001b[0m in \u001b[0;36m_check_call\u001b[0;34m()\u001b[0m\n",
      "\u001b[1;32m    216\u001b[0m     \"\"\"\n",
      "\u001b[1;32m    217\u001b[0m     \u001b[0;32mif\u001b[0m \u001b[0mret\u001b[0m \u001b[0;34m!=\u001b[0m \u001b[0;36m0\u001b[0m\u001b[0;34m:\u001b[0m\u001b[0;34m\u001b[0m\u001b[0;34m\u001b[0m\u001b[0m\n",
      "\u001b[0;32m--> 218\u001b[0;31m         \u001b[0;32mraise\u001b[0m \u001b[0mXGBoostError\u001b[0m\u001b[0;34m(\u001b[0m\u001b[0mpy_str\u001b[0m\u001b[0;34m(\u001b[0m\u001b[0m_LIB\u001b[0m\u001b[0;34m.\u001b[0m\u001b[0mXGBGetLastError\u001b[0m\u001b[0;34m(\u001b[0m\u001b[0;34m)\u001b[0m\u001b[0;34m)\u001b[0m\u001b[0;34m)\u001b[0m\u001b[0;34m\u001b[0m\u001b[0;34m\u001b[0m\u001b[0m\n",
      "\u001b[0m\u001b[1;32m    219\u001b[0m \u001b[0;34m\u001b[0m\u001b[0m\n",
      "\u001b[1;32m    220\u001b[0m \u001b[0;34m\u001b[0m\u001b[0m\n",
      "\n",
      "\u001b[0;31mXGBoostError\u001b[0m: [17:49:43] ../src/tree/updater_gpu_hist.cu:770: Exception in gpu_hist: [17:49:43] ../src/common/device_helpers.cuh:132: NCCL failure :unhandled system error ../src/common/device_helpers.cu(67)\n",
      "Stack trace:\n",
      "  [bt] (0) /home/go/miniconda3/envs/venv_01/lib/python3.7/site-packages/xgboost/lib/libxgboost.so(+0x31ddcd) [0x7f8b7b034dcd]\n",
      "  [bt] (1) /home/go/miniconda3/envs/venv_01/lib/python3.7/site-packages/xgboost/lib/libxgboost.so(+0x320f29) [0x7f8b7b037f29]\n",
      "  [bt] (2) /home/go/miniconda3/envs/venv_01/lib/python3.7/site-packages/xgboost/lib/libxgboost.so(+0x31f12a) [0x7f8b7b03612a]\n",
      "  [bt] (3) /home/go/miniconda3/envs/venv_01/lib/python3.7/site-packages/xgboost/lib/libxgboost.so(+0x4d7f42) [0x7f8b7b1eef42]\n",
      "  [bt] (4) /home/go/miniconda3/envs/venv_01/lib/python3.7/site-packages/xgboost/lib/libxgboost.so(+0x4e1d26) [0x7f8b7b1f8d26]\n",
      "  [bt] (5) /home/go/miniconda3/envs/venv_01/lib/python3.7/site-packages/xgboost/lib/libxgboost.so(+0x17d683) [0x7f8b7ae94683]\n",
      "  [bt] (6) /home/go/miniconda3/envs/venv_01/lib/python3.7/site-packages/xgboost/lib/libxgboost.so(+0x17e4ac) [0x7f8b7ae954ac]\n",
      "  [bt] (7) /home/go/miniconda3/envs/venv_01/lib/python3.7/site-packages/xgboost/lib/libxgboost.so(+0x1b49fa) [0x7f8b7aecb9fa]\n",
      "  [bt] (8) /home/go/miniconda3/envs/venv_01/lib/python3.7/site-packages/xgboost/lib/libxgboost.so(XGBoosterUpdateOneIter+0x68) [0x7f8b7adb04f8]\n",
      "\n",
      "\n",
      "\n",
      "Stack trace:\n",
      "  [bt] (0) /home/go/miniconda3/envs/venv_01/lib/python3.7/site-packages/xgboost/lib/libxgboost.so(+0x4c2fe9) [0x7f8b7b1d9fe9]\n",
      "  [bt] (1) /home/go/miniconda3/envs/venv_01/lib/python3.7/site-packages/xgboost/lib/libxgboost.so(+0x4e207f) [0x7f8b7b1f907f]\n",
      "  [bt] (2) /home/go/miniconda3/envs/venv_01/lib/python3.7/site-packages/xgboost/lib/libxgboost.so(+0x17d683) [0x7f8b7ae94683]\n",
      "  [bt] (3) /home/go/miniconda3/envs/venv_01/lib/python3.7/site-packages/xgboost/lib/libxgboost.so(+0x17e4ac) [0x7f8b7ae954ac]\n",
      "  [bt] (4) /home/go/miniconda3/envs/venv_01/lib/python3.7/site-packages/xgboost/lib/libxgboost.so(+0x1b49fa) [0x7f8b7aecb9fa]\n",
      "  [bt] (5) /home/go/miniconda3/envs/venv_01/lib/python3.7/site-packages/xgboost/lib/libxgboost.so(XGBoosterUpdateOneIter+0x68) [0x7f8b7adb04f8]\n",
      "  [bt] (6) /home/go/miniconda3/envs/venv_01/lib/python3.7/lib-dynload/../../libffi.so.7(+0x69dd) [0x7f8c6ac759dd]\n",
      "  [bt] (7) /home/go/miniconda3/envs/venv_01/lib/python3.7/lib-dynload/../../libffi.so.7(+0x6067) [0x7f8c6ac75067]\n",
      "  [bt] (8) /home/go/miniconda3/envs/venv_01/lib/python3.7/lib-dynload/_ctypes.cpython-37m-x86_64-linux-gnu.so(_ctypes_callproc+0x2e7) [0x7f8c6ac8d3a7]\n",
      "\n"
     ]
    }
   ],
   "source": [
    "%%time\n",
    "from dask.distributed import Client, LocalCluster\n",
    "#http://localhost:3258/status\n",
    "if __name__ == \"__main__\":\n",
    "    with LocalCluster(dashboard_address=':3258') as cluster:\n",
    "        with Client(cluster) as client:\n",
    "            print(client)\n",
    "            # X and y must be Dask dataframes or arrays\n",
    "            params = {\"verbosity\": 0, \n",
    "            \"tree_method\": \"gpu_hist\", \n",
    "            \"objective\": 'multi:softmax',\n",
    "            \"num_class\":len(label_description),\n",
    "            }\n",
    "\n",
    "           \n",
    "            start = time.time()\n",
    "            dtrain = xgb.dask.DaskDMatrix(client, X,y)\n",
    "            out = xgb.dask.train(\n",
    "                client,\n",
    "                params,\n",
    "                dtrain,\n",
    "                num_boost_round=10,\n",
    "                evals=[(dtrain, \"train\")],\n",
    "            )\n",
    "            print(time.time()-start)\n",
    "            y_pred = xgb.dask.predict(client,out,X_test).compute()\n",
    "            "
   ]
  },
  {
   "cell_type": "code",
   "execution_count": null,
   "metadata": {},
   "outputs": [],
   "source": [
    "from sklearn.metrics import f1_score\n",
    "f1_score(y_test, y_pred,average='macro')"
   ]
  },
  {
   "cell_type": "code",
   "execution_count": null,
   "metadata": {},
   "outputs": [
    {
     "name": "stderr",
     "output_type": "stream",
     "text": [
      "/home/go/miniconda3/envs/venv_01/lib/python3.7/site-packages/dask_cuda/utils.py:216: UserWarning: Cannot get CPU affinity for device with index 0, setting default affinity\n",
      "  % device_index\n",
      "distributed.preloading - INFO - Import preload module: dask_cuda.initialize\n"
     ]
    },
    {
     "name": "stdout",
     "output_type": "stream",
     "text": [
      "<Client: 'tcp://127.0.0.1:41617' processes=1 threads=1, memory=24.59 GiB>\n"
     ]
    },
    {
     "name": "stderr",
     "output_type": "stream",
     "text": [
      "[17:49:57] task [xgboost.dask]:tcp://127.0.0.1:40155 got new rank 0\n"
     ]
    },
    {
     "name": "stdout",
     "output_type": "stream",
     "text": [
      "[0]\ttrain-mlogloss:0.63510\n",
      "[1]\ttrain-mlogloss:0.36299\n",
      "[2]\ttrain-mlogloss:0.26461\n"
     ]
    }
   ],
   "source": [
    "from dask.distributed import Client, LocalCluster\n",
    "from dask_cuda import LocalCUDACluster\n",
    "#http://localhost:3258/status\n",
    "\n",
    "if __name__ == \"__main__\":\n",
    "    with LocalCUDACluster(dashboard_address=':3258') as cluster:\n",
    "        with Client(cluster) as client:\n",
    "            print(client)\n",
    "            # X and y must be Dask dataframes or arrays\n",
    "            params = {\"verbosity\": 0, \n",
    "            \"tree_method\": \"hist\", \n",
    "            \"objective\": 'multi:softmax',\n",
    "            \"num_class\":len(label_description),\n",
    "            }\n",
    "\n",
    "           \n",
    "            start = time.time()\n",
    "            dtrain = xgb.dask.DaskDMatrix(client, X,y)\n",
    "            out = xgb.dask.train(\n",
    "                client,\n",
    "                params,\n",
    "                dtrain,\n",
    "                num_boost_round=10,\n",
    "                evals=[(dtrain, \"train\")],\n",
    "            )\n",
    "            print(time.time()-start)\n",
    "            y_pred = xgb.dask.predict(client,out,X_test).compute()\n",
    "            "
   ]
  },
  {
   "cell_type": "code",
   "execution_count": null,
   "metadata": {},
   "outputs": [],
   "source": [
    "from sklearn.metrics import f1_score\n",
    "f1_score(y_test, y_pred,average='macro')"
   ]
  }
 ],
 "metadata": {
  "interpreter": {
   "hash": "871f54555cea99872dd0d4dae9f0564c182465ef4ad25f9b9b29598b6050c1b3"
  },
  "kernelspec": {
   "display_name": "Python 3.7.11 64-bit ('venv_01': conda)",
   "language": "python",
   "name": "python3"
  },
  "language_info": {
   "codemirror_mode": {
    "name": "ipython",
    "version": 3
   },
   "file_extension": ".py",
   "mimetype": "text/x-python",
   "name": "python",
   "nbconvert_exporter": "python",
   "pygments_lexer": "ipython3",
   "version": "3.7.11"
  },
  "orig_nbformat": 4
 },
 "nbformat": 4,
 "nbformat_minor": 2
}
